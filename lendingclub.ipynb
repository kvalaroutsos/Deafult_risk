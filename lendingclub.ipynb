{
 "cells": [
  {
   "cell_type": "markdown",
   "id": "7d336275",
   "metadata": {},
   "source": [
    "## Data Preparation"
   ]
  },
  {
   "cell_type": "code",
   "execution_count": 1,
   "id": "02941004",
   "metadata": {},
   "outputs": [],
   "source": [
    "import pandas as pd\n",
    "import numpy as np\n",
    "import matplotlib.pyplot as plt\n",
    "import seaborn as sns"
   ]
  },
  {
   "cell_type": "code",
   "execution_count": 2,
   "id": "266e1791",
   "metadata": {},
   "outputs": [
    {
     "name": "stderr",
     "output_type": "stream",
     "text": [
      "C:\\Users\\user\\anaconda3\\lib\\site-packages\\IPython\\core\\interactiveshell.py:3165: DtypeWarning: Columns (20) have mixed types.Specify dtype option on import or set low_memory=False.\n",
      "  has_raised = await self.run_ast_nodes(code_ast.body, cell_name,\n"
     ]
    },
    {
     "data": {
      "text/html": [
       "<div>\n",
       "<style scoped>\n",
       "    .dataframe tbody tr th:only-of-type {\n",
       "        vertical-align: middle;\n",
       "    }\n",
       "\n",
       "    .dataframe tbody tr th {\n",
       "        vertical-align: top;\n",
       "    }\n",
       "\n",
       "    .dataframe thead th {\n",
       "        text-align: right;\n",
       "    }\n",
       "</style>\n",
       "<table border=\"1\" class=\"dataframe\">\n",
       "  <thead>\n",
       "    <tr style=\"text-align: right;\">\n",
       "      <th></th>\n",
       "      <th>id</th>\n",
       "      <th>member_id</th>\n",
       "      <th>loan_amnt</th>\n",
       "      <th>funded_amnt</th>\n",
       "      <th>funded_amnt_inv</th>\n",
       "      <th>term</th>\n",
       "      <th>int_rate</th>\n",
       "      <th>installment</th>\n",
       "      <th>grade</th>\n",
       "      <th>sub_grade</th>\n",
       "      <th>...</th>\n",
       "      <th>total_bal_il</th>\n",
       "      <th>il_util</th>\n",
       "      <th>open_rv_12m</th>\n",
       "      <th>open_rv_24m</th>\n",
       "      <th>max_bal_bc</th>\n",
       "      <th>all_util</th>\n",
       "      <th>total_rev_hi_lim</th>\n",
       "      <th>inq_fi</th>\n",
       "      <th>total_cu_tl</th>\n",
       "      <th>inq_last_12m</th>\n",
       "    </tr>\n",
       "  </thead>\n",
       "  <tbody>\n",
       "    <tr>\n",
       "      <th>0</th>\n",
       "      <td>1077501</td>\n",
       "      <td>1296599</td>\n",
       "      <td>5000</td>\n",
       "      <td>5000</td>\n",
       "      <td>4975.0</td>\n",
       "      <td>36 months</td>\n",
       "      <td>10.65</td>\n",
       "      <td>162.87</td>\n",
       "      <td>B</td>\n",
       "      <td>B2</td>\n",
       "      <td>...</td>\n",
       "      <td>NaN</td>\n",
       "      <td>NaN</td>\n",
       "      <td>NaN</td>\n",
       "      <td>NaN</td>\n",
       "      <td>NaN</td>\n",
       "      <td>NaN</td>\n",
       "      <td>NaN</td>\n",
       "      <td>NaN</td>\n",
       "      <td>NaN</td>\n",
       "      <td>NaN</td>\n",
       "    </tr>\n",
       "    <tr>\n",
       "      <th>1</th>\n",
       "      <td>1077430</td>\n",
       "      <td>1314167</td>\n",
       "      <td>2500</td>\n",
       "      <td>2500</td>\n",
       "      <td>2500.0</td>\n",
       "      <td>60 months</td>\n",
       "      <td>15.27</td>\n",
       "      <td>59.83</td>\n",
       "      <td>C</td>\n",
       "      <td>C4</td>\n",
       "      <td>...</td>\n",
       "      <td>NaN</td>\n",
       "      <td>NaN</td>\n",
       "      <td>NaN</td>\n",
       "      <td>NaN</td>\n",
       "      <td>NaN</td>\n",
       "      <td>NaN</td>\n",
       "      <td>NaN</td>\n",
       "      <td>NaN</td>\n",
       "      <td>NaN</td>\n",
       "      <td>NaN</td>\n",
       "    </tr>\n",
       "    <tr>\n",
       "      <th>2</th>\n",
       "      <td>1077175</td>\n",
       "      <td>1313524</td>\n",
       "      <td>2400</td>\n",
       "      <td>2400</td>\n",
       "      <td>2400.0</td>\n",
       "      <td>36 months</td>\n",
       "      <td>15.96</td>\n",
       "      <td>84.33</td>\n",
       "      <td>C</td>\n",
       "      <td>C5</td>\n",
       "      <td>...</td>\n",
       "      <td>NaN</td>\n",
       "      <td>NaN</td>\n",
       "      <td>NaN</td>\n",
       "      <td>NaN</td>\n",
       "      <td>NaN</td>\n",
       "      <td>NaN</td>\n",
       "      <td>NaN</td>\n",
       "      <td>NaN</td>\n",
       "      <td>NaN</td>\n",
       "      <td>NaN</td>\n",
       "    </tr>\n",
       "    <tr>\n",
       "      <th>3</th>\n",
       "      <td>1076863</td>\n",
       "      <td>1277178</td>\n",
       "      <td>10000</td>\n",
       "      <td>10000</td>\n",
       "      <td>10000.0</td>\n",
       "      <td>36 months</td>\n",
       "      <td>13.49</td>\n",
       "      <td>339.31</td>\n",
       "      <td>C</td>\n",
       "      <td>C1</td>\n",
       "      <td>...</td>\n",
       "      <td>NaN</td>\n",
       "      <td>NaN</td>\n",
       "      <td>NaN</td>\n",
       "      <td>NaN</td>\n",
       "      <td>NaN</td>\n",
       "      <td>NaN</td>\n",
       "      <td>NaN</td>\n",
       "      <td>NaN</td>\n",
       "      <td>NaN</td>\n",
       "      <td>NaN</td>\n",
       "    </tr>\n",
       "    <tr>\n",
       "      <th>4</th>\n",
       "      <td>1075358</td>\n",
       "      <td>1311748</td>\n",
       "      <td>3000</td>\n",
       "      <td>3000</td>\n",
       "      <td>3000.0</td>\n",
       "      <td>60 months</td>\n",
       "      <td>12.69</td>\n",
       "      <td>67.79</td>\n",
       "      <td>B</td>\n",
       "      <td>B5</td>\n",
       "      <td>...</td>\n",
       "      <td>NaN</td>\n",
       "      <td>NaN</td>\n",
       "      <td>NaN</td>\n",
       "      <td>NaN</td>\n",
       "      <td>NaN</td>\n",
       "      <td>NaN</td>\n",
       "      <td>NaN</td>\n",
       "      <td>NaN</td>\n",
       "      <td>NaN</td>\n",
       "      <td>NaN</td>\n",
       "    </tr>\n",
       "  </tbody>\n",
       "</table>\n",
       "<p>5 rows × 74 columns</p>\n",
       "</div>"
      ],
      "text/plain": [
       "        id  member_id  loan_amnt  funded_amnt  funded_amnt_inv        term  \\\n",
       "0  1077501    1296599       5000         5000           4975.0   36 months   \n",
       "1  1077430    1314167       2500         2500           2500.0   60 months   \n",
       "2  1077175    1313524       2400         2400           2400.0   36 months   \n",
       "3  1076863    1277178      10000        10000          10000.0   36 months   \n",
       "4  1075358    1311748       3000         3000           3000.0   60 months   \n",
       "\n",
       "   int_rate  installment grade sub_grade  ... total_bal_il il_util  \\\n",
       "0     10.65       162.87     B        B2  ...          NaN     NaN   \n",
       "1     15.27        59.83     C        C4  ...          NaN     NaN   \n",
       "2     15.96        84.33     C        C5  ...          NaN     NaN   \n",
       "3     13.49       339.31     C        C1  ...          NaN     NaN   \n",
       "4     12.69        67.79     B        B5  ...          NaN     NaN   \n",
       "\n",
       "  open_rv_12m  open_rv_24m max_bal_bc all_util total_rev_hi_lim inq_fi  \\\n",
       "0         NaN          NaN        NaN      NaN              NaN    NaN   \n",
       "1         NaN          NaN        NaN      NaN              NaN    NaN   \n",
       "2         NaN          NaN        NaN      NaN              NaN    NaN   \n",
       "3         NaN          NaN        NaN      NaN              NaN    NaN   \n",
       "4         NaN          NaN        NaN      NaN              NaN    NaN   \n",
       "\n",
       "  total_cu_tl inq_last_12m  \n",
       "0         NaN          NaN  \n",
       "1         NaN          NaN  \n",
       "2         NaN          NaN  \n",
       "3         NaN          NaN  \n",
       "4         NaN          NaN  \n",
       "\n",
       "[5 rows x 74 columns]"
      ]
     },
     "execution_count": 2,
     "metadata": {},
     "output_type": "execute_result"
    }
   ],
   "source": [
    "data=pd.read_csv('loan_data.csv',index_col=0)\n",
    "data.head()"
   ]
  },
  {
   "cell_type": "code",
   "execution_count": 3,
   "id": "00446525",
   "metadata": {},
   "outputs": [],
   "source": [
    "# Get a security backup\n",
    "data_backup=data.copy()"
   ]
  },
  {
   "cell_type": "markdown",
   "id": "5edf04a4",
   "metadata": {},
   "source": [
    "## Explore data"
   ]
  },
  {
   "cell_type": "code",
   "execution_count": 4,
   "id": "bb18e111",
   "metadata": {},
   "outputs": [],
   "source": [
    "pd.options.display.max_columns= None"
   ]
  },
  {
   "cell_type": "code",
   "execution_count": 5,
   "id": "9864f34f",
   "metadata": {},
   "outputs": [
    {
     "data": {
      "text/html": [
       "<div>\n",
       "<style scoped>\n",
       "    .dataframe tbody tr th:only-of-type {\n",
       "        vertical-align: middle;\n",
       "    }\n",
       "\n",
       "    .dataframe tbody tr th {\n",
       "        vertical-align: top;\n",
       "    }\n",
       "\n",
       "    .dataframe thead th {\n",
       "        text-align: right;\n",
       "    }\n",
       "</style>\n",
       "<table border=\"1\" class=\"dataframe\">\n",
       "  <thead>\n",
       "    <tr style=\"text-align: right;\">\n",
       "      <th></th>\n",
       "      <th>id</th>\n",
       "      <th>member_id</th>\n",
       "      <th>loan_amnt</th>\n",
       "      <th>funded_amnt</th>\n",
       "      <th>funded_amnt_inv</th>\n",
       "      <th>term</th>\n",
       "      <th>int_rate</th>\n",
       "      <th>installment</th>\n",
       "      <th>grade</th>\n",
       "      <th>sub_grade</th>\n",
       "      <th>emp_title</th>\n",
       "      <th>emp_length</th>\n",
       "      <th>home_ownership</th>\n",
       "      <th>annual_inc</th>\n",
       "      <th>verification_status</th>\n",
       "      <th>issue_d</th>\n",
       "      <th>loan_status</th>\n",
       "      <th>pymnt_plan</th>\n",
       "      <th>url</th>\n",
       "      <th>desc</th>\n",
       "      <th>purpose</th>\n",
       "      <th>title</th>\n",
       "      <th>zip_code</th>\n",
       "      <th>addr_state</th>\n",
       "      <th>dti</th>\n",
       "      <th>delinq_2yrs</th>\n",
       "      <th>earliest_cr_line</th>\n",
       "      <th>inq_last_6mths</th>\n",
       "      <th>mths_since_last_delinq</th>\n",
       "      <th>mths_since_last_record</th>\n",
       "      <th>open_acc</th>\n",
       "      <th>pub_rec</th>\n",
       "      <th>revol_bal</th>\n",
       "      <th>revol_util</th>\n",
       "      <th>total_acc</th>\n",
       "      <th>initial_list_status</th>\n",
       "      <th>out_prncp</th>\n",
       "      <th>out_prncp_inv</th>\n",
       "      <th>total_pymnt</th>\n",
       "      <th>total_pymnt_inv</th>\n",
       "      <th>total_rec_prncp</th>\n",
       "      <th>total_rec_int</th>\n",
       "      <th>total_rec_late_fee</th>\n",
       "      <th>recoveries</th>\n",
       "      <th>collection_recovery_fee</th>\n",
       "      <th>last_pymnt_d</th>\n",
       "      <th>last_pymnt_amnt</th>\n",
       "      <th>next_pymnt_d</th>\n",
       "      <th>last_credit_pull_d</th>\n",
       "      <th>collections_12_mths_ex_med</th>\n",
       "      <th>mths_since_last_major_derog</th>\n",
       "      <th>policy_code</th>\n",
       "      <th>application_type</th>\n",
       "      <th>annual_inc_joint</th>\n",
       "      <th>dti_joint</th>\n",
       "      <th>verification_status_joint</th>\n",
       "      <th>acc_now_delinq</th>\n",
       "      <th>tot_coll_amt</th>\n",
       "      <th>tot_cur_bal</th>\n",
       "      <th>open_acc_6m</th>\n",
       "      <th>open_il_6m</th>\n",
       "      <th>open_il_12m</th>\n",
       "      <th>open_il_24m</th>\n",
       "      <th>mths_since_rcnt_il</th>\n",
       "      <th>total_bal_il</th>\n",
       "      <th>il_util</th>\n",
       "      <th>open_rv_12m</th>\n",
       "      <th>open_rv_24m</th>\n",
       "      <th>max_bal_bc</th>\n",
       "      <th>all_util</th>\n",
       "      <th>total_rev_hi_lim</th>\n",
       "      <th>inq_fi</th>\n",
       "      <th>total_cu_tl</th>\n",
       "      <th>inq_last_12m</th>\n",
       "    </tr>\n",
       "  </thead>\n",
       "  <tbody>\n",
       "    <tr>\n",
       "      <th>0</th>\n",
       "      <td>1077501</td>\n",
       "      <td>1296599</td>\n",
       "      <td>5000</td>\n",
       "      <td>5000</td>\n",
       "      <td>4975.0</td>\n",
       "      <td>36 months</td>\n",
       "      <td>10.65</td>\n",
       "      <td>162.87</td>\n",
       "      <td>B</td>\n",
       "      <td>B2</td>\n",
       "      <td>NaN</td>\n",
       "      <td>10+ years</td>\n",
       "      <td>RENT</td>\n",
       "      <td>24000.0</td>\n",
       "      <td>Verified</td>\n",
       "      <td>Dec-11</td>\n",
       "      <td>Fully Paid</td>\n",
       "      <td>n</td>\n",
       "      <td>https://www.lendingclub.com/browse/loanDetail....</td>\n",
       "      <td>Borrower added on 12/22/11 &gt; I need to upgra...</td>\n",
       "      <td>credit_card</td>\n",
       "      <td>Computer</td>\n",
       "      <td>860xx</td>\n",
       "      <td>AZ</td>\n",
       "      <td>27.65</td>\n",
       "      <td>0.0</td>\n",
       "      <td>Jan-85</td>\n",
       "      <td>1.0</td>\n",
       "      <td>NaN</td>\n",
       "      <td>NaN</td>\n",
       "      <td>3.0</td>\n",
       "      <td>0.0</td>\n",
       "      <td>13648</td>\n",
       "      <td>83.7</td>\n",
       "      <td>9.0</td>\n",
       "      <td>f</td>\n",
       "      <td>0.0</td>\n",
       "      <td>0.0</td>\n",
       "      <td>5861.071414</td>\n",
       "      <td>5831.78</td>\n",
       "      <td>5000.00</td>\n",
       "      <td>861.07</td>\n",
       "      <td>0.00</td>\n",
       "      <td>0.00</td>\n",
       "      <td>0.00</td>\n",
       "      <td>Jan-15</td>\n",
       "      <td>171.62</td>\n",
       "      <td>NaN</td>\n",
       "      <td>Jan-16</td>\n",
       "      <td>0.0</td>\n",
       "      <td>NaN</td>\n",
       "      <td>1</td>\n",
       "      <td>INDIVIDUAL</td>\n",
       "      <td>NaN</td>\n",
       "      <td>NaN</td>\n",
       "      <td>NaN</td>\n",
       "      <td>0.0</td>\n",
       "      <td>NaN</td>\n",
       "      <td>NaN</td>\n",
       "      <td>NaN</td>\n",
       "      <td>NaN</td>\n",
       "      <td>NaN</td>\n",
       "      <td>NaN</td>\n",
       "      <td>NaN</td>\n",
       "      <td>NaN</td>\n",
       "      <td>NaN</td>\n",
       "      <td>NaN</td>\n",
       "      <td>NaN</td>\n",
       "      <td>NaN</td>\n",
       "      <td>NaN</td>\n",
       "      <td>NaN</td>\n",
       "      <td>NaN</td>\n",
       "      <td>NaN</td>\n",
       "      <td>NaN</td>\n",
       "    </tr>\n",
       "    <tr>\n",
       "      <th>1</th>\n",
       "      <td>1077430</td>\n",
       "      <td>1314167</td>\n",
       "      <td>2500</td>\n",
       "      <td>2500</td>\n",
       "      <td>2500.0</td>\n",
       "      <td>60 months</td>\n",
       "      <td>15.27</td>\n",
       "      <td>59.83</td>\n",
       "      <td>C</td>\n",
       "      <td>C4</td>\n",
       "      <td>Ryder</td>\n",
       "      <td>&lt; 1 year</td>\n",
       "      <td>RENT</td>\n",
       "      <td>30000.0</td>\n",
       "      <td>Source Verified</td>\n",
       "      <td>Dec-11</td>\n",
       "      <td>Charged Off</td>\n",
       "      <td>n</td>\n",
       "      <td>https://www.lendingclub.com/browse/loanDetail....</td>\n",
       "      <td>Borrower added on 12/22/11 &gt; I plan to use t...</td>\n",
       "      <td>car</td>\n",
       "      <td>bike</td>\n",
       "      <td>309xx</td>\n",
       "      <td>GA</td>\n",
       "      <td>1.00</td>\n",
       "      <td>0.0</td>\n",
       "      <td>Apr-99</td>\n",
       "      <td>5.0</td>\n",
       "      <td>NaN</td>\n",
       "      <td>NaN</td>\n",
       "      <td>3.0</td>\n",
       "      <td>0.0</td>\n",
       "      <td>1687</td>\n",
       "      <td>9.4</td>\n",
       "      <td>4.0</td>\n",
       "      <td>f</td>\n",
       "      <td>0.0</td>\n",
       "      <td>0.0</td>\n",
       "      <td>1008.710000</td>\n",
       "      <td>1008.71</td>\n",
       "      <td>456.46</td>\n",
       "      <td>435.17</td>\n",
       "      <td>0.00</td>\n",
       "      <td>117.08</td>\n",
       "      <td>1.11</td>\n",
       "      <td>Apr-13</td>\n",
       "      <td>119.66</td>\n",
       "      <td>NaN</td>\n",
       "      <td>Sep-13</td>\n",
       "      <td>0.0</td>\n",
       "      <td>NaN</td>\n",
       "      <td>1</td>\n",
       "      <td>INDIVIDUAL</td>\n",
       "      <td>NaN</td>\n",
       "      <td>NaN</td>\n",
       "      <td>NaN</td>\n",
       "      <td>0.0</td>\n",
       "      <td>NaN</td>\n",
       "      <td>NaN</td>\n",
       "      <td>NaN</td>\n",
       "      <td>NaN</td>\n",
       "      <td>NaN</td>\n",
       "      <td>NaN</td>\n",
       "      <td>NaN</td>\n",
       "      <td>NaN</td>\n",
       "      <td>NaN</td>\n",
       "      <td>NaN</td>\n",
       "      <td>NaN</td>\n",
       "      <td>NaN</td>\n",
       "      <td>NaN</td>\n",
       "      <td>NaN</td>\n",
       "      <td>NaN</td>\n",
       "      <td>NaN</td>\n",
       "      <td>NaN</td>\n",
       "    </tr>\n",
       "    <tr>\n",
       "      <th>2</th>\n",
       "      <td>1077175</td>\n",
       "      <td>1313524</td>\n",
       "      <td>2400</td>\n",
       "      <td>2400</td>\n",
       "      <td>2400.0</td>\n",
       "      <td>36 months</td>\n",
       "      <td>15.96</td>\n",
       "      <td>84.33</td>\n",
       "      <td>C</td>\n",
       "      <td>C5</td>\n",
       "      <td>NaN</td>\n",
       "      <td>10+ years</td>\n",
       "      <td>RENT</td>\n",
       "      <td>12252.0</td>\n",
       "      <td>Not Verified</td>\n",
       "      <td>Dec-11</td>\n",
       "      <td>Fully Paid</td>\n",
       "      <td>n</td>\n",
       "      <td>https://www.lendingclub.com/browse/loanDetail....</td>\n",
       "      <td>NaN</td>\n",
       "      <td>small_business</td>\n",
       "      <td>real estate business</td>\n",
       "      <td>606xx</td>\n",
       "      <td>IL</td>\n",
       "      <td>8.72</td>\n",
       "      <td>0.0</td>\n",
       "      <td>Nov-01</td>\n",
       "      <td>2.0</td>\n",
       "      <td>NaN</td>\n",
       "      <td>NaN</td>\n",
       "      <td>2.0</td>\n",
       "      <td>0.0</td>\n",
       "      <td>2956</td>\n",
       "      <td>98.5</td>\n",
       "      <td>10.0</td>\n",
       "      <td>f</td>\n",
       "      <td>0.0</td>\n",
       "      <td>0.0</td>\n",
       "      <td>3003.653644</td>\n",
       "      <td>3003.65</td>\n",
       "      <td>2400.00</td>\n",
       "      <td>603.65</td>\n",
       "      <td>0.00</td>\n",
       "      <td>0.00</td>\n",
       "      <td>0.00</td>\n",
       "      <td>Jun-14</td>\n",
       "      <td>649.91</td>\n",
       "      <td>NaN</td>\n",
       "      <td>Jan-16</td>\n",
       "      <td>0.0</td>\n",
       "      <td>NaN</td>\n",
       "      <td>1</td>\n",
       "      <td>INDIVIDUAL</td>\n",
       "      <td>NaN</td>\n",
       "      <td>NaN</td>\n",
       "      <td>NaN</td>\n",
       "      <td>0.0</td>\n",
       "      <td>NaN</td>\n",
       "      <td>NaN</td>\n",
       "      <td>NaN</td>\n",
       "      <td>NaN</td>\n",
       "      <td>NaN</td>\n",
       "      <td>NaN</td>\n",
       "      <td>NaN</td>\n",
       "      <td>NaN</td>\n",
       "      <td>NaN</td>\n",
       "      <td>NaN</td>\n",
       "      <td>NaN</td>\n",
       "      <td>NaN</td>\n",
       "      <td>NaN</td>\n",
       "      <td>NaN</td>\n",
       "      <td>NaN</td>\n",
       "      <td>NaN</td>\n",
       "      <td>NaN</td>\n",
       "    </tr>\n",
       "    <tr>\n",
       "      <th>3</th>\n",
       "      <td>1076863</td>\n",
       "      <td>1277178</td>\n",
       "      <td>10000</td>\n",
       "      <td>10000</td>\n",
       "      <td>10000.0</td>\n",
       "      <td>36 months</td>\n",
       "      <td>13.49</td>\n",
       "      <td>339.31</td>\n",
       "      <td>C</td>\n",
       "      <td>C1</td>\n",
       "      <td>AIR RESOURCES BOARD</td>\n",
       "      <td>10+ years</td>\n",
       "      <td>RENT</td>\n",
       "      <td>49200.0</td>\n",
       "      <td>Source Verified</td>\n",
       "      <td>Dec-11</td>\n",
       "      <td>Fully Paid</td>\n",
       "      <td>n</td>\n",
       "      <td>https://www.lendingclub.com/browse/loanDetail....</td>\n",
       "      <td>Borrower added on 12/21/11 &gt; to pay for prop...</td>\n",
       "      <td>other</td>\n",
       "      <td>personel</td>\n",
       "      <td>917xx</td>\n",
       "      <td>CA</td>\n",
       "      <td>20.00</td>\n",
       "      <td>0.0</td>\n",
       "      <td>Feb-96</td>\n",
       "      <td>1.0</td>\n",
       "      <td>35.0</td>\n",
       "      <td>NaN</td>\n",
       "      <td>10.0</td>\n",
       "      <td>0.0</td>\n",
       "      <td>5598</td>\n",
       "      <td>21.0</td>\n",
       "      <td>37.0</td>\n",
       "      <td>f</td>\n",
       "      <td>0.0</td>\n",
       "      <td>0.0</td>\n",
       "      <td>12226.302210</td>\n",
       "      <td>12226.30</td>\n",
       "      <td>10000.00</td>\n",
       "      <td>2209.33</td>\n",
       "      <td>16.97</td>\n",
       "      <td>0.00</td>\n",
       "      <td>0.00</td>\n",
       "      <td>Jan-15</td>\n",
       "      <td>357.48</td>\n",
       "      <td>NaN</td>\n",
       "      <td>Jan-15</td>\n",
       "      <td>0.0</td>\n",
       "      <td>NaN</td>\n",
       "      <td>1</td>\n",
       "      <td>INDIVIDUAL</td>\n",
       "      <td>NaN</td>\n",
       "      <td>NaN</td>\n",
       "      <td>NaN</td>\n",
       "      <td>0.0</td>\n",
       "      <td>NaN</td>\n",
       "      <td>NaN</td>\n",
       "      <td>NaN</td>\n",
       "      <td>NaN</td>\n",
       "      <td>NaN</td>\n",
       "      <td>NaN</td>\n",
       "      <td>NaN</td>\n",
       "      <td>NaN</td>\n",
       "      <td>NaN</td>\n",
       "      <td>NaN</td>\n",
       "      <td>NaN</td>\n",
       "      <td>NaN</td>\n",
       "      <td>NaN</td>\n",
       "      <td>NaN</td>\n",
       "      <td>NaN</td>\n",
       "      <td>NaN</td>\n",
       "      <td>NaN</td>\n",
       "    </tr>\n",
       "    <tr>\n",
       "      <th>4</th>\n",
       "      <td>1075358</td>\n",
       "      <td>1311748</td>\n",
       "      <td>3000</td>\n",
       "      <td>3000</td>\n",
       "      <td>3000.0</td>\n",
       "      <td>60 months</td>\n",
       "      <td>12.69</td>\n",
       "      <td>67.79</td>\n",
       "      <td>B</td>\n",
       "      <td>B5</td>\n",
       "      <td>University Medical Group</td>\n",
       "      <td>1 year</td>\n",
       "      <td>RENT</td>\n",
       "      <td>80000.0</td>\n",
       "      <td>Source Verified</td>\n",
       "      <td>Dec-11</td>\n",
       "      <td>Current</td>\n",
       "      <td>n</td>\n",
       "      <td>https://www.lendingclub.com/browse/loanDetail....</td>\n",
       "      <td>Borrower added on 12/21/11 &gt; I plan on combi...</td>\n",
       "      <td>other</td>\n",
       "      <td>Personal</td>\n",
       "      <td>972xx</td>\n",
       "      <td>OR</td>\n",
       "      <td>17.94</td>\n",
       "      <td>0.0</td>\n",
       "      <td>Jan-96</td>\n",
       "      <td>0.0</td>\n",
       "      <td>38.0</td>\n",
       "      <td>NaN</td>\n",
       "      <td>15.0</td>\n",
       "      <td>0.0</td>\n",
       "      <td>27783</td>\n",
       "      <td>53.9</td>\n",
       "      <td>38.0</td>\n",
       "      <td>f</td>\n",
       "      <td>766.9</td>\n",
       "      <td>766.9</td>\n",
       "      <td>3242.170000</td>\n",
       "      <td>3242.17</td>\n",
       "      <td>2233.10</td>\n",
       "      <td>1009.07</td>\n",
       "      <td>0.00</td>\n",
       "      <td>0.00</td>\n",
       "      <td>0.00</td>\n",
       "      <td>Jan-16</td>\n",
       "      <td>67.79</td>\n",
       "      <td>Feb-16</td>\n",
       "      <td>Jan-16</td>\n",
       "      <td>0.0</td>\n",
       "      <td>NaN</td>\n",
       "      <td>1</td>\n",
       "      <td>INDIVIDUAL</td>\n",
       "      <td>NaN</td>\n",
       "      <td>NaN</td>\n",
       "      <td>NaN</td>\n",
       "      <td>0.0</td>\n",
       "      <td>NaN</td>\n",
       "      <td>NaN</td>\n",
       "      <td>NaN</td>\n",
       "      <td>NaN</td>\n",
       "      <td>NaN</td>\n",
       "      <td>NaN</td>\n",
       "      <td>NaN</td>\n",
       "      <td>NaN</td>\n",
       "      <td>NaN</td>\n",
       "      <td>NaN</td>\n",
       "      <td>NaN</td>\n",
       "      <td>NaN</td>\n",
       "      <td>NaN</td>\n",
       "      <td>NaN</td>\n",
       "      <td>NaN</td>\n",
       "      <td>NaN</td>\n",
       "      <td>NaN</td>\n",
       "    </tr>\n",
       "  </tbody>\n",
       "</table>\n",
       "</div>"
      ],
      "text/plain": [
       "        id  member_id  loan_amnt  funded_amnt  funded_amnt_inv        term  \\\n",
       "0  1077501    1296599       5000         5000           4975.0   36 months   \n",
       "1  1077430    1314167       2500         2500           2500.0   60 months   \n",
       "2  1077175    1313524       2400         2400           2400.0   36 months   \n",
       "3  1076863    1277178      10000        10000          10000.0   36 months   \n",
       "4  1075358    1311748       3000         3000           3000.0   60 months   \n",
       "\n",
       "   int_rate  installment grade sub_grade                 emp_title emp_length  \\\n",
       "0     10.65       162.87     B        B2                       NaN  10+ years   \n",
       "1     15.27        59.83     C        C4                     Ryder   < 1 year   \n",
       "2     15.96        84.33     C        C5                       NaN  10+ years   \n",
       "3     13.49       339.31     C        C1       AIR RESOURCES BOARD  10+ years   \n",
       "4     12.69        67.79     B        B5  University Medical Group     1 year   \n",
       "\n",
       "  home_ownership  annual_inc verification_status issue_d  loan_status  \\\n",
       "0           RENT     24000.0            Verified  Dec-11   Fully Paid   \n",
       "1           RENT     30000.0     Source Verified  Dec-11  Charged Off   \n",
       "2           RENT     12252.0        Not Verified  Dec-11   Fully Paid   \n",
       "3           RENT     49200.0     Source Verified  Dec-11   Fully Paid   \n",
       "4           RENT     80000.0     Source Verified  Dec-11      Current   \n",
       "\n",
       "  pymnt_plan                                                url  \\\n",
       "0          n  https://www.lendingclub.com/browse/loanDetail....   \n",
       "1          n  https://www.lendingclub.com/browse/loanDetail....   \n",
       "2          n  https://www.lendingclub.com/browse/loanDetail....   \n",
       "3          n  https://www.lendingclub.com/browse/loanDetail....   \n",
       "4          n  https://www.lendingclub.com/browse/loanDetail....   \n",
       "\n",
       "                                                desc         purpose  \\\n",
       "0    Borrower added on 12/22/11 > I need to upgra...     credit_card   \n",
       "1    Borrower added on 12/22/11 > I plan to use t...             car   \n",
       "2                                                NaN  small_business   \n",
       "3    Borrower added on 12/21/11 > to pay for prop...           other   \n",
       "4    Borrower added on 12/21/11 > I plan on combi...           other   \n",
       "\n",
       "                  title zip_code addr_state    dti  delinq_2yrs  \\\n",
       "0              Computer    860xx         AZ  27.65          0.0   \n",
       "1                  bike    309xx         GA   1.00          0.0   \n",
       "2  real estate business    606xx         IL   8.72          0.0   \n",
       "3              personel    917xx         CA  20.00          0.0   \n",
       "4              Personal    972xx         OR  17.94          0.0   \n",
       "\n",
       "  earliest_cr_line  inq_last_6mths  mths_since_last_delinq  \\\n",
       "0           Jan-85             1.0                     NaN   \n",
       "1           Apr-99             5.0                     NaN   \n",
       "2           Nov-01             2.0                     NaN   \n",
       "3           Feb-96             1.0                    35.0   \n",
       "4           Jan-96             0.0                    38.0   \n",
       "\n",
       "   mths_since_last_record  open_acc  pub_rec  revol_bal  revol_util  \\\n",
       "0                     NaN       3.0      0.0      13648        83.7   \n",
       "1                     NaN       3.0      0.0       1687         9.4   \n",
       "2                     NaN       2.0      0.0       2956        98.5   \n",
       "3                     NaN      10.0      0.0       5598        21.0   \n",
       "4                     NaN      15.0      0.0      27783        53.9   \n",
       "\n",
       "   total_acc initial_list_status  out_prncp  out_prncp_inv   total_pymnt  \\\n",
       "0        9.0                   f        0.0            0.0   5861.071414   \n",
       "1        4.0                   f        0.0            0.0   1008.710000   \n",
       "2       10.0                   f        0.0            0.0   3003.653644   \n",
       "3       37.0                   f        0.0            0.0  12226.302210   \n",
       "4       38.0                   f      766.9          766.9   3242.170000   \n",
       "\n",
       "   total_pymnt_inv  total_rec_prncp  total_rec_int  total_rec_late_fee  \\\n",
       "0          5831.78          5000.00         861.07                0.00   \n",
       "1          1008.71           456.46         435.17                0.00   \n",
       "2          3003.65          2400.00         603.65                0.00   \n",
       "3         12226.30         10000.00        2209.33               16.97   \n",
       "4          3242.17          2233.10        1009.07                0.00   \n",
       "\n",
       "   recoveries  collection_recovery_fee last_pymnt_d  last_pymnt_amnt  \\\n",
       "0        0.00                     0.00       Jan-15           171.62   \n",
       "1      117.08                     1.11       Apr-13           119.66   \n",
       "2        0.00                     0.00       Jun-14           649.91   \n",
       "3        0.00                     0.00       Jan-15           357.48   \n",
       "4        0.00                     0.00       Jan-16            67.79   \n",
       "\n",
       "  next_pymnt_d last_credit_pull_d  collections_12_mths_ex_med  \\\n",
       "0          NaN             Jan-16                         0.0   \n",
       "1          NaN             Sep-13                         0.0   \n",
       "2          NaN             Jan-16                         0.0   \n",
       "3          NaN             Jan-15                         0.0   \n",
       "4       Feb-16             Jan-16                         0.0   \n",
       "\n",
       "   mths_since_last_major_derog  policy_code application_type  \\\n",
       "0                          NaN            1       INDIVIDUAL   \n",
       "1                          NaN            1       INDIVIDUAL   \n",
       "2                          NaN            1       INDIVIDUAL   \n",
       "3                          NaN            1       INDIVIDUAL   \n",
       "4                          NaN            1       INDIVIDUAL   \n",
       "\n",
       "   annual_inc_joint  dti_joint  verification_status_joint  acc_now_delinq  \\\n",
       "0               NaN        NaN                        NaN             0.0   \n",
       "1               NaN        NaN                        NaN             0.0   \n",
       "2               NaN        NaN                        NaN             0.0   \n",
       "3               NaN        NaN                        NaN             0.0   \n",
       "4               NaN        NaN                        NaN             0.0   \n",
       "\n",
       "   tot_coll_amt  tot_cur_bal  open_acc_6m  open_il_6m  open_il_12m  \\\n",
       "0           NaN          NaN          NaN         NaN          NaN   \n",
       "1           NaN          NaN          NaN         NaN          NaN   \n",
       "2           NaN          NaN          NaN         NaN          NaN   \n",
       "3           NaN          NaN          NaN         NaN          NaN   \n",
       "4           NaN          NaN          NaN         NaN          NaN   \n",
       "\n",
       "   open_il_24m  mths_since_rcnt_il  total_bal_il  il_util  open_rv_12m  \\\n",
       "0          NaN                 NaN           NaN      NaN          NaN   \n",
       "1          NaN                 NaN           NaN      NaN          NaN   \n",
       "2          NaN                 NaN           NaN      NaN          NaN   \n",
       "3          NaN                 NaN           NaN      NaN          NaN   \n",
       "4          NaN                 NaN           NaN      NaN          NaN   \n",
       "\n",
       "   open_rv_24m  max_bal_bc  all_util  total_rev_hi_lim  inq_fi  total_cu_tl  \\\n",
       "0          NaN         NaN       NaN               NaN     NaN          NaN   \n",
       "1          NaN         NaN       NaN               NaN     NaN          NaN   \n",
       "2          NaN         NaN       NaN               NaN     NaN          NaN   \n",
       "3          NaN         NaN       NaN               NaN     NaN          NaN   \n",
       "4          NaN         NaN       NaN               NaN     NaN          NaN   \n",
       "\n",
       "   inq_last_12m  \n",
       "0           NaN  \n",
       "1           NaN  \n",
       "2           NaN  \n",
       "3           NaN  \n",
       "4           NaN  "
      ]
     },
     "execution_count": 5,
     "metadata": {},
     "output_type": "execute_result"
    }
   ],
   "source": [
    "data.head(5)"
   ]
  },
  {
   "cell_type": "code",
   "execution_count": 6,
   "id": "3431d1ed",
   "metadata": {},
   "outputs": [
    {
     "name": "stdout",
     "output_type": "stream",
     "text": [
      "<class 'pandas.core.frame.DataFrame'>\n",
      "Int64Index: 466285 entries, 0 to 466284\n",
      "Data columns (total 74 columns):\n",
      " #   Column                       Non-Null Count   Dtype  \n",
      "---  ------                       --------------   -----  \n",
      " 0   id                           466285 non-null  int64  \n",
      " 1   member_id                    466285 non-null  int64  \n",
      " 2   loan_amnt                    466285 non-null  int64  \n",
      " 3   funded_amnt                  466285 non-null  int64  \n",
      " 4   funded_amnt_inv              466285 non-null  float64\n",
      " 5   term                         466285 non-null  object \n",
      " 6   int_rate                     466285 non-null  float64\n",
      " 7   installment                  466285 non-null  float64\n",
      " 8   grade                        466285 non-null  object \n",
      " 9   sub_grade                    466285 non-null  object \n",
      " 10  emp_title                    438697 non-null  object \n",
      " 11  emp_length                   445277 non-null  object \n",
      " 12  home_ownership               466285 non-null  object \n",
      " 13  annual_inc                   466281 non-null  float64\n",
      " 14  verification_status          466285 non-null  object \n",
      " 15  issue_d                      466285 non-null  object \n",
      " 16  loan_status                  466285 non-null  object \n",
      " 17  pymnt_plan                   466285 non-null  object \n",
      " 18  url                          466285 non-null  object \n",
      " 19  desc                         125983 non-null  object \n",
      " 20  purpose                      466285 non-null  object \n",
      " 21  title                        466265 non-null  object \n",
      " 22  zip_code                     466285 non-null  object \n",
      " 23  addr_state                   466285 non-null  object \n",
      " 24  dti                          466285 non-null  float64\n",
      " 25  delinq_2yrs                  466256 non-null  float64\n",
      " 26  earliest_cr_line             466256 non-null  object \n",
      " 27  inq_last_6mths               466256 non-null  float64\n",
      " 28  mths_since_last_delinq       215934 non-null  float64\n",
      " 29  mths_since_last_record       62638 non-null   float64\n",
      " 30  open_acc                     466256 non-null  float64\n",
      " 31  pub_rec                      466256 non-null  float64\n",
      " 32  revol_bal                    466285 non-null  int64  \n",
      " 33  revol_util                   465945 non-null  float64\n",
      " 34  total_acc                    466256 non-null  float64\n",
      " 35  initial_list_status          466285 non-null  object \n",
      " 36  out_prncp                    466285 non-null  float64\n",
      " 37  out_prncp_inv                466285 non-null  float64\n",
      " 38  total_pymnt                  466285 non-null  float64\n",
      " 39  total_pymnt_inv              466285 non-null  float64\n",
      " 40  total_rec_prncp              466285 non-null  float64\n",
      " 41  total_rec_int                466285 non-null  float64\n",
      " 42  total_rec_late_fee           466285 non-null  float64\n",
      " 43  recoveries                   466285 non-null  float64\n",
      " 44  collection_recovery_fee      466285 non-null  float64\n",
      " 45  last_pymnt_d                 465909 non-null  object \n",
      " 46  last_pymnt_amnt              466285 non-null  float64\n",
      " 47  next_pymnt_d                 239071 non-null  object \n",
      " 48  last_credit_pull_d           466243 non-null  object \n",
      " 49  collections_12_mths_ex_med   466140 non-null  float64\n",
      " 50  mths_since_last_major_derog  98974 non-null   float64\n",
      " 51  policy_code                  466285 non-null  int64  \n",
      " 52  application_type             466285 non-null  object \n",
      " 53  annual_inc_joint             0 non-null       float64\n",
      " 54  dti_joint                    0 non-null       float64\n",
      " 55  verification_status_joint    0 non-null       float64\n",
      " 56  acc_now_delinq               466256 non-null  float64\n",
      " 57  tot_coll_amt                 396009 non-null  float64\n",
      " 58  tot_cur_bal                  396009 non-null  float64\n",
      " 59  open_acc_6m                  0 non-null       float64\n",
      " 60  open_il_6m                   0 non-null       float64\n",
      " 61  open_il_12m                  0 non-null       float64\n",
      " 62  open_il_24m                  0 non-null       float64\n",
      " 63  mths_since_rcnt_il           0 non-null       float64\n",
      " 64  total_bal_il                 0 non-null       float64\n",
      " 65  il_util                      0 non-null       float64\n",
      " 66  open_rv_12m                  0 non-null       float64\n",
      " 67  open_rv_24m                  0 non-null       float64\n",
      " 68  max_bal_bc                   0 non-null       float64\n",
      " 69  all_util                     0 non-null       float64\n",
      " 70  total_rev_hi_lim             396009 non-null  float64\n",
      " 71  inq_fi                       0 non-null       float64\n",
      " 72  total_cu_tl                  0 non-null       float64\n",
      " 73  inq_last_12m                 0 non-null       float64\n",
      "dtypes: float64(46), int64(6), object(22)\n",
      "memory usage: 266.8+ MB\n"
     ]
    }
   ],
   "source": [
    "data.info()"
   ]
  },
  {
   "cell_type": "markdown",
   "id": "48026f61",
   "metadata": {},
   "source": [
    "### Preprocessing the data"
   ]
  },
  {
   "cell_type": "code",
   "execution_count": 7,
   "id": "fe7cd92f",
   "metadata": {},
   "outputs": [
    {
     "data": {
      "text/plain": [
       "array(['10+ years', '< 1 year', '1 year', '3 years', '8 years', '9 years',\n",
       "       '4 years', '5 years', '6 years', '2 years', '7 years', nan],\n",
       "      dtype=object)"
      ]
     },
     "execution_count": 7,
     "metadata": {},
     "output_type": "execute_result"
    }
   ],
   "source": [
    "data.emp_length.unique()"
   ]
  },
  {
   "cell_type": "code",
   "execution_count": 8,
   "id": "f73915fb",
   "metadata": {},
   "outputs": [
    {
     "name": "stderr",
     "output_type": "stream",
     "text": [
      "<ipython-input-8-0f936fd2acda>:1: FutureWarning: The default value of regex will change from True to False in a future version.\n",
      "  data['emp_length_int']=data.emp_length.str.replace('\\+ years','')\n"
     ]
    }
   ],
   "source": [
    "data['emp_length_int']=data.emp_length.str.replace('\\+ years','')\n",
    "data['emp_length_int']=data.emp_length_int.str.replace('< 1 year',str(0))\n",
    "data['emp_length_int']=data.emp_length_int.str.replace('years','')\n",
    "data['emp_length_int']=data.emp_length_int.str.replace('year','')\n",
    "data['emp_length_int']=data.emp_length_int.fillna(str(0))"
   ]
  },
  {
   "cell_type": "code",
   "execution_count": 9,
   "id": "51b04081",
   "metadata": {},
   "outputs": [
    {
     "data": {
      "text/plain": [
       "array(['10', '0', '1 ', '3 ', '8 ', '9 ', '4 ', '5 ', '6 ', '2 ', '7 '],\n",
       "      dtype=object)"
      ]
     },
     "execution_count": 9,
     "metadata": {},
     "output_type": "execute_result"
    }
   ],
   "source": [
    "data.emp_length_int.unique()"
   ]
  },
  {
   "cell_type": "code",
   "execution_count": 10,
   "id": "38968601",
   "metadata": {},
   "outputs": [
    {
     "data": {
      "text/plain": [
       "str"
      ]
     },
     "execution_count": 10,
     "metadata": {},
     "output_type": "execute_result"
    }
   ],
   "source": [
    "type(data.emp_length_int[0])"
   ]
  },
  {
   "cell_type": "code",
   "execution_count": 11,
   "id": "6a328b5d",
   "metadata": {},
   "outputs": [],
   "source": [
    "# Transform strings to numeric data\n",
    "data.emp_length_int=pd.to_numeric(data.emp_length_int)"
   ]
  },
  {
   "cell_type": "code",
   "execution_count": 12,
   "id": "2e542b48",
   "metadata": {},
   "outputs": [
    {
     "data": {
      "text/plain": [
       "numpy.int64"
      ]
     },
     "execution_count": 12,
     "metadata": {},
     "output_type": "execute_result"
    }
   ],
   "source": [
    "type(data.emp_length_int[0])"
   ]
  },
  {
   "cell_type": "code",
   "execution_count": 13,
   "id": "54a77a5e",
   "metadata": {},
   "outputs": [
    {
     "data": {
      "text/plain": [
       "array([' 36 months', ' 60 months'], dtype=object)"
      ]
     },
     "execution_count": 13,
     "metadata": {},
     "output_type": "execute_result"
    }
   ],
   "source": [
    "# Preprocess values in term feature\n",
    "data.term.unique()"
   ]
  },
  {
   "cell_type": "code",
   "execution_count": 14,
   "id": "85a1ae3d",
   "metadata": {},
   "outputs": [
    {
     "data": {
      "text/plain": [
       "str"
      ]
     },
     "execution_count": 14,
     "metadata": {},
     "output_type": "execute_result"
    }
   ],
   "source": [
    "data['term_int']=data.term.str.replace(' months','')\n",
    "type(data.term[0])"
   ]
  },
  {
   "cell_type": "code",
   "execution_count": 15,
   "id": "d957a42d",
   "metadata": {},
   "outputs": [
    {
     "data": {
      "text/plain": [
       "array([' 36', ' 60'], dtype=object)"
      ]
     },
     "execution_count": 15,
     "metadata": {},
     "output_type": "execute_result"
    }
   ],
   "source": [
    "data.term_int.unique()"
   ]
  },
  {
   "cell_type": "code",
   "execution_count": 16,
   "id": "868bc395",
   "metadata": {},
   "outputs": [
    {
     "data": {
      "text/plain": [
       "numpy.int64"
      ]
     },
     "execution_count": 16,
     "metadata": {},
     "output_type": "execute_result"
    }
   ],
   "source": [
    "data.term_int=pd.to_numeric(data.term_int)\n",
    "type(data.term_int[0])"
   ]
  },
  {
   "cell_type": "code",
   "execution_count": 17,
   "id": "fb88067d",
   "metadata": {},
   "outputs": [
    {
     "data": {
      "text/plain": [
       "0         Jan-85\n",
       "1         Apr-99\n",
       "2         Nov-01\n",
       "3         Feb-96\n",
       "4         Jan-96\n",
       "           ...  \n",
       "466280    Apr-03\n",
       "466281    Jun-97\n",
       "466282    Dec-01\n",
       "466283    Feb-03\n",
       "466284    Feb-00\n",
       "Name: earliest_cr_line, Length: 466285, dtype: object"
      ]
     },
     "execution_count": 17,
     "metadata": {},
     "output_type": "execute_result"
    }
   ],
   "source": [
    "# Dates of earliest credit line is a string it has to be transformed to date time\n",
    "data.earliest_cr_line"
   ]
  },
  {
   "cell_type": "code",
   "execution_count": 18,
   "id": "dd709ee9",
   "metadata": {},
   "outputs": [],
   "source": [
    "data['earliest_cr_line_date']=pd.to_datetime(data.earliest_cr_line,format=\"%b-%y\")"
   ]
  },
  {
   "cell_type": "code",
   "execution_count": 19,
   "id": "a59444ad",
   "metadata": {},
   "outputs": [
    {
     "data": {
      "text/plain": [
       "0   1985-01-01\n",
       "1   1999-04-01\n",
       "2   2001-11-01\n",
       "3   1996-02-01\n",
       "4   1996-01-01\n",
       "Name: earliest_cr_line_date, dtype: datetime64[ns]"
      ]
     },
     "execution_count": 19,
     "metadata": {},
     "output_type": "execute_result"
    }
   ],
   "source": [
    "data.earliest_cr_line_date.head()"
   ]
  },
  {
   "cell_type": "code",
   "execution_count": 20,
   "id": "8ae3e58f",
   "metadata": {},
   "outputs": [
    {
     "data": {
      "text/plain": [
       "pandas._libs.tslibs.timestamps.Timestamp"
      ]
     },
     "execution_count": 20,
     "metadata": {},
     "output_type": "execute_result"
    }
   ],
   "source": [
    "type(data.earliest_cr_line_date[0])"
   ]
  },
  {
   "cell_type": "code",
   "execution_count": 21,
   "id": "a10835e4",
   "metadata": {},
   "outputs": [],
   "source": [
    "# i will estimate the days since earliest credit line because dataset is old up to 2014 \n",
    "# i will set control date 2016-12-01 \n",
    "data['mths_since_earlst_cr_l']=round(pd.to_numeric((pd.to_datetime('2016-12-01')-data.earliest_cr_line_date)/np.timedelta64(1,'M')))                                              "
   ]
  },
  {
   "cell_type": "code",
   "execution_count": 22,
   "id": "6880ae76",
   "metadata": {},
   "outputs": [
    {
     "data": {
      "text/plain": [
       "386212   -624.0\n",
       "275535   -624.0\n",
       "338048   -624.0\n",
       "458624   -624.0\n",
       "421872   -624.0\n",
       "          ...  \n",
       "42530       NaN\n",
       "42531       NaN\n",
       "42532       NaN\n",
       "42533       NaN\n",
       "42534       NaN\n",
       "Name: mths_since_earlst_cr_l, Length: 466285, dtype: float64"
      ]
     },
     "execution_count": 22,
     "metadata": {},
     "output_type": "execute_result"
    }
   ],
   "source": [
    "data.mths_since_earlst_cr_l.sort_values(ascending=True)"
   ]
  },
  {
   "cell_type": "code",
   "execution_count": 23,
   "id": "4f3be726",
   "metadata": {},
   "outputs": [
    {
     "data": {
      "text/html": [
       "<div>\n",
       "<style scoped>\n",
       "    .dataframe tbody tr th:only-of-type {\n",
       "        vertical-align: middle;\n",
       "    }\n",
       "\n",
       "    .dataframe tbody tr th {\n",
       "        vertical-align: top;\n",
       "    }\n",
       "\n",
       "    .dataframe thead th {\n",
       "        text-align: right;\n",
       "    }\n",
       "</style>\n",
       "<table border=\"1\" class=\"dataframe\">\n",
       "  <thead>\n",
       "    <tr style=\"text-align: right;\">\n",
       "      <th></th>\n",
       "      <th>earliest_cr_line</th>\n",
       "      <th>earliest_cr_line_date</th>\n",
       "      <th>mths_since_earlst_cr_l</th>\n",
       "    </tr>\n",
       "  </thead>\n",
       "  <tbody>\n",
       "    <tr>\n",
       "      <th>1580</th>\n",
       "      <td>Sep-62</td>\n",
       "      <td>2062-09-01</td>\n",
       "      <td>-549.0</td>\n",
       "    </tr>\n",
       "    <tr>\n",
       "      <th>1770</th>\n",
       "      <td>Sep-68</td>\n",
       "      <td>2068-09-01</td>\n",
       "      <td>-621.0</td>\n",
       "    </tr>\n",
       "    <tr>\n",
       "      <th>2799</th>\n",
       "      <td>Sep-64</td>\n",
       "      <td>2064-09-01</td>\n",
       "      <td>-573.0</td>\n",
       "    </tr>\n",
       "    <tr>\n",
       "      <th>3282</th>\n",
       "      <td>Sep-67</td>\n",
       "      <td>2067-09-01</td>\n",
       "      <td>-609.0</td>\n",
       "    </tr>\n",
       "    <tr>\n",
       "      <th>3359</th>\n",
       "      <td>Feb-65</td>\n",
       "      <td>2065-02-01</td>\n",
       "      <td>-578.0</td>\n",
       "    </tr>\n",
       "    <tr>\n",
       "      <th>...</th>\n",
       "      <td>...</td>\n",
       "      <td>...</td>\n",
       "      <td>...</td>\n",
       "    </tr>\n",
       "    <tr>\n",
       "      <th>464003</th>\n",
       "      <td>Jan-68</td>\n",
       "      <td>2068-01-01</td>\n",
       "      <td>-613.0</td>\n",
       "    </tr>\n",
       "    <tr>\n",
       "      <th>464260</th>\n",
       "      <td>Jul-66</td>\n",
       "      <td>2066-07-01</td>\n",
       "      <td>-595.0</td>\n",
       "    </tr>\n",
       "    <tr>\n",
       "      <th>465100</th>\n",
       "      <td>Oct-67</td>\n",
       "      <td>2067-10-01</td>\n",
       "      <td>-610.0</td>\n",
       "    </tr>\n",
       "    <tr>\n",
       "      <th>465500</th>\n",
       "      <td>Sep-67</td>\n",
       "      <td>2067-09-01</td>\n",
       "      <td>-609.0</td>\n",
       "    </tr>\n",
       "    <tr>\n",
       "      <th>465655</th>\n",
       "      <td>Jan-56</td>\n",
       "      <td>2056-01-01</td>\n",
       "      <td>-469.0</td>\n",
       "    </tr>\n",
       "  </tbody>\n",
       "</table>\n",
       "<p>1169 rows × 3 columns</p>\n",
       "</div>"
      ],
      "text/plain": [
       "       earliest_cr_line earliest_cr_line_date  mths_since_earlst_cr_l\n",
       "1580             Sep-62            2062-09-01                  -549.0\n",
       "1770             Sep-68            2068-09-01                  -621.0\n",
       "2799             Sep-64            2064-09-01                  -573.0\n",
       "3282             Sep-67            2067-09-01                  -609.0\n",
       "3359             Feb-65            2065-02-01                  -578.0\n",
       "...                 ...                   ...                     ...\n",
       "464003           Jan-68            2068-01-01                  -613.0\n",
       "464260           Jul-66            2066-07-01                  -595.0\n",
       "465100           Oct-67            2067-10-01                  -610.0\n",
       "465500           Sep-67            2067-09-01                  -609.0\n",
       "465655           Jan-56            2056-01-01                  -469.0\n",
       "\n",
       "[1169 rows x 3 columns]"
      ]
     },
     "execution_count": 23,
     "metadata": {},
     "output_type": "execute_result"
    }
   ],
   "source": [
    "# Give me the negative values\n",
    "data.loc[:,['earliest_cr_line','earliest_cr_line_date','mths_since_earlst_cr_l']][data['mths_since_earlst_cr_l']<0]"
   ]
  },
  {
   "cell_type": "code",
   "execution_count": 24,
   "id": "bd70185c",
   "metadata": {},
   "outputs": [
    {
     "name": "stderr",
     "output_type": "stream",
     "text": [
      "<ipython-input-24-fd688dbc5ed9>:2: SettingWithCopyWarning: \n",
      "A value is trying to be set on a copy of a slice from a DataFrame\n",
      "\n",
      "See the caveats in the documentation: https://pandas.pydata.org/pandas-docs/stable/user_guide/indexing.html#returning-a-view-versus-a-copy\n",
      "  data['mths_since_earlst_cr_l'][data['mths_since_earlst_cr_l']<0]=data.mths_since_earlst_cr_l.max()\n"
     ]
    }
   ],
   "source": [
    "# We will give them the maximum value because these are too old dates\n",
    "data['mths_since_earlst_cr_l'][data['mths_since_earlst_cr_l']<0]=data.mths_since_earlst_cr_l.max()"
   ]
  },
  {
   "cell_type": "code",
   "execution_count": 25,
   "id": "d090e361",
   "metadata": {},
   "outputs": [
    {
     "data": {
      "text/plain": [
       "236606    61.0\n",
       "236335    61.0\n",
       "236552    61.0\n",
       "241630    62.0\n",
       "233760    62.0\n",
       "          ... \n",
       "42530      NaN\n",
       "42531      NaN\n",
       "42532      NaN\n",
       "42533      NaN\n",
       "42534      NaN\n",
       "Name: mths_since_earlst_cr_l, Length: 466285, dtype: float64"
      ]
     },
     "execution_count": 25,
     "metadata": {},
     "output_type": "execute_result"
    }
   ],
   "source": [
    "data.mths_since_earlst_cr_l.sort_values(ascending=True)"
   ]
  },
  {
   "cell_type": "code",
   "execution_count": 26,
   "id": "a1fe8dc8",
   "metadata": {},
   "outputs": [
    {
     "data": {
      "text/plain": [
       "Index(['id', 'member_id', 'loan_amnt', 'funded_amnt', 'funded_amnt_inv',\n",
       "       'term', 'int_rate', 'installment', 'grade', 'sub_grade', 'emp_title',\n",
       "       'emp_length', 'home_ownership', 'annual_inc', 'verification_status',\n",
       "       'issue_d', 'loan_status', 'pymnt_plan', 'url', 'desc', 'purpose',\n",
       "       'title', 'zip_code', 'addr_state', 'dti', 'delinq_2yrs',\n",
       "       'earliest_cr_line', 'inq_last_6mths', 'mths_since_last_delinq',\n",
       "       'mths_since_last_record', 'open_acc', 'pub_rec', 'revol_bal',\n",
       "       'revol_util', 'total_acc', 'initial_list_status', 'out_prncp',\n",
       "       'out_prncp_inv', 'total_pymnt', 'total_pymnt_inv', 'total_rec_prncp',\n",
       "       'total_rec_int', 'total_rec_late_fee', 'recoveries',\n",
       "       'collection_recovery_fee', 'last_pymnt_d', 'last_pymnt_amnt',\n",
       "       'next_pymnt_d', 'last_credit_pull_d', 'collections_12_mths_ex_med',\n",
       "       'mths_since_last_major_derog', 'policy_code', 'application_type',\n",
       "       'annual_inc_joint', 'dti_joint', 'verification_status_joint',\n",
       "       'acc_now_delinq', 'tot_coll_amt', 'tot_cur_bal', 'open_acc_6m',\n",
       "       'open_il_6m', 'open_il_12m', 'open_il_24m', 'mths_since_rcnt_il',\n",
       "       'total_bal_il', 'il_util', 'open_rv_12m', 'open_rv_24m', 'max_bal_bc',\n",
       "       'all_util', 'total_rev_hi_lim', 'inq_fi', 'total_cu_tl', 'inq_last_12m',\n",
       "       'emp_length_int', 'term_int', 'earliest_cr_line_date',\n",
       "       'mths_since_earlst_cr_l'],\n",
       "      dtype='object')"
      ]
     },
     "execution_count": 26,
     "metadata": {},
     "output_type": "execute_result"
    }
   ],
   "source": [
    "# I have to drop all null features first i will have all the columns\n",
    "colummns_names=data.columns\n",
    "colummns_names"
   ]
  },
  {
   "cell_type": "code",
   "execution_count": 27,
   "id": "7f3c7e17",
   "metadata": {},
   "outputs": [],
   "source": [
    "#The columns with null values\n",
    "columns_todrop=['annual_inc_joint', 'dti_joint', 'verification_status_joint','open_acc_6m',\n",
    "       'open_il_6m', 'open_il_12m', 'open_il_24m', 'mths_since_rcnt_il',\n",
    "       'total_bal_il', 'il_util', 'open_rv_12m', 'open_rv_24m', 'max_bal_bc',\n",
    "       'all_util','inq_fi', 'total_cu_tl', 'inq_last_12m']"
   ]
  },
  {
   "cell_type": "code",
   "execution_count": 28,
   "id": "2f0b919e",
   "metadata": {},
   "outputs": [],
   "source": [
    "data=data.drop(columns_todrop,axis=1)"
   ]
  },
  {
   "cell_type": "code",
   "execution_count": 29,
   "id": "599b83d2",
   "metadata": {},
   "outputs": [
    {
     "data": {
      "text/plain": [
       "array(['Dec-11', 'Nov-11', 'Oct-11', 'Sep-11', 'Aug-11', 'Jul-11',\n",
       "       'Jun-11', 'May-11', 'Apr-11', 'Mar-11', 'Feb-11', 'Jan-11',\n",
       "       'Dec-10', 'Nov-10', 'Oct-10', 'Sep-10', 'Aug-10', 'Jul-10',\n",
       "       'Jun-10', 'May-10', 'Apr-10', 'Mar-10', 'Feb-10', 'Jan-10',\n",
       "       'Dec-09', 'Nov-09', 'Oct-09', 'Sep-09', 'Aug-09', 'Jul-09',\n",
       "       'Jun-09', 'May-09', 'Apr-09', 'Mar-09', 'Feb-09', 'Jan-09',\n",
       "       'Dec-08', 'Nov-08', 'Oct-08', 'Sep-08', 'Aug-08', 'Jul-08',\n",
       "       'Jun-08', 'May-08', 'Apr-08', 'Mar-08', 'Feb-08', 'Jan-08',\n",
       "       'Dec-07', 'Nov-07', 'Oct-07', 'Sep-07', 'Aug-07', 'Jul-07',\n",
       "       'Jun-07', 'Dec-13', 'Nov-13', 'Oct-13', 'Sep-13', 'Aug-13',\n",
       "       'Jul-13', 'Jun-13', 'May-13', 'Apr-13', 'Mar-13', 'Feb-13',\n",
       "       'Jan-13', 'Dec-12', 'Nov-12', 'Oct-12', 'Sep-12', 'Aug-12',\n",
       "       'Jul-12', 'Jun-12', 'May-12', 'Apr-12', 'Mar-12', 'Feb-12',\n",
       "       'Jan-12', 'Dec-14', 'Nov-14', 'Oct-14', 'Sep-14', 'Aug-14',\n",
       "       'Jul-14', 'Jun-14', 'May-14', 'Apr-14', 'Mar-14', 'Feb-14',\n",
       "       'Jan-14'], dtype=object)"
      ]
     },
     "execution_count": 29,
     "metadata": {},
     "output_type": "execute_result"
    }
   ],
   "source": [
    "# We will examine issue_d feature\n",
    "data.issue_d.unique()"
   ]
  },
  {
   "cell_type": "code",
   "execution_count": 30,
   "id": "27621a99",
   "metadata": {},
   "outputs": [],
   "source": [
    "data['issue_d_date']=pd.to_datetime(data.issue_d,format='%b-%y')"
   ]
  },
  {
   "cell_type": "code",
   "execution_count": 31,
   "id": "ff1ebb77",
   "metadata": {},
   "outputs": [],
   "source": [
    "# i will use the sam procedure as the first credit for issue date\n",
    "data['mths_since_issue_d']=round(pd.to_numeric((pd.to_datetime('2016-12-01')-data.issue_d_date)/np.timedelta64(1,'M')))"
   ]
  },
  {
   "cell_type": "code",
   "execution_count": 32,
   "id": "62bd8fc2",
   "metadata": {},
   "outputs": [
    {
     "data": {
      "text/plain": [
       "count    466285.000000\n",
       "mean         39.255187\n",
       "std          14.340154\n",
       "min          24.000000\n",
       "25%          29.000000\n",
       "50%          35.000000\n",
       "75%          45.000000\n",
       "max         114.000000\n",
       "Name: mths_since_issue_d, dtype: float64"
      ]
     },
     "execution_count": 32,
     "metadata": {},
     "output_type": "execute_result"
    }
   ],
   "source": [
    "# Valuse seem ok\n",
    "data.mths_since_issue_d.describe()"
   ]
  },
  {
   "cell_type": "markdown",
   "id": "4c959dfc",
   "metadata": {},
   "source": [
    "## Categorical variables that we have to transform\n"
   ]
  },
  {
   "cell_type": "code",
   "execution_count": 33,
   "id": "cd4f0bd9",
   "metadata": {},
   "outputs": [],
   "source": [
    "# First i will drop the features that i used before\n",
    "data=data.drop(['term','emp_length','earliest_cr_line_date','earliest_cr_line','issue_d_date'],axis=1)"
   ]
  },
  {
   "cell_type": "code",
   "execution_count": 34,
   "id": "e59ca020",
   "metadata": {},
   "outputs": [
    {
     "data": {
      "text/plain": [
       "205475"
      ]
     },
     "execution_count": 34,
     "metadata": {},
     "output_type": "execute_result"
    }
   ],
   "source": [
    "# Trying to find cateorical variables\n",
    "data.emp_title.nunique()\n",
    "# Too many unique values"
   ]
  },
  {
   "cell_type": "code",
   "execution_count": 35,
   "id": "9fe5ea82",
   "metadata": {},
   "outputs": [
    {
     "data": {
      "text/plain": [
       "Teacher                        5399\n",
       "Manager                        4438\n",
       "Registered Nurse               2316\n",
       "RN                             2204\n",
       "Supervisor                     1967\n",
       "                               ... \n",
       "Gathering Technician              1\n",
       "Sr. Claims Adjuster               1\n",
       "Centene Corp                      1\n",
       "Global Relationship Manager       1\n",
       "production management inc         1\n",
       "Name: emp_title, Length: 205475, dtype: int64"
      ]
     },
     "execution_count": 35,
     "metadata": {},
     "output_type": "execute_result"
    }
   ],
   "source": [
    "data.emp_title.value_counts()"
   ]
  },
  {
   "cell_type": "code",
   "execution_count": 36,
   "id": "81bb1941",
   "metadata": {},
   "outputs": [
    {
     "data": {
      "text/plain": [
       "6"
      ]
     },
     "execution_count": 36,
     "metadata": {},
     "output_type": "execute_result"
    }
   ],
   "source": [
    "data.home_ownership.nunique()"
   ]
  },
  {
   "cell_type": "code",
   "execution_count": 37,
   "id": "0d430e1e",
   "metadata": {},
   "outputs": [
    {
     "data": {
      "text/plain": [
       "array(['RENT', 'OWN', 'MORTGAGE', 'OTHER', 'NONE', 'ANY'], dtype=object)"
      ]
     },
     "execution_count": 37,
     "metadata": {},
     "output_type": "execute_result"
    }
   ],
   "source": [
    "data.home_ownership.unique()\n",
    "# Seems Ok"
   ]
  },
  {
   "cell_type": "code",
   "execution_count": 38,
   "id": "6cce1c2c",
   "metadata": {},
   "outputs": [
    {
     "data": {
      "text/plain": [
       "7"
      ]
     },
     "execution_count": 38,
     "metadata": {},
     "output_type": "execute_result"
    }
   ],
   "source": [
    "data.grade.nunique()"
   ]
  },
  {
   "cell_type": "code",
   "execution_count": 39,
   "id": "015349e7",
   "metadata": {},
   "outputs": [
    {
     "data": {
      "text/plain": [
       "35"
      ]
     },
     "execution_count": 39,
     "metadata": {},
     "output_type": "execute_result"
    }
   ],
   "source": [
    "data.sub_grade.nunique()"
   ]
  },
  {
   "cell_type": "code",
   "execution_count": 40,
   "id": "9f09c6ca",
   "metadata": {},
   "outputs": [
    {
     "data": {
      "text/plain": [
       "3"
      ]
     },
     "execution_count": 40,
     "metadata": {},
     "output_type": "execute_result"
    }
   ],
   "source": [
    "data.verification_status.nunique()"
   ]
  },
  {
   "cell_type": "code",
   "execution_count": 41,
   "id": "5d908fc0",
   "metadata": {},
   "outputs": [
    {
     "data": {
      "text/plain": [
       "array(['Verified', 'Source Verified', 'Not Verified'], dtype=object)"
      ]
     },
     "execution_count": 41,
     "metadata": {},
     "output_type": "execute_result"
    }
   ],
   "source": [
    "data.verification_status.unique()"
   ]
  },
  {
   "cell_type": "code",
   "execution_count": 42,
   "id": "d7533dbf",
   "metadata": {},
   "outputs": [
    {
     "data": {
      "text/plain": [
       "Verified           168055\n",
       "Source Verified    149993\n",
       "Not Verified       148237\n",
       "Name: verification_status, dtype: int64"
      ]
     },
     "execution_count": 42,
     "metadata": {},
     "output_type": "execute_result"
    }
   ],
   "source": [
    "data.verification_status.value_counts()"
   ]
  },
  {
   "cell_type": "code",
   "execution_count": 43,
   "id": "f370bc20",
   "metadata": {},
   "outputs": [
    {
     "data": {
      "text/plain": [
       "Current                                                224226\n",
       "Fully Paid                                             184739\n",
       "Charged Off                                             42475\n",
       "Late (31-120 days)                                       6900\n",
       "In Grace Period                                          3146\n",
       "Does not meet the credit policy. Status:Fully Paid       1988\n",
       "Late (16-30 days)                                        1218\n",
       "Default                                                   832\n",
       "Does not meet the credit policy. Status:Charged Off       761\n",
       "Name: loan_status, dtype: int64"
      ]
     },
     "execution_count": 43,
     "metadata": {},
     "output_type": "execute_result"
    }
   ],
   "source": [
    "# This is the target \n",
    "data.loan_status.value_counts()"
   ]
  },
  {
   "cell_type": "code",
   "execution_count": 44,
   "id": "ce29e989",
   "metadata": {},
   "outputs": [
    {
     "data": {
      "text/plain": [
       "n    466276\n",
       "y         9\n",
       "Name: pymnt_plan, dtype: int64"
      ]
     },
     "execution_count": 44,
     "metadata": {},
     "output_type": "execute_result"
    }
   ],
   "source": [
    "# Seems irrelevant\n",
    "data.pymnt_plan.value_counts()"
   ]
  },
  {
   "cell_type": "code",
   "execution_count": 45,
   "id": "0e5bc731",
   "metadata": {},
   "outputs": [
    {
     "data": {
      "text/plain": [
       "0    https://www.lendingclub.com/browse/loanDetail....\n",
       "1    https://www.lendingclub.com/browse/loanDetail....\n",
       "2    https://www.lendingclub.com/browse/loanDetail....\n",
       "3    https://www.lendingclub.com/browse/loanDetail....\n",
       "4    https://www.lendingclub.com/browse/loanDetail....\n",
       "Name: url, dtype: object"
      ]
     },
     "execution_count": 45,
     "metadata": {},
     "output_type": "execute_result"
    }
   ],
   "source": [
    "# Seems irrelevant\n",
    "data.url.head()"
   ]
  },
  {
   "cell_type": "code",
   "execution_count": 46,
   "id": "fd812edd",
   "metadata": {},
   "outputs": [
    {
     "data": {
      "text/plain": [
       "0      Borrower added on 12/22/11 > I need to upgra...\n",
       "1      Borrower added on 12/22/11 > I plan to use t...\n",
       "2                                                  NaN\n",
       "3      Borrower added on 12/21/11 > to pay for prop...\n",
       "4      Borrower added on 12/21/11 > I plan on combi...\n",
       "Name: desc, dtype: object"
      ]
     },
     "execution_count": 46,
     "metadata": {},
     "output_type": "execute_result"
    }
   ],
   "source": [
    "# Too few observations\n",
    "data.desc.head()"
   ]
  },
  {
   "cell_type": "code",
   "execution_count": 47,
   "id": "59a1239c",
   "metadata": {},
   "outputs": [],
   "source": [
    "data=data.drop(['url','desc'],axis=1)"
   ]
  },
  {
   "cell_type": "code",
   "execution_count": 48,
   "id": "c71d7616",
   "metadata": {},
   "outputs": [
    {
     "data": {
      "text/plain": [
       "debt_consolidation    274195\n",
       "credit_card           104157\n",
       "home_improvement       26537\n",
       "other                  23690\n",
       "major_purchase          9828\n",
       "small_business          7013\n",
       "car                     5397\n",
       "medical                 4602\n",
       "moving                  2994\n",
       "vacation                2487\n",
       "wedding                 2343\n",
       "house                   2269\n",
       "educational              422\n",
       "renewable_energy         351\n",
       "Name: purpose, dtype: int64"
      ]
     },
     "execution_count": 48,
     "metadata": {},
     "output_type": "execute_result"
    }
   ],
   "source": [
    "data.purpose.value_counts()"
   ]
  },
  {
   "cell_type": "code",
   "execution_count": 49,
   "id": "02a0f7b7",
   "metadata": {},
   "outputs": [
    {
     "data": {
      "text/plain": [
       "Debt consolidation                 164075\n",
       "Credit card refinancing             62275\n",
       "Debt Consolidation                  15760\n",
       "Home improvement                    14849\n",
       "Other                               12713\n",
       "                                    ...  \n",
       "amex payoff                             1\n",
       "Pay off Citibank Visa                   1\n",
       "PURCHASE MULTI FAMILY APARTMENT         1\n",
       "Snow Removal                            1\n",
       "card                                    1\n",
       "Name: title, Length: 63099, dtype: int64"
      ]
     },
     "execution_count": 49,
     "metadata": {},
     "output_type": "execute_result"
    }
   ],
   "source": [
    "data.title.value_counts()"
   ]
  },
  {
   "cell_type": "code",
   "execution_count": 50,
   "id": "03d00d58",
   "metadata": {},
   "outputs": [],
   "source": [
    "# title seem to be same as purpose feature with more compact values\n",
    "data=data.drop(['title'],axis=1)"
   ]
  },
  {
   "cell_type": "code",
   "execution_count": 51,
   "id": "b32445a8",
   "metadata": {},
   "outputs": [
    {
     "name": "stdout",
     "output_type": "stream",
     "text": [
      "<class 'pandas.core.frame.DataFrame'>\n",
      "Int64Index: 466285 entries, 0 to 466284\n",
      "Data columns (total 55 columns):\n",
      " #   Column                       Non-Null Count   Dtype  \n",
      "---  ------                       --------------   -----  \n",
      " 0   id                           466285 non-null  int64  \n",
      " 1   member_id                    466285 non-null  int64  \n",
      " 2   loan_amnt                    466285 non-null  int64  \n",
      " 3   funded_amnt                  466285 non-null  int64  \n",
      " 4   funded_amnt_inv              466285 non-null  float64\n",
      " 5   int_rate                     466285 non-null  float64\n",
      " 6   installment                  466285 non-null  float64\n",
      " 7   grade                        466285 non-null  object \n",
      " 8   sub_grade                    466285 non-null  object \n",
      " 9   emp_title                    438697 non-null  object \n",
      " 10  home_ownership               466285 non-null  object \n",
      " 11  annual_inc                   466281 non-null  float64\n",
      " 12  verification_status          466285 non-null  object \n",
      " 13  issue_d                      466285 non-null  object \n",
      " 14  loan_status                  466285 non-null  object \n",
      " 15  pymnt_plan                   466285 non-null  object \n",
      " 16  purpose                      466285 non-null  object \n",
      " 17  zip_code                     466285 non-null  object \n",
      " 18  addr_state                   466285 non-null  object \n",
      " 19  dti                          466285 non-null  float64\n",
      " 20  delinq_2yrs                  466256 non-null  float64\n",
      " 21  inq_last_6mths               466256 non-null  float64\n",
      " 22  mths_since_last_delinq       215934 non-null  float64\n",
      " 23  mths_since_last_record       62638 non-null   float64\n",
      " 24  open_acc                     466256 non-null  float64\n",
      " 25  pub_rec                      466256 non-null  float64\n",
      " 26  revol_bal                    466285 non-null  int64  \n",
      " 27  revol_util                   465945 non-null  float64\n",
      " 28  total_acc                    466256 non-null  float64\n",
      " 29  initial_list_status          466285 non-null  object \n",
      " 30  out_prncp                    466285 non-null  float64\n",
      " 31  out_prncp_inv                466285 non-null  float64\n",
      " 32  total_pymnt                  466285 non-null  float64\n",
      " 33  total_pymnt_inv              466285 non-null  float64\n",
      " 34  total_rec_prncp              466285 non-null  float64\n",
      " 35  total_rec_int                466285 non-null  float64\n",
      " 36  total_rec_late_fee           466285 non-null  float64\n",
      " 37  recoveries                   466285 non-null  float64\n",
      " 38  collection_recovery_fee      466285 non-null  float64\n",
      " 39  last_pymnt_d                 465909 non-null  object \n",
      " 40  last_pymnt_amnt              466285 non-null  float64\n",
      " 41  next_pymnt_d                 239071 non-null  object \n",
      " 42  last_credit_pull_d           466243 non-null  object \n",
      " 43  collections_12_mths_ex_med   466140 non-null  float64\n",
      " 44  mths_since_last_major_derog  98974 non-null   float64\n",
      " 45  policy_code                  466285 non-null  int64  \n",
      " 46  application_type             466285 non-null  object \n",
      " 47  acc_now_delinq               466256 non-null  float64\n",
      " 48  tot_coll_amt                 396009 non-null  float64\n",
      " 49  tot_cur_bal                  396009 non-null  float64\n",
      " 50  total_rev_hi_lim             396009 non-null  float64\n",
      " 51  emp_length_int               466285 non-null  int64  \n",
      " 52  term_int                     466285 non-null  int64  \n",
      " 53  mths_since_earlst_cr_l       466256 non-null  float64\n",
      " 54  mths_since_issue_d           466285 non-null  float64\n",
      "dtypes: float64(31), int64(8), object(16)\n",
      "memory usage: 215.3+ MB\n"
     ]
    }
   ],
   "source": [
    "data.info()"
   ]
  },
  {
   "cell_type": "code",
   "execution_count": 52,
   "id": "c80c3b85",
   "metadata": {},
   "outputs": [
    {
     "data": {
      "text/plain": [
       "888"
      ]
     },
     "execution_count": 52,
     "metadata": {},
     "output_type": "execute_result"
    }
   ],
   "source": [
    "data.zip_code.nunique()"
   ]
  },
  {
   "cell_type": "code",
   "execution_count": 53,
   "id": "9a7113dc",
   "metadata": {},
   "outputs": [
    {
     "data": {
      "text/plain": [
       "945xx    5304\n",
       "112xx    5102\n",
       "750xx    5013\n",
       "606xx    4696\n",
       "100xx    4391\n",
       "         ... \n",
       "511xx       1\n",
       "938xx       1\n",
       "854xx       1\n",
       "587xx       1\n",
       "510xx       1\n",
       "Name: zip_code, Length: 888, dtype: int64"
      ]
     },
     "execution_count": 53,
     "metadata": {},
     "output_type": "execute_result"
    }
   ],
   "source": [
    "# i dont know the iportnace of it\n",
    "data.zip_code.value_counts()"
   ]
  },
  {
   "cell_type": "code",
   "execution_count": 54,
   "id": "8208dc9a",
   "metadata": {},
   "outputs": [
    {
     "data": {
      "text/plain": [
       "CA    71450\n",
       "NY    40242\n",
       "TX    36439\n",
       "FL    31637\n",
       "IL    18612\n",
       "NJ    18061\n",
       "PA    16424\n",
       "OH    15237\n",
       "GA    14975\n",
       "VA    14222\n",
       "NC    12682\n",
       "MI    11549\n",
       "MA    11072\n",
       "MD    10974\n",
       "AZ    10712\n",
       "WA    10517\n",
       "CO     9739\n",
       "MN     8158\n",
       "MO     7508\n",
       "CT     7204\n",
       "IN     6525\n",
       "NV     6519\n",
       "TN     5984\n",
       "OR     5949\n",
       "WI     5911\n",
       "AL     5853\n",
       "SC     5583\n",
       "LA     5489\n",
       "KY     4438\n",
       "KS     4190\n",
       "OK     4117\n",
       "AR     3488\n",
       "UT     3428\n",
       "NM     2588\n",
       "HI     2487\n",
       "WV     2412\n",
       "NH     2232\n",
       "RI     2050\n",
       "DC     1426\n",
       "MT     1396\n",
       "DE     1272\n",
       "AK     1251\n",
       "MS     1226\n",
       "WY     1128\n",
       "SD      980\n",
       "VT      905\n",
       "IA       14\n",
       "NE       14\n",
       "ID       12\n",
       "ME        4\n",
       "Name: addr_state, dtype: int64"
      ]
     },
     "execution_count": 54,
     "metadata": {},
     "output_type": "execute_result"
    }
   ],
   "source": [
    "data.addr_state.value_counts()"
   ]
  },
  {
   "cell_type": "code",
   "execution_count": 55,
   "id": "a6f6fc24",
   "metadata": {},
   "outputs": [
    {
     "data": {
      "text/plain": [
       "f    303005\n",
       "w    163280\n",
       "Name: initial_list_status, dtype: int64"
      ]
     },
     "execution_count": 55,
     "metadata": {},
     "output_type": "execute_result"
    }
   ],
   "source": [
    "data.initial_list_status.value_counts()"
   ]
  },
  {
   "cell_type": "code",
   "execution_count": 56,
   "id": "d06b2d3a",
   "metadata": {},
   "outputs": [
    {
     "data": {
      "text/plain": [
       "str"
      ]
     },
     "execution_count": 56,
     "metadata": {},
     "output_type": "execute_result"
    }
   ],
   "source": [
    "type(data.last_pymnt_d[0])"
   ]
  },
  {
   "cell_type": "code",
   "execution_count": 57,
   "id": "9d05d799",
   "metadata": {},
   "outputs": [
    {
     "data": {
      "text/plain": [
       "0    Jan-15\n",
       "1    Apr-13\n",
       "2    Jun-14\n",
       "3    Jan-15\n",
       "4    Jan-16\n",
       "Name: last_pymnt_d, dtype: object"
      ]
     },
     "execution_count": 57,
     "metadata": {},
     "output_type": "execute_result"
    }
   ],
   "source": [
    "data.last_pymnt_d.head()"
   ]
  },
  {
   "cell_type": "code",
   "execution_count": 58,
   "id": "3c95ce44",
   "metadata": {},
   "outputs": [],
   "source": [
    "# this feature is in no use because its already tha last payment and can give any information also i will remove id and member id\n",
    "data=data.drop(['last_pymnt_d','id','member_id'],axis=1)"
   ]
  },
  {
   "cell_type": "code",
   "execution_count": 59,
   "id": "79905a1d",
   "metadata": {},
   "outputs": [],
   "source": [
    "# the same is for next_pymnt_d\n",
    "data=data.drop(['next_pymnt_d'],axis=1)"
   ]
  },
  {
   "cell_type": "code",
   "execution_count": 60,
   "id": "c2825aa1",
   "metadata": {},
   "outputs": [],
   "source": [
    "data['last_credit_pull_d_date']=pd.to_datetime(data.last_credit_pull_d,format='%b-%y')"
   ]
  },
  {
   "cell_type": "code",
   "execution_count": 61,
   "id": "735d549b",
   "metadata": {},
   "outputs": [],
   "source": [
    "# i will use the sam procedure as the first credit for issue date\n",
    "data['mths_since_last_cr']=round(pd.to_numeric((pd.to_datetime('2016-12-01')-data.last_credit_pull_d_date)/np.timedelta64(1,'M')))"
   ]
  },
  {
   "cell_type": "code",
   "execution_count": 62,
   "id": "753a0188",
   "metadata": {},
   "outputs": [],
   "source": [
    "data=data.drop(['last_credit_pull_d_date','last_credit_pull_d'],axis=1)"
   ]
  },
  {
   "cell_type": "code",
   "execution_count": 63,
   "id": "2862b255",
   "metadata": {},
   "outputs": [
    {
     "name": "stdout",
     "output_type": "stream",
     "text": [
      "<class 'pandas.core.frame.DataFrame'>\n",
      "Int64Index: 466285 entries, 0 to 466284\n",
      "Data columns (total 51 columns):\n",
      " #   Column                       Non-Null Count   Dtype  \n",
      "---  ------                       --------------   -----  \n",
      " 0   loan_amnt                    466285 non-null  int64  \n",
      " 1   funded_amnt                  466285 non-null  int64  \n",
      " 2   funded_amnt_inv              466285 non-null  float64\n",
      " 3   int_rate                     466285 non-null  float64\n",
      " 4   installment                  466285 non-null  float64\n",
      " 5   grade                        466285 non-null  object \n",
      " 6   sub_grade                    466285 non-null  object \n",
      " 7   emp_title                    438697 non-null  object \n",
      " 8   home_ownership               466285 non-null  object \n",
      " 9   annual_inc                   466281 non-null  float64\n",
      " 10  verification_status          466285 non-null  object \n",
      " 11  issue_d                      466285 non-null  object \n",
      " 12  loan_status                  466285 non-null  object \n",
      " 13  pymnt_plan                   466285 non-null  object \n",
      " 14  purpose                      466285 non-null  object \n",
      " 15  zip_code                     466285 non-null  object \n",
      " 16  addr_state                   466285 non-null  object \n",
      " 17  dti                          466285 non-null  float64\n",
      " 18  delinq_2yrs                  466256 non-null  float64\n",
      " 19  inq_last_6mths               466256 non-null  float64\n",
      " 20  mths_since_last_delinq       215934 non-null  float64\n",
      " 21  mths_since_last_record       62638 non-null   float64\n",
      " 22  open_acc                     466256 non-null  float64\n",
      " 23  pub_rec                      466256 non-null  float64\n",
      " 24  revol_bal                    466285 non-null  int64  \n",
      " 25  revol_util                   465945 non-null  float64\n",
      " 26  total_acc                    466256 non-null  float64\n",
      " 27  initial_list_status          466285 non-null  object \n",
      " 28  out_prncp                    466285 non-null  float64\n",
      " 29  out_prncp_inv                466285 non-null  float64\n",
      " 30  total_pymnt                  466285 non-null  float64\n",
      " 31  total_pymnt_inv              466285 non-null  float64\n",
      " 32  total_rec_prncp              466285 non-null  float64\n",
      " 33  total_rec_int                466285 non-null  float64\n",
      " 34  total_rec_late_fee           466285 non-null  float64\n",
      " 35  recoveries                   466285 non-null  float64\n",
      " 36  collection_recovery_fee      466285 non-null  float64\n",
      " 37  last_pymnt_amnt              466285 non-null  float64\n",
      " 38  collections_12_mths_ex_med   466140 non-null  float64\n",
      " 39  mths_since_last_major_derog  98974 non-null   float64\n",
      " 40  policy_code                  466285 non-null  int64  \n",
      " 41  application_type             466285 non-null  object \n",
      " 42  acc_now_delinq               466256 non-null  float64\n",
      " 43  tot_coll_amt                 396009 non-null  float64\n",
      " 44  tot_cur_bal                  396009 non-null  float64\n",
      " 45  total_rev_hi_lim             396009 non-null  float64\n",
      " 46  emp_length_int               466285 non-null  int64  \n",
      " 47  term_int                     466285 non-null  int64  \n",
      " 48  mths_since_earlst_cr_l       466256 non-null  float64\n",
      " 49  mths_since_issue_d           466285 non-null  float64\n",
      " 50  mths_since_last_cr           466243 non-null  float64\n",
      "dtypes: float64(32), int64(6), object(13)\n",
      "memory usage: 201.1+ MB\n"
     ]
    }
   ],
   "source": [
    "data.info()"
   ]
  },
  {
   "cell_type": "code",
   "execution_count": 64,
   "id": "76cbdcb7",
   "metadata": {},
   "outputs": [
    {
     "data": {
      "text/plain": [
       "INDIVIDUAL    466285\n",
       "Name: application_type, dtype: int64"
      ]
     },
     "execution_count": 64,
     "metadata": {},
     "output_type": "execute_result"
    }
   ],
   "source": [
    "data.application_type.value_counts()"
   ]
  },
  {
   "cell_type": "code",
   "execution_count": 65,
   "id": "5080f72a",
   "metadata": {},
   "outputs": [],
   "source": [
    "# Means nothing so drop it\n",
    "data=data.drop(['application_type'],axis=1)"
   ]
  },
  {
   "cell_type": "code",
   "execution_count": 66,
   "id": "4066c112",
   "metadata": {},
   "outputs": [],
   "source": [
    "data=data.drop(['emp_title','pymnt_plan','zip_code'],axis=1)"
   ]
  },
  {
   "cell_type": "code",
   "execution_count": 67,
   "id": "6808dec6",
   "metadata": {},
   "outputs": [],
   "source": [
    "data=data.drop(['issue_d'],axis=1)"
   ]
  },
  {
   "cell_type": "code",
   "execution_count": 68,
   "id": "73d40220",
   "metadata": {},
   "outputs": [
    {
     "name": "stdout",
     "output_type": "stream",
     "text": [
      "<class 'pandas.core.frame.DataFrame'>\n",
      "Int64Index: 466285 entries, 0 to 466284\n",
      "Data columns (total 46 columns):\n",
      " #   Column                       Non-Null Count   Dtype  \n",
      "---  ------                       --------------   -----  \n",
      " 0   loan_amnt                    466285 non-null  int64  \n",
      " 1   funded_amnt                  466285 non-null  int64  \n",
      " 2   funded_amnt_inv              466285 non-null  float64\n",
      " 3   int_rate                     466285 non-null  float64\n",
      " 4   installment                  466285 non-null  float64\n",
      " 5   grade                        466285 non-null  object \n",
      " 6   sub_grade                    466285 non-null  object \n",
      " 7   home_ownership               466285 non-null  object \n",
      " 8   annual_inc                   466281 non-null  float64\n",
      " 9   verification_status          466285 non-null  object \n",
      " 10  loan_status                  466285 non-null  object \n",
      " 11  purpose                      466285 non-null  object \n",
      " 12  addr_state                   466285 non-null  object \n",
      " 13  dti                          466285 non-null  float64\n",
      " 14  delinq_2yrs                  466256 non-null  float64\n",
      " 15  inq_last_6mths               466256 non-null  float64\n",
      " 16  mths_since_last_delinq       215934 non-null  float64\n",
      " 17  mths_since_last_record       62638 non-null   float64\n",
      " 18  open_acc                     466256 non-null  float64\n",
      " 19  pub_rec                      466256 non-null  float64\n",
      " 20  revol_bal                    466285 non-null  int64  \n",
      " 21  revol_util                   465945 non-null  float64\n",
      " 22  total_acc                    466256 non-null  float64\n",
      " 23  initial_list_status          466285 non-null  object \n",
      " 24  out_prncp                    466285 non-null  float64\n",
      " 25  out_prncp_inv                466285 non-null  float64\n",
      " 26  total_pymnt                  466285 non-null  float64\n",
      " 27  total_pymnt_inv              466285 non-null  float64\n",
      " 28  total_rec_prncp              466285 non-null  float64\n",
      " 29  total_rec_int                466285 non-null  float64\n",
      " 30  total_rec_late_fee           466285 non-null  float64\n",
      " 31  recoveries                   466285 non-null  float64\n",
      " 32  collection_recovery_fee      466285 non-null  float64\n",
      " 33  last_pymnt_amnt              466285 non-null  float64\n",
      " 34  collections_12_mths_ex_med   466140 non-null  float64\n",
      " 35  mths_since_last_major_derog  98974 non-null   float64\n",
      " 36  policy_code                  466285 non-null  int64  \n",
      " 37  acc_now_delinq               466256 non-null  float64\n",
      " 38  tot_coll_amt                 396009 non-null  float64\n",
      " 39  tot_cur_bal                  396009 non-null  float64\n",
      " 40  total_rev_hi_lim             396009 non-null  float64\n",
      " 41  emp_length_int               466285 non-null  int64  \n",
      " 42  term_int                     466285 non-null  int64  \n",
      " 43  mths_since_earlst_cr_l       466256 non-null  float64\n",
      " 44  mths_since_issue_d           466285 non-null  float64\n",
      " 45  mths_since_last_cr           466243 non-null  float64\n",
      "dtypes: float64(32), int64(6), object(8)\n",
      "memory usage: 183.3+ MB\n"
     ]
    }
   ],
   "source": [
    "data.info()"
   ]
  },
  {
   "cell_type": "code",
   "execution_count": 69,
   "id": "07b55a6b",
   "metadata": {},
   "outputs": [
    {
     "data": {
      "text/plain": [
       "count    215934.000000\n",
       "mean         34.104430\n",
       "std          21.778487\n",
       "min           0.000000\n",
       "25%          16.000000\n",
       "50%          31.000000\n",
       "75%          49.000000\n",
       "max         188.000000\n",
       "Name: mths_since_last_delinq, dtype: float64"
      ]
     },
     "execution_count": 69,
     "metadata": {},
     "output_type": "execute_result"
    }
   ],
   "source": [
    "data.mths_since_last_delinq.describe()"
   ]
  },
  {
   "cell_type": "code",
   "execution_count": 70,
   "id": "02bd1158",
   "metadata": {},
   "outputs": [],
   "source": [
    "# There are many null values so i am goint to drop ths_since_last_delinq and mths_since_last_record\n",
    "data=data.drop(['mths_since_last_delinq','mths_since_last_record'],axis=1)"
   ]
  },
  {
   "cell_type": "code",
   "execution_count": 71,
   "id": "d70edbd3",
   "metadata": {},
   "outputs": [],
   "source": [
    "## Get dummies of categorical variables\n",
    "data_dummies=pd.get_dummies(data.grade,prefix='grade',prefix_sep=':')"
   ]
  },
  {
   "cell_type": "code",
   "execution_count": 72,
   "id": "6e9b2711",
   "metadata": {},
   "outputs": [],
   "source": [
    "# With the same procedure i will continue eith other variable\n",
    "data_dummies=pd.concat([data_dummies,pd.get_dummies(data.sub_grade,prefix='sub-grade',prefix_sep=':')],axis=1)"
   ]
  },
  {
   "cell_type": "code",
   "execution_count": 73,
   "id": "fdefafd7",
   "metadata": {},
   "outputs": [
    {
     "name": "stdout",
     "output_type": "stream",
     "text": [
      "<class 'pandas.core.frame.DataFrame'>\n",
      "Int64Index: 466285 entries, 0 to 466284\n",
      "Data columns (total 42 columns):\n",
      " #   Column        Non-Null Count   Dtype\n",
      "---  ------        --------------   -----\n",
      " 0   grade:A       466285 non-null  uint8\n",
      " 1   grade:B       466285 non-null  uint8\n",
      " 2   grade:C       466285 non-null  uint8\n",
      " 3   grade:D       466285 non-null  uint8\n",
      " 4   grade:E       466285 non-null  uint8\n",
      " 5   grade:F       466285 non-null  uint8\n",
      " 6   grade:G       466285 non-null  uint8\n",
      " 7   sub-grade:A1  466285 non-null  uint8\n",
      " 8   sub-grade:A2  466285 non-null  uint8\n",
      " 9   sub-grade:A3  466285 non-null  uint8\n",
      " 10  sub-grade:A4  466285 non-null  uint8\n",
      " 11  sub-grade:A5  466285 non-null  uint8\n",
      " 12  sub-grade:B1  466285 non-null  uint8\n",
      " 13  sub-grade:B2  466285 non-null  uint8\n",
      " 14  sub-grade:B3  466285 non-null  uint8\n",
      " 15  sub-grade:B4  466285 non-null  uint8\n",
      " 16  sub-grade:B5  466285 non-null  uint8\n",
      " 17  sub-grade:C1  466285 non-null  uint8\n",
      " 18  sub-grade:C2  466285 non-null  uint8\n",
      " 19  sub-grade:C3  466285 non-null  uint8\n",
      " 20  sub-grade:C4  466285 non-null  uint8\n",
      " 21  sub-grade:C5  466285 non-null  uint8\n",
      " 22  sub-grade:D1  466285 non-null  uint8\n",
      " 23  sub-grade:D2  466285 non-null  uint8\n",
      " 24  sub-grade:D3  466285 non-null  uint8\n",
      " 25  sub-grade:D4  466285 non-null  uint8\n",
      " 26  sub-grade:D5  466285 non-null  uint8\n",
      " 27  sub-grade:E1  466285 non-null  uint8\n",
      " 28  sub-grade:E2  466285 non-null  uint8\n",
      " 29  sub-grade:E3  466285 non-null  uint8\n",
      " 30  sub-grade:E4  466285 non-null  uint8\n",
      " 31  sub-grade:E5  466285 non-null  uint8\n",
      " 32  sub-grade:F1  466285 non-null  uint8\n",
      " 33  sub-grade:F2  466285 non-null  uint8\n",
      " 34  sub-grade:F3  466285 non-null  uint8\n",
      " 35  sub-grade:F4  466285 non-null  uint8\n",
      " 36  sub-grade:F5  466285 non-null  uint8\n",
      " 37  sub-grade:G1  466285 non-null  uint8\n",
      " 38  sub-grade:G2  466285 non-null  uint8\n",
      " 39  sub-grade:G3  466285 non-null  uint8\n",
      " 40  sub-grade:G4  466285 non-null  uint8\n",
      " 41  sub-grade:G5  466285 non-null  uint8\n",
      "dtypes: uint8(42)\n",
      "memory usage: 38.4 MB\n"
     ]
    }
   ],
   "source": [
    "data_dummies.info()"
   ]
  },
  {
   "cell_type": "code",
   "execution_count": 74,
   "id": "a11f86ff",
   "metadata": {},
   "outputs": [],
   "source": [
    "# With the same procedure i will continuew eith other varible\n",
    "data_dummies=pd.concat([data_dummies,pd.get_dummies(data.home_ownership,prefix='home_ownership',prefix_sep=':')],axis=1)"
   ]
  },
  {
   "cell_type": "code",
   "execution_count": 75,
   "id": "cbc4ba80",
   "metadata": {},
   "outputs": [],
   "source": [
    "# With the same procedure i will continuew eith other varible\n",
    "data_dummies=pd.concat([data_dummies,pd.get_dummies(data.verification_status,prefix='verification_status',prefix_sep=':')],axis=1)"
   ]
  },
  {
   "cell_type": "code",
   "execution_count": 76,
   "id": "956cbc79",
   "metadata": {},
   "outputs": [],
   "source": [
    "# With the same procedure i will continuew eith other varible\n",
    "data_dummies=pd.concat([data_dummies,pd.get_dummies(data.purpose,prefix='purpose',prefix_sep=':')],axis=1)"
   ]
  },
  {
   "cell_type": "code",
   "execution_count": 77,
   "id": "24fd6e66",
   "metadata": {},
   "outputs": [],
   "source": [
    "# With the same procedure i will continuew eith other varible\n",
    "data_dummies=pd.concat([data_dummies,pd.get_dummies(data.addr_state,prefix='addr_state',prefix_sep=':')],axis=1)"
   ]
  },
  {
   "cell_type": "code",
   "execution_count": 78,
   "id": "aa7ac20a",
   "metadata": {},
   "outputs": [],
   "source": [
    "# With the same procedure i will continuew eith other varible\n",
    "data_dummies=pd.concat([data_dummies,pd.get_dummies(data.initial_list_status,prefix='initial_list_status',prefix_sep=':')],axis=1)"
   ]
  },
  {
   "cell_type": "code",
   "execution_count": 79,
   "id": "4c94e1b6",
   "metadata": {},
   "outputs": [],
   "source": [
    "data=data.drop(['grade','sub_grade','home_ownership','verification_status','purpose','addr_state','initial_list_status'],axis=1)"
   ]
  },
  {
   "cell_type": "code",
   "execution_count": 80,
   "id": "3be3e414",
   "metadata": {},
   "outputs": [
    {
     "name": "stdout",
     "output_type": "stream",
     "text": [
      "<class 'pandas.core.frame.DataFrame'>\n",
      "Int64Index: 466285 entries, 0 to 466284\n",
      "Columns: 117 entries, grade:A to initial_list_status:w\n",
      "dtypes: uint8(117)\n",
      "memory usage: 71.7 MB\n"
     ]
    }
   ],
   "source": [
    "data_dummies.info()"
   ]
  },
  {
   "cell_type": "code",
   "execution_count": 81,
   "id": "82b7ad42",
   "metadata": {},
   "outputs": [],
   "source": [
    "data=pd.concat([data,data_dummies],axis=1)"
   ]
  },
  {
   "cell_type": "code",
   "execution_count": 82,
   "id": "fec7e6ea",
   "metadata": {},
   "outputs": [
    {
     "data": {
      "text/plain": [
       "Index(['loan_amnt', 'funded_amnt', 'funded_amnt_inv', 'int_rate',\n",
       "       'installment', 'annual_inc', 'loan_status', 'dti', 'delinq_2yrs',\n",
       "       'inq_last_6mths',\n",
       "       ...\n",
       "       'addr_state:TX', 'addr_state:UT', 'addr_state:VA', 'addr_state:VT',\n",
       "       'addr_state:WA', 'addr_state:WI', 'addr_state:WV', 'addr_state:WY',\n",
       "       'initial_list_status:f', 'initial_list_status:w'],\n",
       "      dtype='object', length=154)"
      ]
     },
     "execution_count": 82,
     "metadata": {},
     "output_type": "execute_result"
    }
   ],
   "source": [
    "data.columns"
   ]
  },
  {
   "cell_type": "markdown",
   "id": "08aa18c2",
   "metadata": {},
   "source": [
    "## Now the data contains all the dummies "
   ]
  },
  {
   "cell_type": "code",
   "execution_count": 83,
   "id": "8ecdc040",
   "metadata": {},
   "outputs": [
    {
     "data": {
      "text/plain": [
       "loan_amnt                                   0\n",
       "funded_amnt                                 0\n",
       "funded_amnt_inv                             0\n",
       "int_rate                                    0\n",
       "installment                                 0\n",
       "annual_inc                                  4\n",
       "loan_status                                 0\n",
       "dti                                         0\n",
       "delinq_2yrs                                29\n",
       "inq_last_6mths                             29\n",
       "open_acc                                   29\n",
       "pub_rec                                    29\n",
       "revol_bal                                   0\n",
       "revol_util                                340\n",
       "total_acc                                  29\n",
       "out_prncp                                   0\n",
       "out_prncp_inv                               0\n",
       "total_pymnt                                 0\n",
       "total_pymnt_inv                             0\n",
       "total_rec_prncp                             0\n",
       "total_rec_int                               0\n",
       "total_rec_late_fee                          0\n",
       "recoveries                                  0\n",
       "collection_recovery_fee                     0\n",
       "last_pymnt_amnt                             0\n",
       "collections_12_mths_ex_med                145\n",
       "mths_since_last_major_derog            367311\n",
       "policy_code                                 0\n",
       "acc_now_delinq                             29\n",
       "tot_coll_amt                            70276\n",
       "tot_cur_bal                             70276\n",
       "total_rev_hi_lim                        70276\n",
       "emp_length_int                              0\n",
       "term_int                                    0\n",
       "mths_since_earlst_cr_l                     29\n",
       "mths_since_issue_d                          0\n",
       "mths_since_last_cr                         42\n",
       "grade:A                                     0\n",
       "grade:B                                     0\n",
       "grade:C                                     0\n",
       "grade:D                                     0\n",
       "grade:E                                     0\n",
       "grade:F                                     0\n",
       "grade:G                                     0\n",
       "sub-grade:A1                                0\n",
       "sub-grade:A2                                0\n",
       "sub-grade:A3                                0\n",
       "sub-grade:A4                                0\n",
       "sub-grade:A5                                0\n",
       "sub-grade:B1                                0\n",
       "sub-grade:B2                                0\n",
       "sub-grade:B3                                0\n",
       "sub-grade:B4                                0\n",
       "sub-grade:B5                                0\n",
       "sub-grade:C1                                0\n",
       "sub-grade:C2                                0\n",
       "sub-grade:C3                                0\n",
       "sub-grade:C4                                0\n",
       "sub-grade:C5                                0\n",
       "sub-grade:D1                                0\n",
       "sub-grade:D2                                0\n",
       "sub-grade:D3                                0\n",
       "sub-grade:D4                                0\n",
       "sub-grade:D5                                0\n",
       "sub-grade:E1                                0\n",
       "sub-grade:E2                                0\n",
       "sub-grade:E3                                0\n",
       "sub-grade:E4                                0\n",
       "sub-grade:E5                                0\n",
       "sub-grade:F1                                0\n",
       "sub-grade:F2                                0\n",
       "sub-grade:F3                                0\n",
       "sub-grade:F4                                0\n",
       "sub-grade:F5                                0\n",
       "sub-grade:G1                                0\n",
       "sub-grade:G2                                0\n",
       "sub-grade:G3                                0\n",
       "sub-grade:G4                                0\n",
       "sub-grade:G5                                0\n",
       "home_ownership:ANY                          0\n",
       "home_ownership:MORTGAGE                     0\n",
       "home_ownership:NONE                         0\n",
       "home_ownership:OTHER                        0\n",
       "home_ownership:OWN                          0\n",
       "home_ownership:RENT                         0\n",
       "verification_status:Not Verified            0\n",
       "verification_status:Source Verified         0\n",
       "verification_status:Verified                0\n",
       "purpose:car                                 0\n",
       "purpose:credit_card                         0\n",
       "purpose:debt_consolidation                  0\n",
       "purpose:educational                         0\n",
       "purpose:home_improvement                    0\n",
       "purpose:house                               0\n",
       "purpose:major_purchase                      0\n",
       "purpose:medical                             0\n",
       "purpose:moving                              0\n",
       "purpose:other                               0\n",
       "purpose:renewable_energy                    0\n",
       "purpose:small_business                      0\n",
       "purpose:vacation                            0\n",
       "purpose:wedding                             0\n",
       "addr_state:AK                               0\n",
       "addr_state:AL                               0\n",
       "addr_state:AR                               0\n",
       "addr_state:AZ                               0\n",
       "addr_state:CA                               0\n",
       "addr_state:CO                               0\n",
       "addr_state:CT                               0\n",
       "addr_state:DC                               0\n",
       "addr_state:DE                               0\n",
       "addr_state:FL                               0\n",
       "addr_state:GA                               0\n",
       "addr_state:HI                               0\n",
       "addr_state:IA                               0\n",
       "addr_state:ID                               0\n",
       "addr_state:IL                               0\n",
       "addr_state:IN                               0\n",
       "addr_state:KS                               0\n",
       "addr_state:KY                               0\n",
       "addr_state:LA                               0\n",
       "addr_state:MA                               0\n",
       "addr_state:MD                               0\n",
       "addr_state:ME                               0\n",
       "addr_state:MI                               0\n",
       "addr_state:MN                               0\n",
       "addr_state:MO                               0\n",
       "addr_state:MS                               0\n",
       "addr_state:MT                               0\n",
       "addr_state:NC                               0\n",
       "addr_state:NE                               0\n",
       "addr_state:NH                               0\n",
       "addr_state:NJ                               0\n",
       "addr_state:NM                               0\n",
       "addr_state:NV                               0\n",
       "addr_state:NY                               0\n",
       "addr_state:OH                               0\n",
       "addr_state:OK                               0\n",
       "addr_state:OR                               0\n",
       "addr_state:PA                               0\n",
       "addr_state:RI                               0\n",
       "addr_state:SC                               0\n",
       "addr_state:SD                               0\n",
       "addr_state:TN                               0\n",
       "addr_state:TX                               0\n",
       "addr_state:UT                               0\n",
       "addr_state:VA                               0\n",
       "addr_state:VT                               0\n",
       "addr_state:WA                               0\n",
       "addr_state:WI                               0\n",
       "addr_state:WV                               0\n",
       "addr_state:WY                               0\n",
       "initial_list_status:f                       0\n",
       "initial_list_status:w                       0\n",
       "dtype: int64"
      ]
     },
     "execution_count": 83,
     "metadata": {},
     "output_type": "execute_result"
    }
   ],
   "source": [
    "# First i will look for null values in the data set\n",
    "pd.options.display.max_rows=None\n",
    "data.isnull().sum()"
   ]
  },
  {
   "cell_type": "code",
   "execution_count": 84,
   "id": "6262ba3a",
   "metadata": {},
   "outputs": [
    {
     "data": {
      "text/plain": [
       "count    466256.000000\n",
       "mean          0.284678\n",
       "std           0.797365\n",
       "min           0.000000\n",
       "25%           0.000000\n",
       "50%           0.000000\n",
       "75%           0.000000\n",
       "max          29.000000\n",
       "Name: delinq_2yrs, dtype: float64"
      ]
     },
     "execution_count": 84,
     "metadata": {},
     "output_type": "execute_result"
    }
   ],
   "source": [
    "data.delinq_2yrs.describe()"
   ]
  },
  {
   "cell_type": "code",
   "execution_count": 85,
   "id": "1a4b0fbd",
   "metadata": {},
   "outputs": [],
   "source": [
    "# Too few observattions we can drop them \n",
    "data=data.dropna(subset=['delinq_2yrs'])"
   ]
  },
  {
   "cell_type": "code",
   "execution_count": 86,
   "id": "3f79e005",
   "metadata": {},
   "outputs": [
    {
     "name": "stdout",
     "output_type": "stream",
     "text": [
      "<class 'pandas.core.frame.DataFrame'>\n",
      "Int64Index: 466256 entries, 0 to 466284\n",
      "Columns: 154 entries, loan_amnt to initial_list_status:w\n",
      "dtypes: float64(30), int64(6), object(1), uint8(117)\n",
      "memory usage: 187.2+ MB\n"
     ]
    }
   ],
   "source": [
    "data.info()"
   ]
  },
  {
   "cell_type": "code",
   "execution_count": 87,
   "id": "53a1b16d",
   "metadata": {},
   "outputs": [
    {
     "data": {
      "text/plain": [
       "count    465945.000000\n",
       "mean         56.176947\n",
       "std          23.732628\n",
       "min           0.000000\n",
       "25%          39.200000\n",
       "50%          57.600000\n",
       "75%          74.700000\n",
       "max         892.300000\n",
       "Name: revol_util, dtype: float64"
      ]
     },
     "execution_count": 87,
     "metadata": {},
     "output_type": "execute_result"
    }
   ],
   "source": [
    "data.revol_util.describe()"
   ]
  },
  {
   "cell_type": "code",
   "execution_count": 88,
   "id": "3b998cfc",
   "metadata": {},
   "outputs": [
    {
     "data": {
      "text/plain": [
       "count    4.662560e+05\n",
       "mean     1.623121e+04\n",
       "std      2.067649e+04\n",
       "min      0.000000e+00\n",
       "25%      6.414000e+03\n",
       "50%      1.176500e+04\n",
       "75%      2.033300e+04\n",
       "max      2.568995e+06\n",
       "Name: revol_bal, dtype: float64"
      ]
     },
     "execution_count": 88,
     "metadata": {},
     "output_type": "execute_result"
    }
   ],
   "source": [
    "data.revol_bal.describe()"
   ]
  },
  {
   "cell_type": "code",
   "execution_count": 89,
   "id": "ed26a07a",
   "metadata": {},
   "outputs": [
    {
     "data": {
      "text/plain": [
       "count    466256.000000\n",
       "mean      14317.925292\n",
       "std        8286.339281\n",
       "min         500.000000\n",
       "25%        8000.000000\n",
       "50%       12000.000000\n",
       "75%       20000.000000\n",
       "max       35000.000000\n",
       "Name: loan_amnt, dtype: float64"
      ]
     },
     "execution_count": 89,
     "metadata": {},
     "output_type": "execute_result"
    }
   ],
   "source": [
    "data.loan_amnt.describe()"
   ]
  },
  {
   "cell_type": "code",
   "execution_count": 90,
   "id": "1dab4a06",
   "metadata": {},
   "outputs": [],
   "source": [
    "# we will drop it cant find somethin usefull for these observations\n",
    "data=data.dropna(subset=['revol_util'])"
   ]
  },
  {
   "cell_type": "code",
   "execution_count": 91,
   "id": "257d889a",
   "metadata": {},
   "outputs": [
    {
     "data": {
      "text/plain": [
       "loan_amnt                                   0\n",
       "funded_amnt                                 0\n",
       "funded_amnt_inv                             0\n",
       "int_rate                                    0\n",
       "installment                                 0\n",
       "annual_inc                                  0\n",
       "loan_status                                 0\n",
       "dti                                         0\n",
       "delinq_2yrs                                 0\n",
       "inq_last_6mths                              0\n",
       "open_acc                                    0\n",
       "pub_rec                                     0\n",
       "revol_bal                                   0\n",
       "revol_util                                  0\n",
       "total_acc                                   0\n",
       "out_prncp                                   0\n",
       "out_prncp_inv                               0\n",
       "total_pymnt                                 0\n",
       "total_pymnt_inv                             0\n",
       "total_rec_prncp                             0\n",
       "total_rec_int                               0\n",
       "total_rec_late_fee                          0\n",
       "recoveries                                  0\n",
       "collection_recovery_fee                     0\n",
       "last_pymnt_amnt                             0\n",
       "collections_12_mths_ex_med                113\n",
       "mths_since_last_major_derog            367050\n",
       "policy_code                                 0\n",
       "acc_now_delinq                              0\n",
       "tot_coll_amt                            70155\n",
       "tot_cur_bal                             70155\n",
       "total_rev_hi_lim                        70155\n",
       "emp_length_int                              0\n",
       "term_int                                    0\n",
       "mths_since_earlst_cr_l                      0\n",
       "mths_since_issue_d                          0\n",
       "mths_since_last_cr                         41\n",
       "grade:A                                     0\n",
       "grade:B                                     0\n",
       "grade:C                                     0\n",
       "grade:D                                     0\n",
       "grade:E                                     0\n",
       "grade:F                                     0\n",
       "grade:G                                     0\n",
       "sub-grade:A1                                0\n",
       "sub-grade:A2                                0\n",
       "sub-grade:A3                                0\n",
       "sub-grade:A4                                0\n",
       "sub-grade:A5                                0\n",
       "sub-grade:B1                                0\n",
       "sub-grade:B2                                0\n",
       "sub-grade:B3                                0\n",
       "sub-grade:B4                                0\n",
       "sub-grade:B5                                0\n",
       "sub-grade:C1                                0\n",
       "sub-grade:C2                                0\n",
       "sub-grade:C3                                0\n",
       "sub-grade:C4                                0\n",
       "sub-grade:C5                                0\n",
       "sub-grade:D1                                0\n",
       "sub-grade:D2                                0\n",
       "sub-grade:D3                                0\n",
       "sub-grade:D4                                0\n",
       "sub-grade:D5                                0\n",
       "sub-grade:E1                                0\n",
       "sub-grade:E2                                0\n",
       "sub-grade:E3                                0\n",
       "sub-grade:E4                                0\n",
       "sub-grade:E5                                0\n",
       "sub-grade:F1                                0\n",
       "sub-grade:F2                                0\n",
       "sub-grade:F3                                0\n",
       "sub-grade:F4                                0\n",
       "sub-grade:F5                                0\n",
       "sub-grade:G1                                0\n",
       "sub-grade:G2                                0\n",
       "sub-grade:G3                                0\n",
       "sub-grade:G4                                0\n",
       "sub-grade:G5                                0\n",
       "home_ownership:ANY                          0\n",
       "home_ownership:MORTGAGE                     0\n",
       "home_ownership:NONE                         0\n",
       "home_ownership:OTHER                        0\n",
       "home_ownership:OWN                          0\n",
       "home_ownership:RENT                         0\n",
       "verification_status:Not Verified            0\n",
       "verification_status:Source Verified         0\n",
       "verification_status:Verified                0\n",
       "purpose:car                                 0\n",
       "purpose:credit_card                         0\n",
       "purpose:debt_consolidation                  0\n",
       "purpose:educational                         0\n",
       "purpose:home_improvement                    0\n",
       "purpose:house                               0\n",
       "purpose:major_purchase                      0\n",
       "purpose:medical                             0\n",
       "purpose:moving                              0\n",
       "purpose:other                               0\n",
       "purpose:renewable_energy                    0\n",
       "purpose:small_business                      0\n",
       "purpose:vacation                            0\n",
       "purpose:wedding                             0\n",
       "addr_state:AK                               0\n",
       "addr_state:AL                               0\n",
       "addr_state:AR                               0\n",
       "addr_state:AZ                               0\n",
       "addr_state:CA                               0\n",
       "addr_state:CO                               0\n",
       "addr_state:CT                               0\n",
       "addr_state:DC                               0\n",
       "addr_state:DE                               0\n",
       "addr_state:FL                               0\n",
       "addr_state:GA                               0\n",
       "addr_state:HI                               0\n",
       "addr_state:IA                               0\n",
       "addr_state:ID                               0\n",
       "addr_state:IL                               0\n",
       "addr_state:IN                               0\n",
       "addr_state:KS                               0\n",
       "addr_state:KY                               0\n",
       "addr_state:LA                               0\n",
       "addr_state:MA                               0\n",
       "addr_state:MD                               0\n",
       "addr_state:ME                               0\n",
       "addr_state:MI                               0\n",
       "addr_state:MN                               0\n",
       "addr_state:MO                               0\n",
       "addr_state:MS                               0\n",
       "addr_state:MT                               0\n",
       "addr_state:NC                               0\n",
       "addr_state:NE                               0\n",
       "addr_state:NH                               0\n",
       "addr_state:NJ                               0\n",
       "addr_state:NM                               0\n",
       "addr_state:NV                               0\n",
       "addr_state:NY                               0\n",
       "addr_state:OH                               0\n",
       "addr_state:OK                               0\n",
       "addr_state:OR                               0\n",
       "addr_state:PA                               0\n",
       "addr_state:RI                               0\n",
       "addr_state:SC                               0\n",
       "addr_state:SD                               0\n",
       "addr_state:TN                               0\n",
       "addr_state:TX                               0\n",
       "addr_state:UT                               0\n",
       "addr_state:VA                               0\n",
       "addr_state:VT                               0\n",
       "addr_state:WA                               0\n",
       "addr_state:WI                               0\n",
       "addr_state:WV                               0\n",
       "addr_state:WY                               0\n",
       "initial_list_status:f                       0\n",
       "initial_list_status:w                       0\n",
       "dtype: int64"
      ]
     },
     "execution_count": 91,
     "metadata": {},
     "output_type": "execute_result"
    }
   ],
   "source": [
    "# Check again null values\n",
    "pd.options.display.max_rows=None\n",
    "data.isnull().sum()"
   ]
  },
  {
   "cell_type": "code",
   "execution_count": 92,
   "id": "61ebd251",
   "metadata": {},
   "outputs": [],
   "source": [
    "# These few obsesrvations will also be droped\n",
    "data=data.dropna(subset=['collections_12_mths_ex_med'])"
   ]
  },
  {
   "cell_type": "code",
   "execution_count": 93,
   "id": "904afbb0",
   "metadata": {},
   "outputs": [
    {
     "data": {
      "text/plain": [
       "loan_amnt                                   0\n",
       "funded_amnt                                 0\n",
       "funded_amnt_inv                             0\n",
       "int_rate                                    0\n",
       "installment                                 0\n",
       "annual_inc                                  0\n",
       "loan_status                                 0\n",
       "dti                                         0\n",
       "delinq_2yrs                                 0\n",
       "inq_last_6mths                              0\n",
       "open_acc                                    0\n",
       "pub_rec                                     0\n",
       "revol_bal                                   0\n",
       "revol_util                                  0\n",
       "total_acc                                   0\n",
       "out_prncp                                   0\n",
       "out_prncp_inv                               0\n",
       "total_pymnt                                 0\n",
       "total_pymnt_inv                             0\n",
       "total_rec_prncp                             0\n",
       "total_rec_int                               0\n",
       "total_rec_late_fee                          0\n",
       "recoveries                                  0\n",
       "collection_recovery_fee                     0\n",
       "last_pymnt_amnt                             0\n",
       "collections_12_mths_ex_med                  0\n",
       "mths_since_last_major_derog            366937\n",
       "policy_code                                 0\n",
       "acc_now_delinq                              0\n",
       "tot_coll_amt                            70042\n",
       "tot_cur_bal                             70042\n",
       "total_rev_hi_lim                        70042\n",
       "emp_length_int                              0\n",
       "term_int                                    0\n",
       "mths_since_earlst_cr_l                      0\n",
       "mths_since_issue_d                          0\n",
       "mths_since_last_cr                         40\n",
       "grade:A                                     0\n",
       "grade:B                                     0\n",
       "grade:C                                     0\n",
       "grade:D                                     0\n",
       "grade:E                                     0\n",
       "grade:F                                     0\n",
       "grade:G                                     0\n",
       "sub-grade:A1                                0\n",
       "sub-grade:A2                                0\n",
       "sub-grade:A3                                0\n",
       "sub-grade:A4                                0\n",
       "sub-grade:A5                                0\n",
       "sub-grade:B1                                0\n",
       "sub-grade:B2                                0\n",
       "sub-grade:B3                                0\n",
       "sub-grade:B4                                0\n",
       "sub-grade:B5                                0\n",
       "sub-grade:C1                                0\n",
       "sub-grade:C2                                0\n",
       "sub-grade:C3                                0\n",
       "sub-grade:C4                                0\n",
       "sub-grade:C5                                0\n",
       "sub-grade:D1                                0\n",
       "sub-grade:D2                                0\n",
       "sub-grade:D3                                0\n",
       "sub-grade:D4                                0\n",
       "sub-grade:D5                                0\n",
       "sub-grade:E1                                0\n",
       "sub-grade:E2                                0\n",
       "sub-grade:E3                                0\n",
       "sub-grade:E4                                0\n",
       "sub-grade:E5                                0\n",
       "sub-grade:F1                                0\n",
       "sub-grade:F2                                0\n",
       "sub-grade:F3                                0\n",
       "sub-grade:F4                                0\n",
       "sub-grade:F5                                0\n",
       "sub-grade:G1                                0\n",
       "sub-grade:G2                                0\n",
       "sub-grade:G3                                0\n",
       "sub-grade:G4                                0\n",
       "sub-grade:G5                                0\n",
       "home_ownership:ANY                          0\n",
       "home_ownership:MORTGAGE                     0\n",
       "home_ownership:NONE                         0\n",
       "home_ownership:OTHER                        0\n",
       "home_ownership:OWN                          0\n",
       "home_ownership:RENT                         0\n",
       "verification_status:Not Verified            0\n",
       "verification_status:Source Verified         0\n",
       "verification_status:Verified                0\n",
       "purpose:car                                 0\n",
       "purpose:credit_card                         0\n",
       "purpose:debt_consolidation                  0\n",
       "purpose:educational                         0\n",
       "purpose:home_improvement                    0\n",
       "purpose:house                               0\n",
       "purpose:major_purchase                      0\n",
       "purpose:medical                             0\n",
       "purpose:moving                              0\n",
       "purpose:other                               0\n",
       "purpose:renewable_energy                    0\n",
       "purpose:small_business                      0\n",
       "purpose:vacation                            0\n",
       "purpose:wedding                             0\n",
       "addr_state:AK                               0\n",
       "addr_state:AL                               0\n",
       "addr_state:AR                               0\n",
       "addr_state:AZ                               0\n",
       "addr_state:CA                               0\n",
       "addr_state:CO                               0\n",
       "addr_state:CT                               0\n",
       "addr_state:DC                               0\n",
       "addr_state:DE                               0\n",
       "addr_state:FL                               0\n",
       "addr_state:GA                               0\n",
       "addr_state:HI                               0\n",
       "addr_state:IA                               0\n",
       "addr_state:ID                               0\n",
       "addr_state:IL                               0\n",
       "addr_state:IN                               0\n",
       "addr_state:KS                               0\n",
       "addr_state:KY                               0\n",
       "addr_state:LA                               0\n",
       "addr_state:MA                               0\n",
       "addr_state:MD                               0\n",
       "addr_state:ME                               0\n",
       "addr_state:MI                               0\n",
       "addr_state:MN                               0\n",
       "addr_state:MO                               0\n",
       "addr_state:MS                               0\n",
       "addr_state:MT                               0\n",
       "addr_state:NC                               0\n",
       "addr_state:NE                               0\n",
       "addr_state:NH                               0\n",
       "addr_state:NJ                               0\n",
       "addr_state:NM                               0\n",
       "addr_state:NV                               0\n",
       "addr_state:NY                               0\n",
       "addr_state:OH                               0\n",
       "addr_state:OK                               0\n",
       "addr_state:OR                               0\n",
       "addr_state:PA                               0\n",
       "addr_state:RI                               0\n",
       "addr_state:SC                               0\n",
       "addr_state:SD                               0\n",
       "addr_state:TN                               0\n",
       "addr_state:TX                               0\n",
       "addr_state:UT                               0\n",
       "addr_state:VA                               0\n",
       "addr_state:VT                               0\n",
       "addr_state:WA                               0\n",
       "addr_state:WI                               0\n",
       "addr_state:WV                               0\n",
       "addr_state:WY                               0\n",
       "initial_list_status:f                       0\n",
       "initial_list_status:w                       0\n",
       "dtype: int64"
      ]
     },
     "execution_count": 93,
     "metadata": {},
     "output_type": "execute_result"
    }
   ],
   "source": [
    "# Check again null values\n",
    "pd.options.display.max_rows=None\n",
    "data.isnull().sum()"
   ]
  },
  {
   "cell_type": "code",
   "execution_count": 94,
   "id": "8ea2fea9",
   "metadata": {},
   "outputs": [],
   "source": [
    "# these are 40 observation which will drop\n",
    "data=data.dropna(subset=['mths_since_last_cr'])"
   ]
  },
  {
   "cell_type": "code",
   "execution_count": 95,
   "id": "3b1b7d2b",
   "metadata": {},
   "outputs": [
    {
     "data": {
      "text/plain": [
       "loan_amnt                                   0\n",
       "funded_amnt                                 0\n",
       "funded_amnt_inv                             0\n",
       "int_rate                                    0\n",
       "installment                                 0\n",
       "annual_inc                                  0\n",
       "loan_status                                 0\n",
       "dti                                         0\n",
       "delinq_2yrs                                 0\n",
       "inq_last_6mths                              0\n",
       "open_acc                                    0\n",
       "pub_rec                                     0\n",
       "revol_bal                                   0\n",
       "revol_util                                  0\n",
       "total_acc                                   0\n",
       "out_prncp                                   0\n",
       "out_prncp_inv                               0\n",
       "total_pymnt                                 0\n",
       "total_pymnt_inv                             0\n",
       "total_rec_prncp                             0\n",
       "total_rec_int                               0\n",
       "total_rec_late_fee                          0\n",
       "recoveries                                  0\n",
       "collection_recovery_fee                     0\n",
       "last_pymnt_amnt                             0\n",
       "collections_12_mths_ex_med                  0\n",
       "mths_since_last_major_derog            366905\n",
       "policy_code                                 0\n",
       "acc_now_delinq                              0\n",
       "tot_coll_amt                            70040\n",
       "tot_cur_bal                             70040\n",
       "total_rev_hi_lim                        70040\n",
       "emp_length_int                              0\n",
       "term_int                                    0\n",
       "mths_since_earlst_cr_l                      0\n",
       "mths_since_issue_d                          0\n",
       "mths_since_last_cr                          0\n",
       "grade:A                                     0\n",
       "grade:B                                     0\n",
       "grade:C                                     0\n",
       "grade:D                                     0\n",
       "grade:E                                     0\n",
       "grade:F                                     0\n",
       "grade:G                                     0\n",
       "sub-grade:A1                                0\n",
       "sub-grade:A2                                0\n",
       "sub-grade:A3                                0\n",
       "sub-grade:A4                                0\n",
       "sub-grade:A5                                0\n",
       "sub-grade:B1                                0\n",
       "sub-grade:B2                                0\n",
       "sub-grade:B3                                0\n",
       "sub-grade:B4                                0\n",
       "sub-grade:B5                                0\n",
       "sub-grade:C1                                0\n",
       "sub-grade:C2                                0\n",
       "sub-grade:C3                                0\n",
       "sub-grade:C4                                0\n",
       "sub-grade:C5                                0\n",
       "sub-grade:D1                                0\n",
       "sub-grade:D2                                0\n",
       "sub-grade:D3                                0\n",
       "sub-grade:D4                                0\n",
       "sub-grade:D5                                0\n",
       "sub-grade:E1                                0\n",
       "sub-grade:E2                                0\n",
       "sub-grade:E3                                0\n",
       "sub-grade:E4                                0\n",
       "sub-grade:E5                                0\n",
       "sub-grade:F1                                0\n",
       "sub-grade:F2                                0\n",
       "sub-grade:F3                                0\n",
       "sub-grade:F4                                0\n",
       "sub-grade:F5                                0\n",
       "sub-grade:G1                                0\n",
       "sub-grade:G2                                0\n",
       "sub-grade:G3                                0\n",
       "sub-grade:G4                                0\n",
       "sub-grade:G5                                0\n",
       "home_ownership:ANY                          0\n",
       "home_ownership:MORTGAGE                     0\n",
       "home_ownership:NONE                         0\n",
       "home_ownership:OTHER                        0\n",
       "home_ownership:OWN                          0\n",
       "home_ownership:RENT                         0\n",
       "verification_status:Not Verified            0\n",
       "verification_status:Source Verified         0\n",
       "verification_status:Verified                0\n",
       "purpose:car                                 0\n",
       "purpose:credit_card                         0\n",
       "purpose:debt_consolidation                  0\n",
       "purpose:educational                         0\n",
       "purpose:home_improvement                    0\n",
       "purpose:house                               0\n",
       "purpose:major_purchase                      0\n",
       "purpose:medical                             0\n",
       "purpose:moving                              0\n",
       "purpose:other                               0\n",
       "purpose:renewable_energy                    0\n",
       "purpose:small_business                      0\n",
       "purpose:vacation                            0\n",
       "purpose:wedding                             0\n",
       "addr_state:AK                               0\n",
       "addr_state:AL                               0\n",
       "addr_state:AR                               0\n",
       "addr_state:AZ                               0\n",
       "addr_state:CA                               0\n",
       "addr_state:CO                               0\n",
       "addr_state:CT                               0\n",
       "addr_state:DC                               0\n",
       "addr_state:DE                               0\n",
       "addr_state:FL                               0\n",
       "addr_state:GA                               0\n",
       "addr_state:HI                               0\n",
       "addr_state:IA                               0\n",
       "addr_state:ID                               0\n",
       "addr_state:IL                               0\n",
       "addr_state:IN                               0\n",
       "addr_state:KS                               0\n",
       "addr_state:KY                               0\n",
       "addr_state:LA                               0\n",
       "addr_state:MA                               0\n",
       "addr_state:MD                               0\n",
       "addr_state:ME                               0\n",
       "addr_state:MI                               0\n",
       "addr_state:MN                               0\n",
       "addr_state:MO                               0\n",
       "addr_state:MS                               0\n",
       "addr_state:MT                               0\n",
       "addr_state:NC                               0\n",
       "addr_state:NE                               0\n",
       "addr_state:NH                               0\n",
       "addr_state:NJ                               0\n",
       "addr_state:NM                               0\n",
       "addr_state:NV                               0\n",
       "addr_state:NY                               0\n",
       "addr_state:OH                               0\n",
       "addr_state:OK                               0\n",
       "addr_state:OR                               0\n",
       "addr_state:PA                               0\n",
       "addr_state:RI                               0\n",
       "addr_state:SC                               0\n",
       "addr_state:SD                               0\n",
       "addr_state:TN                               0\n",
       "addr_state:TX                               0\n",
       "addr_state:UT                               0\n",
       "addr_state:VA                               0\n",
       "addr_state:VT                               0\n",
       "addr_state:WA                               0\n",
       "addr_state:WI                               0\n",
       "addr_state:WV                               0\n",
       "addr_state:WY                               0\n",
       "initial_list_status:f                       0\n",
       "initial_list_status:w                       0\n",
       "dtype: int64"
      ]
     },
     "execution_count": 95,
     "metadata": {},
     "output_type": "execute_result"
    }
   ],
   "source": [
    "# Check again null values\n",
    "pd.options.display.max_rows=None\n",
    "data.isnull().sum()"
   ]
  },
  {
   "cell_type": "markdown",
   "id": "baa88274",
   "metadata": {},
   "source": [
    "## Now there are 4 features with many null values will check them "
   ]
  },
  {
   "cell_type": "code",
   "execution_count": 96,
   "id": "b860c874",
   "metadata": {},
   "outputs": [
    {
     "name": "stdout",
     "output_type": "stream",
     "text": [
      "<class 'pandas.core.frame.DataFrame'>\n",
      "Int64Index: 465792 entries, 0 to 466284\n",
      "Columns: 154 entries, loan_amnt to initial_list_status:w\n",
      "dtypes: float64(30), int64(6), object(1), uint8(117)\n",
      "memory usage: 187.0+ MB\n"
     ]
    }
   ],
   "source": [
    "data.info()"
   ]
  },
  {
   "cell_type": "code",
   "execution_count": 97,
   "id": "81ca502e",
   "metadata": {},
   "outputs": [
    {
     "data": {
      "text/plain": [
       "count    98887.000000\n",
       "mean        42.858900\n",
       "std         21.663963\n",
       "min          0.000000\n",
       "25%         26.000000\n",
       "50%         42.000000\n",
       "75%         59.000000\n",
       "max        188.000000\n",
       "Name: mths_since_last_major_derog, dtype: float64"
      ]
     },
     "execution_count": 97,
     "metadata": {},
     "output_type": "execute_result"
    }
   ],
   "source": [
    "data.mths_since_last_major_derog.describe()"
   ]
  },
  {
   "cell_type": "code",
   "execution_count": 98,
   "id": "7add9347",
   "metadata": {},
   "outputs": [],
   "source": [
    "# I suggest two dummy varibles 0 if these is null value and 1 if thes eis a value\n",
    "data=data.drop(['mths_since_last_major_derog'],axis=1)"
   ]
  },
  {
   "cell_type": "code",
   "execution_count": 99,
   "id": "bdfaa949",
   "metadata": {},
   "outputs": [
    {
     "data": {
      "text/plain": [
       "loan_amnt                                  0\n",
       "funded_amnt                                0\n",
       "funded_amnt_inv                            0\n",
       "int_rate                                   0\n",
       "installment                                0\n",
       "annual_inc                                 0\n",
       "loan_status                                0\n",
       "dti                                        0\n",
       "delinq_2yrs                                0\n",
       "inq_last_6mths                             0\n",
       "open_acc                                   0\n",
       "pub_rec                                    0\n",
       "revol_bal                                  0\n",
       "revol_util                                 0\n",
       "total_acc                                  0\n",
       "out_prncp                                  0\n",
       "out_prncp_inv                              0\n",
       "total_pymnt                                0\n",
       "total_pymnt_inv                            0\n",
       "total_rec_prncp                            0\n",
       "total_rec_int                              0\n",
       "total_rec_late_fee                         0\n",
       "recoveries                                 0\n",
       "collection_recovery_fee                    0\n",
       "last_pymnt_amnt                            0\n",
       "collections_12_mths_ex_med                 0\n",
       "policy_code                                0\n",
       "acc_now_delinq                             0\n",
       "tot_coll_amt                           70040\n",
       "tot_cur_bal                            70040\n",
       "total_rev_hi_lim                       70040\n",
       "emp_length_int                             0\n",
       "term_int                                   0\n",
       "mths_since_earlst_cr_l                     0\n",
       "mths_since_issue_d                         0\n",
       "mths_since_last_cr                         0\n",
       "grade:A                                    0\n",
       "grade:B                                    0\n",
       "grade:C                                    0\n",
       "grade:D                                    0\n",
       "grade:E                                    0\n",
       "grade:F                                    0\n",
       "grade:G                                    0\n",
       "sub-grade:A1                               0\n",
       "sub-grade:A2                               0\n",
       "sub-grade:A3                               0\n",
       "sub-grade:A4                               0\n",
       "sub-grade:A5                               0\n",
       "sub-grade:B1                               0\n",
       "sub-grade:B2                               0\n",
       "sub-grade:B3                               0\n",
       "sub-grade:B4                               0\n",
       "sub-grade:B5                               0\n",
       "sub-grade:C1                               0\n",
       "sub-grade:C2                               0\n",
       "sub-grade:C3                               0\n",
       "sub-grade:C4                               0\n",
       "sub-grade:C5                               0\n",
       "sub-grade:D1                               0\n",
       "sub-grade:D2                               0\n",
       "sub-grade:D3                               0\n",
       "sub-grade:D4                               0\n",
       "sub-grade:D5                               0\n",
       "sub-grade:E1                               0\n",
       "sub-grade:E2                               0\n",
       "sub-grade:E3                               0\n",
       "sub-grade:E4                               0\n",
       "sub-grade:E5                               0\n",
       "sub-grade:F1                               0\n",
       "sub-grade:F2                               0\n",
       "sub-grade:F3                               0\n",
       "sub-grade:F4                               0\n",
       "sub-grade:F5                               0\n",
       "sub-grade:G1                               0\n",
       "sub-grade:G2                               0\n",
       "sub-grade:G3                               0\n",
       "sub-grade:G4                               0\n",
       "sub-grade:G5                               0\n",
       "home_ownership:ANY                         0\n",
       "home_ownership:MORTGAGE                    0\n",
       "home_ownership:NONE                        0\n",
       "home_ownership:OTHER                       0\n",
       "home_ownership:OWN                         0\n",
       "home_ownership:RENT                        0\n",
       "verification_status:Not Verified           0\n",
       "verification_status:Source Verified        0\n",
       "verification_status:Verified               0\n",
       "purpose:car                                0\n",
       "purpose:credit_card                        0\n",
       "purpose:debt_consolidation                 0\n",
       "purpose:educational                        0\n",
       "purpose:home_improvement                   0\n",
       "purpose:house                              0\n",
       "purpose:major_purchase                     0\n",
       "purpose:medical                            0\n",
       "purpose:moving                             0\n",
       "purpose:other                              0\n",
       "purpose:renewable_energy                   0\n",
       "purpose:small_business                     0\n",
       "purpose:vacation                           0\n",
       "purpose:wedding                            0\n",
       "addr_state:AK                              0\n",
       "addr_state:AL                              0\n",
       "addr_state:AR                              0\n",
       "addr_state:AZ                              0\n",
       "addr_state:CA                              0\n",
       "addr_state:CO                              0\n",
       "addr_state:CT                              0\n",
       "addr_state:DC                              0\n",
       "addr_state:DE                              0\n",
       "addr_state:FL                              0\n",
       "addr_state:GA                              0\n",
       "addr_state:HI                              0\n",
       "addr_state:IA                              0\n",
       "addr_state:ID                              0\n",
       "addr_state:IL                              0\n",
       "addr_state:IN                              0\n",
       "addr_state:KS                              0\n",
       "addr_state:KY                              0\n",
       "addr_state:LA                              0\n",
       "addr_state:MA                              0\n",
       "addr_state:MD                              0\n",
       "addr_state:ME                              0\n",
       "addr_state:MI                              0\n",
       "addr_state:MN                              0\n",
       "addr_state:MO                              0\n",
       "addr_state:MS                              0\n",
       "addr_state:MT                              0\n",
       "addr_state:NC                              0\n",
       "addr_state:NE                              0\n",
       "addr_state:NH                              0\n",
       "addr_state:NJ                              0\n",
       "addr_state:NM                              0\n",
       "addr_state:NV                              0\n",
       "addr_state:NY                              0\n",
       "addr_state:OH                              0\n",
       "addr_state:OK                              0\n",
       "addr_state:OR                              0\n",
       "addr_state:PA                              0\n",
       "addr_state:RI                              0\n",
       "addr_state:SC                              0\n",
       "addr_state:SD                              0\n",
       "addr_state:TN                              0\n",
       "addr_state:TX                              0\n",
       "addr_state:UT                              0\n",
       "addr_state:VA                              0\n",
       "addr_state:VT                              0\n",
       "addr_state:WA                              0\n",
       "addr_state:WI                              0\n",
       "addr_state:WV                              0\n",
       "addr_state:WY                              0\n",
       "initial_list_status:f                      0\n",
       "initial_list_status:w                      0\n",
       "dtype: int64"
      ]
     },
     "execution_count": 99,
     "metadata": {},
     "output_type": "execute_result"
    }
   ],
   "source": [
    "# Check again null values\n",
    "pd.options.display.max_rows=None\n",
    "data.isnull().sum()"
   ]
  },
  {
   "cell_type": "code",
   "execution_count": 100,
   "id": "4526dc33",
   "metadata": {},
   "outputs": [
    {
     "data": {
      "text/plain": [
       "count    3.957520e+05\n",
       "mean     1.919287e+02\n",
       "std      1.463492e+04\n",
       "min      0.000000e+00\n",
       "25%      0.000000e+00\n",
       "50%      0.000000e+00\n",
       "75%      0.000000e+00\n",
       "max      9.152545e+06\n",
       "Name: tot_coll_amt, dtype: float64"
      ]
     },
     "execution_count": 100,
     "metadata": {},
     "output_type": "execute_result"
    }
   ],
   "source": [
    "data.tot_coll_amt.describe()"
   ]
  },
  {
   "cell_type": "code",
   "execution_count": 101,
   "id": "d4024053",
   "metadata": {},
   "outputs": [],
   "source": [
    "data=data.drop(['tot_coll_amt'],axis=1)"
   ]
  },
  {
   "cell_type": "code",
   "execution_count": 102,
   "id": "be3de3ce",
   "metadata": {},
   "outputs": [
    {
     "data": {
      "text/plain": [
       "loan_amnt                                  0\n",
       "funded_amnt                                0\n",
       "funded_amnt_inv                            0\n",
       "int_rate                                   0\n",
       "installment                                0\n",
       "annual_inc                                 0\n",
       "loan_status                                0\n",
       "dti                                        0\n",
       "delinq_2yrs                                0\n",
       "inq_last_6mths                             0\n",
       "open_acc                                   0\n",
       "pub_rec                                    0\n",
       "revol_bal                                  0\n",
       "revol_util                                 0\n",
       "total_acc                                  0\n",
       "out_prncp                                  0\n",
       "out_prncp_inv                              0\n",
       "total_pymnt                                0\n",
       "total_pymnt_inv                            0\n",
       "total_rec_prncp                            0\n",
       "total_rec_int                              0\n",
       "total_rec_late_fee                         0\n",
       "recoveries                                 0\n",
       "collection_recovery_fee                    0\n",
       "last_pymnt_amnt                            0\n",
       "collections_12_mths_ex_med                 0\n",
       "policy_code                                0\n",
       "acc_now_delinq                             0\n",
       "tot_cur_bal                            70040\n",
       "total_rev_hi_lim                       70040\n",
       "emp_length_int                             0\n",
       "term_int                                   0\n",
       "mths_since_earlst_cr_l                     0\n",
       "mths_since_issue_d                         0\n",
       "mths_since_last_cr                         0\n",
       "grade:A                                    0\n",
       "grade:B                                    0\n",
       "grade:C                                    0\n",
       "grade:D                                    0\n",
       "grade:E                                    0\n",
       "grade:F                                    0\n",
       "grade:G                                    0\n",
       "sub-grade:A1                               0\n",
       "sub-grade:A2                               0\n",
       "sub-grade:A3                               0\n",
       "sub-grade:A4                               0\n",
       "sub-grade:A5                               0\n",
       "sub-grade:B1                               0\n",
       "sub-grade:B2                               0\n",
       "sub-grade:B3                               0\n",
       "sub-grade:B4                               0\n",
       "sub-grade:B5                               0\n",
       "sub-grade:C1                               0\n",
       "sub-grade:C2                               0\n",
       "sub-grade:C3                               0\n",
       "sub-grade:C4                               0\n",
       "sub-grade:C5                               0\n",
       "sub-grade:D1                               0\n",
       "sub-grade:D2                               0\n",
       "sub-grade:D3                               0\n",
       "sub-grade:D4                               0\n",
       "sub-grade:D5                               0\n",
       "sub-grade:E1                               0\n",
       "sub-grade:E2                               0\n",
       "sub-grade:E3                               0\n",
       "sub-grade:E4                               0\n",
       "sub-grade:E5                               0\n",
       "sub-grade:F1                               0\n",
       "sub-grade:F2                               0\n",
       "sub-grade:F3                               0\n",
       "sub-grade:F4                               0\n",
       "sub-grade:F5                               0\n",
       "sub-grade:G1                               0\n",
       "sub-grade:G2                               0\n",
       "sub-grade:G3                               0\n",
       "sub-grade:G4                               0\n",
       "sub-grade:G5                               0\n",
       "home_ownership:ANY                         0\n",
       "home_ownership:MORTGAGE                    0\n",
       "home_ownership:NONE                        0\n",
       "home_ownership:OTHER                       0\n",
       "home_ownership:OWN                         0\n",
       "home_ownership:RENT                        0\n",
       "verification_status:Not Verified           0\n",
       "verification_status:Source Verified        0\n",
       "verification_status:Verified               0\n",
       "purpose:car                                0\n",
       "purpose:credit_card                        0\n",
       "purpose:debt_consolidation                 0\n",
       "purpose:educational                        0\n",
       "purpose:home_improvement                   0\n",
       "purpose:house                              0\n",
       "purpose:major_purchase                     0\n",
       "purpose:medical                            0\n",
       "purpose:moving                             0\n",
       "purpose:other                              0\n",
       "purpose:renewable_energy                   0\n",
       "purpose:small_business                     0\n",
       "purpose:vacation                           0\n",
       "purpose:wedding                            0\n",
       "addr_state:AK                              0\n",
       "addr_state:AL                              0\n",
       "addr_state:AR                              0\n",
       "addr_state:AZ                              0\n",
       "addr_state:CA                              0\n",
       "addr_state:CO                              0\n",
       "addr_state:CT                              0\n",
       "addr_state:DC                              0\n",
       "addr_state:DE                              0\n",
       "addr_state:FL                              0\n",
       "addr_state:GA                              0\n",
       "addr_state:HI                              0\n",
       "addr_state:IA                              0\n",
       "addr_state:ID                              0\n",
       "addr_state:IL                              0\n",
       "addr_state:IN                              0\n",
       "addr_state:KS                              0\n",
       "addr_state:KY                              0\n",
       "addr_state:LA                              0\n",
       "addr_state:MA                              0\n",
       "addr_state:MD                              0\n",
       "addr_state:ME                              0\n",
       "addr_state:MI                              0\n",
       "addr_state:MN                              0\n",
       "addr_state:MO                              0\n",
       "addr_state:MS                              0\n",
       "addr_state:MT                              0\n",
       "addr_state:NC                              0\n",
       "addr_state:NE                              0\n",
       "addr_state:NH                              0\n",
       "addr_state:NJ                              0\n",
       "addr_state:NM                              0\n",
       "addr_state:NV                              0\n",
       "addr_state:NY                              0\n",
       "addr_state:OH                              0\n",
       "addr_state:OK                              0\n",
       "addr_state:OR                              0\n",
       "addr_state:PA                              0\n",
       "addr_state:RI                              0\n",
       "addr_state:SC                              0\n",
       "addr_state:SD                              0\n",
       "addr_state:TN                              0\n",
       "addr_state:TX                              0\n",
       "addr_state:UT                              0\n",
       "addr_state:VA                              0\n",
       "addr_state:VT                              0\n",
       "addr_state:WA                              0\n",
       "addr_state:WI                              0\n",
       "addr_state:WV                              0\n",
       "addr_state:WY                              0\n",
       "initial_list_status:f                      0\n",
       "initial_list_status:w                      0\n",
       "dtype: int64"
      ]
     },
     "execution_count": 102,
     "metadata": {},
     "output_type": "execute_result"
    }
   ],
   "source": [
    "pd.options.display.max_rows=None\n",
    "data.isnull().sum()"
   ]
  },
  {
   "cell_type": "code",
   "execution_count": 103,
   "id": "ec2d0a1d",
   "metadata": {},
   "outputs": [],
   "source": [
    "data=data.drop(['tot_cur_bal','total_rev_hi_lim'],axis=1)"
   ]
  },
  {
   "cell_type": "code",
   "execution_count": 104,
   "id": "c6f249e2",
   "metadata": {},
   "outputs": [
    {
     "data": {
      "text/plain": [
       "loan_amnt                              465792\n",
       "funded_amnt                            465792\n",
       "funded_amnt_inv                        465792\n",
       "int_rate                               465792\n",
       "installment                            465792\n",
       "annual_inc                             465792\n",
       "loan_status                            465792\n",
       "dti                                    465792\n",
       "delinq_2yrs                            465792\n",
       "inq_last_6mths                         465792\n",
       "open_acc                               465792\n",
       "pub_rec                                465792\n",
       "revol_bal                              465792\n",
       "revol_util                             465792\n",
       "total_acc                              465792\n",
       "out_prncp                              465792\n",
       "out_prncp_inv                          465792\n",
       "total_pymnt                            465792\n",
       "total_pymnt_inv                        465792\n",
       "total_rec_prncp                        465792\n",
       "total_rec_int                          465792\n",
       "total_rec_late_fee                     465792\n",
       "recoveries                             465792\n",
       "collection_recovery_fee                465792\n",
       "last_pymnt_amnt                        465792\n",
       "collections_12_mths_ex_med             465792\n",
       "policy_code                            465792\n",
       "acc_now_delinq                         465792\n",
       "emp_length_int                         465792\n",
       "term_int                               465792\n",
       "mths_since_earlst_cr_l                 465792\n",
       "mths_since_issue_d                     465792\n",
       "mths_since_last_cr                     465792\n",
       "grade:A                                465792\n",
       "grade:B                                465792\n",
       "grade:C                                465792\n",
       "grade:D                                465792\n",
       "grade:E                                465792\n",
       "grade:F                                465792\n",
       "grade:G                                465792\n",
       "sub-grade:A1                           465792\n",
       "sub-grade:A2                           465792\n",
       "sub-grade:A3                           465792\n",
       "sub-grade:A4                           465792\n",
       "sub-grade:A5                           465792\n",
       "sub-grade:B1                           465792\n",
       "sub-grade:B2                           465792\n",
       "sub-grade:B3                           465792\n",
       "sub-grade:B4                           465792\n",
       "sub-grade:B5                           465792\n",
       "sub-grade:C1                           465792\n",
       "sub-grade:C2                           465792\n",
       "sub-grade:C3                           465792\n",
       "sub-grade:C4                           465792\n",
       "sub-grade:C5                           465792\n",
       "sub-grade:D1                           465792\n",
       "sub-grade:D2                           465792\n",
       "sub-grade:D3                           465792\n",
       "sub-grade:D4                           465792\n",
       "sub-grade:D5                           465792\n",
       "sub-grade:E1                           465792\n",
       "sub-grade:E2                           465792\n",
       "sub-grade:E3                           465792\n",
       "sub-grade:E4                           465792\n",
       "sub-grade:E5                           465792\n",
       "sub-grade:F1                           465792\n",
       "sub-grade:F2                           465792\n",
       "sub-grade:F3                           465792\n",
       "sub-grade:F4                           465792\n",
       "sub-grade:F5                           465792\n",
       "sub-grade:G1                           465792\n",
       "sub-grade:G2                           465792\n",
       "sub-grade:G3                           465792\n",
       "sub-grade:G4                           465792\n",
       "sub-grade:G5                           465792\n",
       "home_ownership:ANY                     465792\n",
       "home_ownership:MORTGAGE                465792\n",
       "home_ownership:NONE                    465792\n",
       "home_ownership:OTHER                   465792\n",
       "home_ownership:OWN                     465792\n",
       "home_ownership:RENT                    465792\n",
       "verification_status:Not Verified       465792\n",
       "verification_status:Source Verified    465792\n",
       "verification_status:Verified           465792\n",
       "purpose:car                            465792\n",
       "purpose:credit_card                    465792\n",
       "purpose:debt_consolidation             465792\n",
       "purpose:educational                    465792\n",
       "purpose:home_improvement               465792\n",
       "purpose:house                          465792\n",
       "purpose:major_purchase                 465792\n",
       "purpose:medical                        465792\n",
       "purpose:moving                         465792\n",
       "purpose:other                          465792\n",
       "purpose:renewable_energy               465792\n",
       "purpose:small_business                 465792\n",
       "purpose:vacation                       465792\n",
       "purpose:wedding                        465792\n",
       "addr_state:AK                          465792\n",
       "addr_state:AL                          465792\n",
       "addr_state:AR                          465792\n",
       "addr_state:AZ                          465792\n",
       "addr_state:CA                          465792\n",
       "addr_state:CO                          465792\n",
       "addr_state:CT                          465792\n",
       "addr_state:DC                          465792\n",
       "addr_state:DE                          465792\n",
       "addr_state:FL                          465792\n",
       "addr_state:GA                          465792\n",
       "addr_state:HI                          465792\n",
       "addr_state:IA                          465792\n",
       "addr_state:ID                          465792\n",
       "addr_state:IL                          465792\n",
       "addr_state:IN                          465792\n",
       "addr_state:KS                          465792\n",
       "addr_state:KY                          465792\n",
       "addr_state:LA                          465792\n",
       "addr_state:MA                          465792\n",
       "addr_state:MD                          465792\n",
       "addr_state:ME                          465792\n",
       "addr_state:MI                          465792\n",
       "addr_state:MN                          465792\n",
       "addr_state:MO                          465792\n",
       "addr_state:MS                          465792\n",
       "addr_state:MT                          465792\n",
       "addr_state:NC                          465792\n",
       "addr_state:NE                          465792\n",
       "addr_state:NH                          465792\n",
       "addr_state:NJ                          465792\n",
       "addr_state:NM                          465792\n",
       "addr_state:NV                          465792\n",
       "addr_state:NY                          465792\n",
       "addr_state:OH                          465792\n",
       "addr_state:OK                          465792\n",
       "addr_state:OR                          465792\n",
       "addr_state:PA                          465792\n",
       "addr_state:RI                          465792\n",
       "addr_state:SC                          465792\n",
       "addr_state:SD                          465792\n",
       "addr_state:TN                          465792\n",
       "addr_state:TX                          465792\n",
       "addr_state:UT                          465792\n",
       "addr_state:VA                          465792\n",
       "addr_state:VT                          465792\n",
       "addr_state:WA                          465792\n",
       "addr_state:WI                          465792\n",
       "addr_state:WV                          465792\n",
       "addr_state:WY                          465792\n",
       "initial_list_status:f                  465792\n",
       "initial_list_status:w                  465792\n",
       "dtype: int64"
      ]
     },
     "execution_count": 104,
     "metadata": {},
     "output_type": "execute_result"
    }
   ],
   "source": [
    "# Now there are no missing values\n",
    "data.count()"
   ]
  },
  {
   "cell_type": "markdown",
   "id": "ed7a5b8a",
   "metadata": {},
   "source": [
    "# Probability of Default"
   ]
  },
  {
   "cell_type": "code",
   "execution_count": 105,
   "id": "b36cf7fd",
   "metadata": {},
   "outputs": [
    {
     "data": {
      "text/plain": [
       "array(['Fully Paid', 'Charged Off', 'Current', 'Default',\n",
       "       'Late (31-120 days)', 'In Grace Period', 'Late (16-30 days)',\n",
       "       'Does not meet the credit policy. Status:Fully Paid',\n",
       "       'Does not meet the credit policy. Status:Charged Off'],\n",
       "      dtype=object)"
      ]
     },
     "execution_count": 105,
     "metadata": {},
     "output_type": "execute_result"
    }
   ],
   "source": [
    "data.loan_status.unique()"
   ]
  },
  {
   "cell_type": "code",
   "execution_count": 106,
   "id": "541a44d5",
   "metadata": {},
   "outputs": [],
   "source": [
    "# i will set a new feature target 0 for deafult 1 for good loan\n",
    "data['good_bad']=np.where(data.loan_status.isin(['Charged Off','Default',\n",
    "                                                'Late (31-120 days)',\n",
    "                                                'Does not meet the credit policy. Status:Charged Off']),0,1)\n"
   ]
  },
  {
   "cell_type": "code",
   "execution_count": 107,
   "id": "35c65a6d",
   "metadata": {},
   "outputs": [
    {
     "data": {
      "text/plain": [
       "1    0.890765\n",
       "0    0.109235\n",
       "Name: good_bad, dtype: float64"
      ]
     },
     "execution_count": 107,
     "metadata": {},
     "output_type": "execute_result"
    }
   ],
   "source": [
    "data['good_bad'].value_counts()/data['good_bad'].count()"
   ]
  },
  {
   "cell_type": "code",
   "execution_count": 108,
   "id": "55a8df96",
   "metadata": {},
   "outputs": [
    {
     "data": {
      "text/plain": [
       "Index(['loan_amnt', 'funded_amnt', 'funded_amnt_inv', 'int_rate',\n",
       "       'installment', 'annual_inc', 'loan_status', 'dti', 'delinq_2yrs',\n",
       "       'inq_last_6mths',\n",
       "       ...\n",
       "       'addr_state:UT', 'addr_state:VA', 'addr_state:VT', 'addr_state:WA',\n",
       "       'addr_state:WI', 'addr_state:WV', 'addr_state:WY',\n",
       "       'initial_list_status:f', 'initial_list_status:w', 'good_bad'],\n",
       "      dtype='object', length=151)"
      ]
     },
     "execution_count": 108,
     "metadata": {},
     "output_type": "execute_result"
    }
   ],
   "source": [
    "data.columns\n"
   ]
  },
  {
   "cell_type": "code",
   "execution_count": 109,
   "id": "3b7a689c",
   "metadata": {},
   "outputs": [],
   "source": [
    "data=data.drop(['loan_status'],axis=1)"
   ]
  },
  {
   "cell_type": "code",
   "execution_count": 110,
   "id": "4207ce2a",
   "metadata": {},
   "outputs": [],
   "source": [
    "X=data.drop(['good_bad'],axis=1)\n",
    "y=data['good_bad']"
   ]
  },
  {
   "cell_type": "markdown",
   "id": "1b2d4892",
   "metadata": {},
   "source": [
    "## I will split the data in order to evaluate the model"
   ]
  },
  {
   "cell_type": "code",
   "execution_count": 111,
   "id": "50c6dfab",
   "metadata": {},
   "outputs": [],
   "source": [
    "from sklearn.model_selection import train_test_split\n"
   ]
  },
  {
   "cell_type": "code",
   "execution_count": 112,
   "id": "7b8216fb",
   "metadata": {},
   "outputs": [],
   "source": [
    "X_train, X_test, y_train, y_test=train_test_split(X,y,test_size=0.25)"
   ]
  },
  {
   "cell_type": "code",
   "execution_count": 113,
   "id": "4b60c59c",
   "metadata": {},
   "outputs": [],
   "source": [
    "from sklearn.linear_model import LogisticRegression"
   ]
  },
  {
   "cell_type": "code",
   "execution_count": 114,
   "id": "8058031b",
   "metadata": {},
   "outputs": [],
   "source": [
    "reg=LogisticRegression(max_iter=500)"
   ]
  },
  {
   "cell_type": "code",
   "execution_count": 115,
   "id": "e9545c83",
   "metadata": {},
   "outputs": [
    {
     "name": "stderr",
     "output_type": "stream",
     "text": [
      "C:\\Users\\user\\anaconda3\\lib\\site-packages\\sklearn\\linear_model\\_logistic.py:763: ConvergenceWarning: lbfgs failed to converge (status=1):\n",
      "STOP: TOTAL NO. of ITERATIONS REACHED LIMIT.\n",
      "\n",
      "Increase the number of iterations (max_iter) or scale the data as shown in:\n",
      "    https://scikit-learn.org/stable/modules/preprocessing.html\n",
      "Please also refer to the documentation for alternative solver options:\n",
      "    https://scikit-learn.org/stable/modules/linear_model.html#logistic-regression\n",
      "  n_iter_i = _check_optimize_result(\n"
     ]
    },
    {
     "data": {
      "text/plain": [
       "LogisticRegression(max_iter=500)"
      ]
     },
     "execution_count": 115,
     "metadata": {},
     "output_type": "execute_result"
    }
   ],
   "source": [
    "reg.fit(X_train,y_train)"
   ]
  },
  {
   "cell_type": "code",
   "execution_count": 116,
   "id": "531b8b64",
   "metadata": {},
   "outputs": [],
   "source": [
    "y_pred=reg.predict(X_test)"
   ]
  },
  {
   "cell_type": "code",
   "execution_count": 117,
   "id": "c84855da",
   "metadata": {},
   "outputs": [],
   "source": [
    "from sklearn.metrics import classification_report, confusion_matrix"
   ]
  },
  {
   "cell_type": "code",
   "execution_count": 118,
   "id": "e41825f4",
   "metadata": {},
   "outputs": [
    {
     "name": "stdout",
     "output_type": "stream",
     "text": [
      "[[ 10637   2138]\n",
      " [    15 103658]]\n"
     ]
    }
   ],
   "source": [
    "print(confusion_matrix(y_test,y_pred))"
   ]
  },
  {
   "cell_type": "code",
   "execution_count": 119,
   "id": "d762e21a",
   "metadata": {},
   "outputs": [
    {
     "data": {
      "text/plain": [
       "103673"
      ]
     },
     "execution_count": 119,
     "metadata": {},
     "output_type": "execute_result"
    }
   ],
   "source": [
    "y_test.sum()"
   ]
  },
  {
   "cell_type": "code",
   "execution_count": 120,
   "id": "f71e8d67",
   "metadata": {},
   "outputs": [
    {
     "data": {
      "text/plain": [
       "105796"
      ]
     },
     "execution_count": 120,
     "metadata": {},
     "output_type": "execute_result"
    }
   ],
   "source": [
    "y_pred.sum()"
   ]
  },
  {
   "cell_type": "code",
   "execution_count": 121,
   "id": "6e3a5cda",
   "metadata": {},
   "outputs": [
    {
     "name": "stdout",
     "output_type": "stream",
     "text": [
      "              precision    recall  f1-score   support\n",
      "\n",
      "           0       1.00      0.83      0.91     12775\n",
      "           1       0.98      1.00      0.99    103673\n",
      "\n",
      "    accuracy                           0.98    116448\n",
      "   macro avg       0.99      0.92      0.95    116448\n",
      "weighted avg       0.98      0.98      0.98    116448\n",
      "\n"
     ]
    }
   ],
   "source": [
    "print(classification_report(y_test,y_pred))"
   ]
  },
  {
   "cell_type": "code",
   "execution_count": 122,
   "id": "db87d975",
   "metadata": {},
   "outputs": [
    {
     "data": {
      "text/plain": [
       "Index(['loan_amnt', 'funded_amnt', 'funded_amnt_inv', 'int_rate',\n",
       "       'installment', 'annual_inc', 'dti', 'delinq_2yrs', 'inq_last_6mths',\n",
       "       'open_acc',\n",
       "       ...\n",
       "       'addr_state:UT', 'addr_state:VA', 'addr_state:VT', 'addr_state:WA',\n",
       "       'addr_state:WI', 'addr_state:WV', 'addr_state:WY',\n",
       "       'initial_list_status:f', 'initial_list_status:w', 'good_bad'],\n",
       "      dtype='object', length=150)"
      ]
     },
     "execution_count": 122,
     "metadata": {},
     "output_type": "execute_result"
    }
   ],
   "source": [
    "data.columns"
   ]
  },
  {
   "cell_type": "code",
   "execution_count": 123,
   "id": "fbdb9cf5",
   "metadata": {},
   "outputs": [],
   "source": [
    "from sklearn.ensemble import RandomForestClassifier"
   ]
  },
  {
   "cell_type": "code",
   "execution_count": 124,
   "id": "0429c931",
   "metadata": {},
   "outputs": [],
   "source": [
    "rfc=RandomForestClassifier()"
   ]
  },
  {
   "cell_type": "code",
   "execution_count": 125,
   "id": "6e17bf5d",
   "metadata": {},
   "outputs": [
    {
     "data": {
      "text/plain": [
       "RandomForestClassifier()"
      ]
     },
     "execution_count": 125,
     "metadata": {},
     "output_type": "execute_result"
    }
   ],
   "source": [
    "rfc.fit(X_train,y_train)"
   ]
  },
  {
   "cell_type": "code",
   "execution_count": 126,
   "id": "905bb298",
   "metadata": {},
   "outputs": [],
   "source": [
    "y_pred=rfc.predict(X_test)"
   ]
  },
  {
   "cell_type": "code",
   "execution_count": 127,
   "id": "5f7e3031",
   "metadata": {},
   "outputs": [
    {
     "name": "stdout",
     "output_type": "stream",
     "text": [
      "[[ 10816   1959]\n",
      " [    10 103663]]\n"
     ]
    }
   ],
   "source": [
    "print(confusion_matrix(y_test,y_pred))"
   ]
  },
  {
   "cell_type": "code",
   "execution_count": 128,
   "id": "3468c1e9",
   "metadata": {},
   "outputs": [
    {
     "name": "stdout",
     "output_type": "stream",
     "text": [
      "              precision    recall  f1-score   support\n",
      "\n",
      "           0       1.00      0.85      0.92     12775\n",
      "           1       0.98      1.00      0.99    103673\n",
      "\n",
      "    accuracy                           0.98    116448\n",
      "   macro avg       0.99      0.92      0.95    116448\n",
      "weighted avg       0.98      0.98      0.98    116448\n",
      "\n"
     ]
    }
   ],
   "source": [
    "print(classification_report(y_test,y_pred))"
   ]
  },
  {
   "cell_type": "markdown",
   "id": "1531e530",
   "metadata": {},
   "source": [
    "## Now we will estimate the importance of each feature into the result"
   ]
  },
  {
   "cell_type": "code",
   "execution_count": 129,
   "id": "4da5c60d",
   "metadata": {},
   "outputs": [],
   "source": [
    "feature_importance=rfc.feature_importances_"
   ]
  },
  {
   "cell_type": "code",
   "execution_count": 130,
   "id": "fad77164",
   "metadata": {},
   "outputs": [
    {
     "name": "stdout",
     "output_type": "stream",
     "text": [
      "Feature 1: 0.027966412254704344\n",
      "Feature 2: 0.03589664475863366\n",
      "Feature 3: 0.03173853498799608\n",
      "Feature 4: 0.01056843037904478\n",
      "Feature 5: 0.036123411607732886\n",
      "Feature 6: 0.0074037316683232615\n",
      "Feature 7: 0.00791118027882073\n",
      "Feature 8: 0.001797709364130399\n",
      "Feature 9: 0.003005529434395088\n",
      "Feature 10: 0.005479607609686101\n",
      "Feature 11: 0.0012131771434867578\n",
      "Feature 12: 0.00806096140127367\n",
      "Feature 13: 0.0074806748555739655\n",
      "Feature 14: 0.006097863904177198\n",
      "Feature 15: 0.052733386737260995\n",
      "Feature 16: 0.0527982203761247\n",
      "Feature 17: 0.054211295361424244\n",
      "Feature 18: 0.04710543073436507\n",
      "Feature 19: 0.12096603401529127\n",
      "Feature 20: 0.01891312335295399\n",
      "Feature 21: 0.012060921027338013\n",
      "Feature 22: 0.1522004290793521\n",
      "Feature 23: 0.15121919020051838\n",
      "Feature 24: 0.04680442071417261\n",
      "Feature 25: 0.00018771126655005424\n",
      "Feature 26: 0.0\n",
      "Feature 27: 0.00014833188368405968\n",
      "Feature 28: 0.0037637134969458817\n",
      "Feature 29: 0.004639711196961738\n",
      "Feature 30: 0.007200602029664871\n",
      "Feature 31: 0.023561837230539305\n",
      "Feature 32: 0.014645348586231932\n",
      "Feature 33: 0.0017637223891360826\n",
      "Feature 34: 0.0010480115602687383\n",
      "Feature 35: 0.0008103495721661317\n",
      "Feature 36: 0.000974789415006848\n",
      "Feature 37: 0.0011005170410506315\n",
      "Feature 38: 0.0007441809055021653\n",
      "Feature 39: 0.0002341950454558912\n",
      "Feature 40: 0.00013540983237189165\n",
      "Feature 41: 0.00013103039892246106\n",
      "Feature 42: 0.00011055980356074329\n",
      "Feature 43: 0.00018037933863741278\n",
      "Feature 44: 0.00022081976520509723\n",
      "Feature 45: 0.00023266749547308646\n",
      "Feature 46: 0.0003165578696801265\n",
      "Feature 47: 0.0003547254061851282\n",
      "Feature 48: 0.0003575528593247419\n",
      "Feature 49: 0.00037851761763497944\n",
      "Feature 50: 0.0004221971029443176\n",
      "Feature 51: 0.0004400560769654948\n",
      "Feature 52: 0.0004553816867030989\n",
      "Feature 53: 0.00045969449811938327\n",
      "Feature 54: 0.0004231702476519761\n",
      "Feature 55: 0.0004350065307162586\n",
      "Feature 56: 0.00038266066260372655\n",
      "Feature 57: 0.00033610017708749493\n",
      "Feature 58: 0.0003668652022412576\n",
      "Feature 59: 0.00030980455095088404\n",
      "Feature 60: 0.00026347467706092754\n",
      "Feature 61: 0.000298608831291525\n",
      "Feature 62: 0.00024232626346065041\n",
      "Feature 63: 0.00022925822718630284\n",
      "Feature 64: 0.00017349048536481414\n",
      "Feature 65: 0.00018564889937178994\n",
      "Feature 66: 0.000133073992049492\n",
      "Feature 67: 0.00017319789230596432\n",
      "Feature 68: 0.00011097924164267326\n",
      "Feature 69: 9.804615237539763e-05\n",
      "Feature 70: 9.298395549728031e-05\n",
      "Feature 71: 6.0759947291929515e-05\n",
      "Feature 72: 5.5082586818561014e-05\n",
      "Feature 73: 4.4180526287424137e-05\n",
      "Feature 74: 2.672537989996632e-05\n",
      "Feature 75: 0.0\n",
      "Feature 76: 0.0011362385222646835\n",
      "Feature 77: 9.878436940040877e-08\n",
      "Feature 78: 2.4752005974899177e-05\n",
      "Feature 79: 0.0006773668642306407\n",
      "Feature 80: 0.0011626391344083337\n",
      "Feature 81: 0.0016801033234122677\n",
      "Feature 82: 0.0012246652206465984\n",
      "Feature 83: 0.0013489890415253518\n",
      "Feature 84: 0.00016560812555888605\n",
      "Feature 85: 0.001015239358712366\n",
      "Feature 86: 0.0014484816620324856\n",
      "Feature 87: 3.421959088031357e-05\n",
      "Feature 88: 0.0005351066827083424\n",
      "Feature 89: 0.00014889466162827227\n",
      "Feature 90: 0.00032850252371086\n",
      "Feature 91: 0.00023691087929332842\n",
      "Feature 92: 0.00017949099254790848\n",
      "Feature 93: 0.0005602610432327052\n",
      "Feature 94: 2.639061006528541e-05\n",
      "Feature 95: 0.0003318870170869605\n",
      "Feature 96: 0.0001819974563940971\n",
      "Feature 97: 7.069351340178437e-05\n",
      "Feature 98: 0.0001042473559737342\n",
      "Feature 99: 0.00028085999905960756\n",
      "Feature 100: 0.0002243955688650944\n",
      "Feature 101: 0.0004490289925901177\n",
      "Feature 102: 0.0009310011965312836\n",
      "Feature 103: 0.0003359660717910955\n",
      "Feature 104: 0.00026977720588775245\n",
      "Feature 105: 6.723431829812345e-05\n",
      "Feature 106: 0.00011112558903117767\n",
      "Feature 107: 0.0007497575858643806\n",
      "Feature 108: 0.00045384713997010425\n",
      "Feature 109: 0.00020555747103537215\n",
      "Feature 110: 2.5480050276611356e-07\n",
      "Feature 111: 8.857846310177117e-07\n",
      "Feature 112: 0.0004443113380128078\n",
      "Feature 113: 0.0002973317224839328\n",
      "Feature 114: 0.00016150670267201138\n",
      "Feature 115: 0.00019266717651185205\n",
      "Feature 116: 0.00031134858795896664\n",
      "Feature 117: 0.00036588621165976225\n",
      "Feature 118: 0.000406130134227356\n",
      "Feature 119: 0.0\n",
      "Feature 120: 0.00037479255231229766\n",
      "Feature 121: 0.00034333674149348203\n",
      "Feature 122: 0.0002740525807914551\n",
      "Feature 123: 5.9718073255183386e-05\n",
      "Feature 124: 0.00011715595846526339\n",
      "Feature 125: 0.00044056021010954364\n",
      "Feature 126: 2.2200663636333398e-05\n",
      "Feature 127: 0.0001247717469770206\n",
      "Feature 128: 0.0005433880757863698\n",
      "Feature 129: 0.00016611237830944602\n",
      "Feature 130: 0.00037734639006535364\n",
      "Feature 131: 0.0009044289143161606\n",
      "Feature 132: 0.0004460766740042865\n",
      "Feature 133: 0.0002848959884546788\n",
      "Feature 134: 0.00023189033889699326\n",
      "Feature 135: 0.0005200403114794871\n",
      "Feature 136: 0.0001575293303302978\n",
      "Feature 137: 0.0002401580144953565\n",
      "Feature 138: 9.598074465181382e-05\n",
      "Feature 139: 0.00034481935527082714\n",
      "Feature 140: 0.0006646209149254223\n",
      "Feature 141: 0.0002164901720436293\n",
      "Feature 142: 0.0005015611430898\n",
      "Feature 143: 5.7194786308161535e-05\n",
      "Feature 144: 0.0003281104562163497\n",
      "Feature 145: 0.0002728737196115393\n",
      "Feature 146: 0.00016350272678168927\n",
      "Feature 147: 6.861767230514918e-05\n",
      "Feature 148: 0.0017382795219759903\n",
      "Feature 149: 0.0018214988291675764\n"
     ]
    }
   ],
   "source": [
    "for i, importance in enumerate(feature_importance):\n",
    "    print(f\"Feature {i+1}: {importance}\")"
   ]
  },
  {
   "cell_type": "code",
   "execution_count": 136,
   "id": "820e9d7e",
   "metadata": {},
   "outputs": [],
   "source": [
    "feat_import=pd.DataFrame(data=feature_importance,index=X_train.columns,columns=['Feature importance'])\n"
   ]
  },
  {
   "cell_type": "code",
   "execution_count": 139,
   "id": "82b93f17",
   "metadata": {},
   "outputs": [
    {
     "data": {
      "text/html": [
       "<div>\n",
       "<style scoped>\n",
       "    .dataframe tbody tr th:only-of-type {\n",
       "        vertical-align: middle;\n",
       "    }\n",
       "\n",
       "    .dataframe tbody tr th {\n",
       "        vertical-align: top;\n",
       "    }\n",
       "\n",
       "    .dataframe thead th {\n",
       "        text-align: right;\n",
       "    }\n",
       "</style>\n",
       "<table border=\"1\" class=\"dataframe\">\n",
       "  <thead>\n",
       "    <tr style=\"text-align: right;\">\n",
       "      <th></th>\n",
       "      <th>Feature importance</th>\n",
       "    </tr>\n",
       "  </thead>\n",
       "  <tbody>\n",
       "    <tr>\n",
       "      <th>recoveries</th>\n",
       "      <td>1.522004e-01</td>\n",
       "    </tr>\n",
       "    <tr>\n",
       "      <th>collection_recovery_fee</th>\n",
       "      <td>1.512192e-01</td>\n",
       "    </tr>\n",
       "    <tr>\n",
       "      <th>total_rec_prncp</th>\n",
       "      <td>1.209660e-01</td>\n",
       "    </tr>\n",
       "    <tr>\n",
       "      <th>total_pymnt</th>\n",
       "      <td>5.421130e-02</td>\n",
       "    </tr>\n",
       "    <tr>\n",
       "      <th>out_prncp_inv</th>\n",
       "      <td>5.279822e-02</td>\n",
       "    </tr>\n",
       "    <tr>\n",
       "      <th>out_prncp</th>\n",
       "      <td>5.273339e-02</td>\n",
       "    </tr>\n",
       "    <tr>\n",
       "      <th>total_pymnt_inv</th>\n",
       "      <td>4.710543e-02</td>\n",
       "    </tr>\n",
       "    <tr>\n",
       "      <th>last_pymnt_amnt</th>\n",
       "      <td>4.680442e-02</td>\n",
       "    </tr>\n",
       "    <tr>\n",
       "      <th>installment</th>\n",
       "      <td>3.612341e-02</td>\n",
       "    </tr>\n",
       "    <tr>\n",
       "      <th>funded_amnt</th>\n",
       "      <td>3.589664e-02</td>\n",
       "    </tr>\n",
       "    <tr>\n",
       "      <th>funded_amnt_inv</th>\n",
       "      <td>3.173853e-02</td>\n",
       "    </tr>\n",
       "    <tr>\n",
       "      <th>loan_amnt</th>\n",
       "      <td>2.796641e-02</td>\n",
       "    </tr>\n",
       "    <tr>\n",
       "      <th>mths_since_issue_d</th>\n",
       "      <td>2.356184e-02</td>\n",
       "    </tr>\n",
       "    <tr>\n",
       "      <th>total_rec_int</th>\n",
       "      <td>1.891312e-02</td>\n",
       "    </tr>\n",
       "    <tr>\n",
       "      <th>mths_since_last_cr</th>\n",
       "      <td>1.464535e-02</td>\n",
       "    </tr>\n",
       "    <tr>\n",
       "      <th>total_rec_late_fee</th>\n",
       "      <td>1.206092e-02</td>\n",
       "    </tr>\n",
       "    <tr>\n",
       "      <th>int_rate</th>\n",
       "      <td>1.056843e-02</td>\n",
       "    </tr>\n",
       "    <tr>\n",
       "      <th>revol_bal</th>\n",
       "      <td>8.060961e-03</td>\n",
       "    </tr>\n",
       "    <tr>\n",
       "      <th>dti</th>\n",
       "      <td>7.911180e-03</td>\n",
       "    </tr>\n",
       "    <tr>\n",
       "      <th>revol_util</th>\n",
       "      <td>7.480675e-03</td>\n",
       "    </tr>\n",
       "    <tr>\n",
       "      <th>annual_inc</th>\n",
       "      <td>7.403732e-03</td>\n",
       "    </tr>\n",
       "    <tr>\n",
       "      <th>mths_since_earlst_cr_l</th>\n",
       "      <td>7.200602e-03</td>\n",
       "    </tr>\n",
       "    <tr>\n",
       "      <th>total_acc</th>\n",
       "      <td>6.097864e-03</td>\n",
       "    </tr>\n",
       "    <tr>\n",
       "      <th>open_acc</th>\n",
       "      <td>5.479608e-03</td>\n",
       "    </tr>\n",
       "    <tr>\n",
       "      <th>term_int</th>\n",
       "      <td>4.639711e-03</td>\n",
       "    </tr>\n",
       "    <tr>\n",
       "      <th>emp_length_int</th>\n",
       "      <td>3.763713e-03</td>\n",
       "    </tr>\n",
       "    <tr>\n",
       "      <th>inq_last_6mths</th>\n",
       "      <td>3.005529e-03</td>\n",
       "    </tr>\n",
       "    <tr>\n",
       "      <th>initial_list_status:w</th>\n",
       "      <td>1.821499e-03</td>\n",
       "    </tr>\n",
       "    <tr>\n",
       "      <th>delinq_2yrs</th>\n",
       "      <td>1.797709e-03</td>\n",
       "    </tr>\n",
       "    <tr>\n",
       "      <th>grade:A</th>\n",
       "      <td>1.763722e-03</td>\n",
       "    </tr>\n",
       "    <tr>\n",
       "      <th>initial_list_status:f</th>\n",
       "      <td>1.738280e-03</td>\n",
       "    </tr>\n",
       "    <tr>\n",
       "      <th>verification_status:Not Verified</th>\n",
       "      <td>1.680103e-03</td>\n",
       "    </tr>\n",
       "    <tr>\n",
       "      <th>purpose:debt_consolidation</th>\n",
       "      <td>1.448482e-03</td>\n",
       "    </tr>\n",
       "    <tr>\n",
       "      <th>verification_status:Verified</th>\n",
       "      <td>1.348989e-03</td>\n",
       "    </tr>\n",
       "    <tr>\n",
       "      <th>verification_status:Source Verified</th>\n",
       "      <td>1.224665e-03</td>\n",
       "    </tr>\n",
       "    <tr>\n",
       "      <th>pub_rec</th>\n",
       "      <td>1.213177e-03</td>\n",
       "    </tr>\n",
       "    <tr>\n",
       "      <th>home_ownership:RENT</th>\n",
       "      <td>1.162639e-03</td>\n",
       "    </tr>\n",
       "    <tr>\n",
       "      <th>home_ownership:MORTGAGE</th>\n",
       "      <td>1.136239e-03</td>\n",
       "    </tr>\n",
       "    <tr>\n",
       "      <th>grade:E</th>\n",
       "      <td>1.100517e-03</td>\n",
       "    </tr>\n",
       "    <tr>\n",
       "      <th>grade:B</th>\n",
       "      <td>1.048012e-03</td>\n",
       "    </tr>\n",
       "    <tr>\n",
       "      <th>purpose:credit_card</th>\n",
       "      <td>1.015239e-03</td>\n",
       "    </tr>\n",
       "    <tr>\n",
       "      <th>grade:D</th>\n",
       "      <td>9.747894e-04</td>\n",
       "    </tr>\n",
       "    <tr>\n",
       "      <th>addr_state:CA</th>\n",
       "      <td>9.310012e-04</td>\n",
       "    </tr>\n",
       "    <tr>\n",
       "      <th>addr_state:NY</th>\n",
       "      <td>9.044289e-04</td>\n",
       "    </tr>\n",
       "    <tr>\n",
       "      <th>grade:C</th>\n",
       "      <td>8.103496e-04</td>\n",
       "    </tr>\n",
       "    <tr>\n",
       "      <th>addr_state:FL</th>\n",
       "      <td>7.497576e-04</td>\n",
       "    </tr>\n",
       "    <tr>\n",
       "      <th>grade:F</th>\n",
       "      <td>7.441809e-04</td>\n",
       "    </tr>\n",
       "    <tr>\n",
       "      <th>home_ownership:OWN</th>\n",
       "      <td>6.773669e-04</td>\n",
       "    </tr>\n",
       "    <tr>\n",
       "      <th>addr_state:TX</th>\n",
       "      <td>6.646209e-04</td>\n",
       "    </tr>\n",
       "    <tr>\n",
       "      <th>purpose:other</th>\n",
       "      <td>5.602610e-04</td>\n",
       "    </tr>\n",
       "    <tr>\n",
       "      <th>addr_state:NJ</th>\n",
       "      <td>5.433881e-04</td>\n",
       "    </tr>\n",
       "    <tr>\n",
       "      <th>purpose:home_improvement</th>\n",
       "      <td>5.351067e-04</td>\n",
       "    </tr>\n",
       "    <tr>\n",
       "      <th>addr_state:PA</th>\n",
       "      <td>5.200403e-04</td>\n",
       "    </tr>\n",
       "    <tr>\n",
       "      <th>addr_state:VA</th>\n",
       "      <td>5.015611e-04</td>\n",
       "    </tr>\n",
       "    <tr>\n",
       "      <th>sub-grade:C4</th>\n",
       "      <td>4.596945e-04</td>\n",
       "    </tr>\n",
       "    <tr>\n",
       "      <th>sub-grade:C3</th>\n",
       "      <td>4.553817e-04</td>\n",
       "    </tr>\n",
       "    <tr>\n",
       "      <th>addr_state:GA</th>\n",
       "      <td>4.538471e-04</td>\n",
       "    </tr>\n",
       "    <tr>\n",
       "      <th>addr_state:AZ</th>\n",
       "      <td>4.490290e-04</td>\n",
       "    </tr>\n",
       "    <tr>\n",
       "      <th>addr_state:OH</th>\n",
       "      <td>4.460767e-04</td>\n",
       "    </tr>\n",
       "    <tr>\n",
       "      <th>addr_state:IL</th>\n",
       "      <td>4.443113e-04</td>\n",
       "    </tr>\n",
       "    <tr>\n",
       "      <th>addr_state:NC</th>\n",
       "      <td>4.405602e-04</td>\n",
       "    </tr>\n",
       "    <tr>\n",
       "      <th>sub-grade:C2</th>\n",
       "      <td>4.400561e-04</td>\n",
       "    </tr>\n",
       "    <tr>\n",
       "      <th>sub-grade:D1</th>\n",
       "      <td>4.350065e-04</td>\n",
       "    </tr>\n",
       "    <tr>\n",
       "      <th>sub-grade:C5</th>\n",
       "      <td>4.231702e-04</td>\n",
       "    </tr>\n",
       "    <tr>\n",
       "      <th>sub-grade:C1</th>\n",
       "      <td>4.221971e-04</td>\n",
       "    </tr>\n",
       "    <tr>\n",
       "      <th>addr_state:MD</th>\n",
       "      <td>4.061301e-04</td>\n",
       "    </tr>\n",
       "    <tr>\n",
       "      <th>sub-grade:D2</th>\n",
       "      <td>3.826607e-04</td>\n",
       "    </tr>\n",
       "    <tr>\n",
       "      <th>sub-grade:B5</th>\n",
       "      <td>3.785176e-04</td>\n",
       "    </tr>\n",
       "    <tr>\n",
       "      <th>addr_state:NV</th>\n",
       "      <td>3.773464e-04</td>\n",
       "    </tr>\n",
       "    <tr>\n",
       "      <th>addr_state:MI</th>\n",
       "      <td>3.747926e-04</td>\n",
       "    </tr>\n",
       "    <tr>\n",
       "      <th>sub-grade:D4</th>\n",
       "      <td>3.668652e-04</td>\n",
       "    </tr>\n",
       "    <tr>\n",
       "      <th>addr_state:MA</th>\n",
       "      <td>3.658862e-04</td>\n",
       "    </tr>\n",
       "    <tr>\n",
       "      <th>sub-grade:B4</th>\n",
       "      <td>3.575529e-04</td>\n",
       "    </tr>\n",
       "    <tr>\n",
       "      <th>sub-grade:B3</th>\n",
       "      <td>3.547254e-04</td>\n",
       "    </tr>\n",
       "    <tr>\n",
       "      <th>addr_state:TN</th>\n",
       "      <td>3.448194e-04</td>\n",
       "    </tr>\n",
       "    <tr>\n",
       "      <th>addr_state:MN</th>\n",
       "      <td>3.433367e-04</td>\n",
       "    </tr>\n",
       "    <tr>\n",
       "      <th>sub-grade:D3</th>\n",
       "      <td>3.361002e-04</td>\n",
       "    </tr>\n",
       "    <tr>\n",
       "      <th>addr_state:CO</th>\n",
       "      <td>3.359661e-04</td>\n",
       "    </tr>\n",
       "    <tr>\n",
       "      <th>purpose:small_business</th>\n",
       "      <td>3.318870e-04</td>\n",
       "    </tr>\n",
       "    <tr>\n",
       "      <th>purpose:major_purchase</th>\n",
       "      <td>3.285025e-04</td>\n",
       "    </tr>\n",
       "    <tr>\n",
       "      <th>addr_state:WA</th>\n",
       "      <td>3.281105e-04</td>\n",
       "    </tr>\n",
       "    <tr>\n",
       "      <th>sub-grade:B2</th>\n",
       "      <td>3.165579e-04</td>\n",
       "    </tr>\n",
       "    <tr>\n",
       "      <th>addr_state:LA</th>\n",
       "      <td>3.113486e-04</td>\n",
       "    </tr>\n",
       "    <tr>\n",
       "      <th>sub-grade:D5</th>\n",
       "      <td>3.098046e-04</td>\n",
       "    </tr>\n",
       "    <tr>\n",
       "      <th>sub-grade:E2</th>\n",
       "      <td>2.986088e-04</td>\n",
       "    </tr>\n",
       "    <tr>\n",
       "      <th>addr_state:IN</th>\n",
       "      <td>2.973317e-04</td>\n",
       "    </tr>\n",
       "    <tr>\n",
       "      <th>addr_state:OK</th>\n",
       "      <td>2.848960e-04</td>\n",
       "    </tr>\n",
       "    <tr>\n",
       "      <th>addr_state:AL</th>\n",
       "      <td>2.808600e-04</td>\n",
       "    </tr>\n",
       "    <tr>\n",
       "      <th>addr_state:MO</th>\n",
       "      <td>2.740526e-04</td>\n",
       "    </tr>\n",
       "    <tr>\n",
       "      <th>addr_state:WI</th>\n",
       "      <td>2.728737e-04</td>\n",
       "    </tr>\n",
       "    <tr>\n",
       "      <th>addr_state:CT</th>\n",
       "      <td>2.697772e-04</td>\n",
       "    </tr>\n",
       "    <tr>\n",
       "      <th>sub-grade:E1</th>\n",
       "      <td>2.634747e-04</td>\n",
       "    </tr>\n",
       "    <tr>\n",
       "      <th>sub-grade:E3</th>\n",
       "      <td>2.423263e-04</td>\n",
       "    </tr>\n",
       "    <tr>\n",
       "      <th>addr_state:SC</th>\n",
       "      <td>2.401580e-04</td>\n",
       "    </tr>\n",
       "    <tr>\n",
       "      <th>purpose:medical</th>\n",
       "      <td>2.369109e-04</td>\n",
       "    </tr>\n",
       "    <tr>\n",
       "      <th>grade:G</th>\n",
       "      <td>2.341950e-04</td>\n",
       "    </tr>\n",
       "    <tr>\n",
       "      <th>sub-grade:B1</th>\n",
       "      <td>2.326675e-04</td>\n",
       "    </tr>\n",
       "    <tr>\n",
       "      <th>addr_state:OR</th>\n",
       "      <td>2.318903e-04</td>\n",
       "    </tr>\n",
       "    <tr>\n",
       "      <th>sub-grade:E4</th>\n",
       "      <td>2.292582e-04</td>\n",
       "    </tr>\n",
       "    <tr>\n",
       "      <th>addr_state:AR</th>\n",
       "      <td>2.243956e-04</td>\n",
       "    </tr>\n",
       "    <tr>\n",
       "      <th>sub-grade:A5</th>\n",
       "      <td>2.208198e-04</td>\n",
       "    </tr>\n",
       "    <tr>\n",
       "      <th>addr_state:UT</th>\n",
       "      <td>2.164902e-04</td>\n",
       "    </tr>\n",
       "    <tr>\n",
       "      <th>addr_state:HI</th>\n",
       "      <td>2.055575e-04</td>\n",
       "    </tr>\n",
       "    <tr>\n",
       "      <th>addr_state:KY</th>\n",
       "      <td>1.926672e-04</td>\n",
       "    </tr>\n",
       "    <tr>\n",
       "      <th>collections_12_mths_ex_med</th>\n",
       "      <td>1.877113e-04</td>\n",
       "    </tr>\n",
       "    <tr>\n",
       "      <th>sub-grade:F1</th>\n",
       "      <td>1.856489e-04</td>\n",
       "    </tr>\n",
       "    <tr>\n",
       "      <th>purpose:vacation</th>\n",
       "      <td>1.819975e-04</td>\n",
       "    </tr>\n",
       "    <tr>\n",
       "      <th>sub-grade:A4</th>\n",
       "      <td>1.803793e-04</td>\n",
       "    </tr>\n",
       "    <tr>\n",
       "      <th>purpose:moving</th>\n",
       "      <td>1.794910e-04</td>\n",
       "    </tr>\n",
       "    <tr>\n",
       "      <th>sub-grade:E5</th>\n",
       "      <td>1.734905e-04</td>\n",
       "    </tr>\n",
       "    <tr>\n",
       "      <th>sub-grade:F3</th>\n",
       "      <td>1.731979e-04</td>\n",
       "    </tr>\n",
       "    <tr>\n",
       "      <th>addr_state:NM</th>\n",
       "      <td>1.661124e-04</td>\n",
       "    </tr>\n",
       "    <tr>\n",
       "      <th>purpose:car</th>\n",
       "      <td>1.656081e-04</td>\n",
       "    </tr>\n",
       "    <tr>\n",
       "      <th>addr_state:WV</th>\n",
       "      <td>1.635027e-04</td>\n",
       "    </tr>\n",
       "    <tr>\n",
       "      <th>addr_state:KS</th>\n",
       "      <td>1.615067e-04</td>\n",
       "    </tr>\n",
       "    <tr>\n",
       "      <th>addr_state:RI</th>\n",
       "      <td>1.575293e-04</td>\n",
       "    </tr>\n",
       "    <tr>\n",
       "      <th>purpose:house</th>\n",
       "      <td>1.488947e-04</td>\n",
       "    </tr>\n",
       "    <tr>\n",
       "      <th>acc_now_delinq</th>\n",
       "      <td>1.483319e-04</td>\n",
       "    </tr>\n",
       "    <tr>\n",
       "      <th>sub-grade:A1</th>\n",
       "      <td>1.354098e-04</td>\n",
       "    </tr>\n",
       "    <tr>\n",
       "      <th>sub-grade:F2</th>\n",
       "      <td>1.330740e-04</td>\n",
       "    </tr>\n",
       "    <tr>\n",
       "      <th>sub-grade:A2</th>\n",
       "      <td>1.310304e-04</td>\n",
       "    </tr>\n",
       "    <tr>\n",
       "      <th>addr_state:NH</th>\n",
       "      <td>1.247717e-04</td>\n",
       "    </tr>\n",
       "    <tr>\n",
       "      <th>addr_state:MT</th>\n",
       "      <td>1.171560e-04</td>\n",
       "    </tr>\n",
       "    <tr>\n",
       "      <th>addr_state:DE</th>\n",
       "      <td>1.111256e-04</td>\n",
       "    </tr>\n",
       "    <tr>\n",
       "      <th>sub-grade:F4</th>\n",
       "      <td>1.109792e-04</td>\n",
       "    </tr>\n",
       "    <tr>\n",
       "      <th>sub-grade:A3</th>\n",
       "      <td>1.105598e-04</td>\n",
       "    </tr>\n",
       "    <tr>\n",
       "      <th>addr_state:AK</th>\n",
       "      <td>1.042474e-04</td>\n",
       "    </tr>\n",
       "    <tr>\n",
       "      <th>sub-grade:F5</th>\n",
       "      <td>9.804615e-05</td>\n",
       "    </tr>\n",
       "    <tr>\n",
       "      <th>addr_state:SD</th>\n",
       "      <td>9.598074e-05</td>\n",
       "    </tr>\n",
       "    <tr>\n",
       "      <th>sub-grade:G1</th>\n",
       "      <td>9.298396e-05</td>\n",
       "    </tr>\n",
       "    <tr>\n",
       "      <th>purpose:wedding</th>\n",
       "      <td>7.069351e-05</td>\n",
       "    </tr>\n",
       "    <tr>\n",
       "      <th>addr_state:WY</th>\n",
       "      <td>6.861767e-05</td>\n",
       "    </tr>\n",
       "    <tr>\n",
       "      <th>addr_state:DC</th>\n",
       "      <td>6.723432e-05</td>\n",
       "    </tr>\n",
       "    <tr>\n",
       "      <th>sub-grade:G2</th>\n",
       "      <td>6.075995e-05</td>\n",
       "    </tr>\n",
       "    <tr>\n",
       "      <th>addr_state:MS</th>\n",
       "      <td>5.971807e-05</td>\n",
       "    </tr>\n",
       "    <tr>\n",
       "      <th>addr_state:VT</th>\n",
       "      <td>5.719479e-05</td>\n",
       "    </tr>\n",
       "    <tr>\n",
       "      <th>sub-grade:G3</th>\n",
       "      <td>5.508259e-05</td>\n",
       "    </tr>\n",
       "    <tr>\n",
       "      <th>sub-grade:G4</th>\n",
       "      <td>4.418053e-05</td>\n",
       "    </tr>\n",
       "    <tr>\n",
       "      <th>purpose:educational</th>\n",
       "      <td>3.421959e-05</td>\n",
       "    </tr>\n",
       "    <tr>\n",
       "      <th>sub-grade:G5</th>\n",
       "      <td>2.672538e-05</td>\n",
       "    </tr>\n",
       "    <tr>\n",
       "      <th>purpose:renewable_energy</th>\n",
       "      <td>2.639061e-05</td>\n",
       "    </tr>\n",
       "    <tr>\n",
       "      <th>home_ownership:OTHER</th>\n",
       "      <td>2.475201e-05</td>\n",
       "    </tr>\n",
       "    <tr>\n",
       "      <th>addr_state:NE</th>\n",
       "      <td>2.220066e-05</td>\n",
       "    </tr>\n",
       "    <tr>\n",
       "      <th>addr_state:ID</th>\n",
       "      <td>8.857846e-07</td>\n",
       "    </tr>\n",
       "    <tr>\n",
       "      <th>addr_state:IA</th>\n",
       "      <td>2.548005e-07</td>\n",
       "    </tr>\n",
       "    <tr>\n",
       "      <th>home_ownership:NONE</th>\n",
       "      <td>9.878437e-08</td>\n",
       "    </tr>\n",
       "    <tr>\n",
       "      <th>addr_state:ME</th>\n",
       "      <td>0.000000e+00</td>\n",
       "    </tr>\n",
       "    <tr>\n",
       "      <th>policy_code</th>\n",
       "      <td>0.000000e+00</td>\n",
       "    </tr>\n",
       "    <tr>\n",
       "      <th>home_ownership:ANY</th>\n",
       "      <td>0.000000e+00</td>\n",
       "    </tr>\n",
       "  </tbody>\n",
       "</table>\n",
       "</div>"
      ],
      "text/plain": [
       "                                     Feature importance\n",
       "recoveries                                 1.522004e-01\n",
       "collection_recovery_fee                    1.512192e-01\n",
       "total_rec_prncp                            1.209660e-01\n",
       "total_pymnt                                5.421130e-02\n",
       "out_prncp_inv                              5.279822e-02\n",
       "out_prncp                                  5.273339e-02\n",
       "total_pymnt_inv                            4.710543e-02\n",
       "last_pymnt_amnt                            4.680442e-02\n",
       "installment                                3.612341e-02\n",
       "funded_amnt                                3.589664e-02\n",
       "funded_amnt_inv                            3.173853e-02\n",
       "loan_amnt                                  2.796641e-02\n",
       "mths_since_issue_d                         2.356184e-02\n",
       "total_rec_int                              1.891312e-02\n",
       "mths_since_last_cr                         1.464535e-02\n",
       "total_rec_late_fee                         1.206092e-02\n",
       "int_rate                                   1.056843e-02\n",
       "revol_bal                                  8.060961e-03\n",
       "dti                                        7.911180e-03\n",
       "revol_util                                 7.480675e-03\n",
       "annual_inc                                 7.403732e-03\n",
       "mths_since_earlst_cr_l                     7.200602e-03\n",
       "total_acc                                  6.097864e-03\n",
       "open_acc                                   5.479608e-03\n",
       "term_int                                   4.639711e-03\n",
       "emp_length_int                             3.763713e-03\n",
       "inq_last_6mths                             3.005529e-03\n",
       "initial_list_status:w                      1.821499e-03\n",
       "delinq_2yrs                                1.797709e-03\n",
       "grade:A                                    1.763722e-03\n",
       "initial_list_status:f                      1.738280e-03\n",
       "verification_status:Not Verified           1.680103e-03\n",
       "purpose:debt_consolidation                 1.448482e-03\n",
       "verification_status:Verified               1.348989e-03\n",
       "verification_status:Source Verified        1.224665e-03\n",
       "pub_rec                                    1.213177e-03\n",
       "home_ownership:RENT                        1.162639e-03\n",
       "home_ownership:MORTGAGE                    1.136239e-03\n",
       "grade:E                                    1.100517e-03\n",
       "grade:B                                    1.048012e-03\n",
       "purpose:credit_card                        1.015239e-03\n",
       "grade:D                                    9.747894e-04\n",
       "addr_state:CA                              9.310012e-04\n",
       "addr_state:NY                              9.044289e-04\n",
       "grade:C                                    8.103496e-04\n",
       "addr_state:FL                              7.497576e-04\n",
       "grade:F                                    7.441809e-04\n",
       "home_ownership:OWN                         6.773669e-04\n",
       "addr_state:TX                              6.646209e-04\n",
       "purpose:other                              5.602610e-04\n",
       "addr_state:NJ                              5.433881e-04\n",
       "purpose:home_improvement                   5.351067e-04\n",
       "addr_state:PA                              5.200403e-04\n",
       "addr_state:VA                              5.015611e-04\n",
       "sub-grade:C4                               4.596945e-04\n",
       "sub-grade:C3                               4.553817e-04\n",
       "addr_state:GA                              4.538471e-04\n",
       "addr_state:AZ                              4.490290e-04\n",
       "addr_state:OH                              4.460767e-04\n",
       "addr_state:IL                              4.443113e-04\n",
       "addr_state:NC                              4.405602e-04\n",
       "sub-grade:C2                               4.400561e-04\n",
       "sub-grade:D1                               4.350065e-04\n",
       "sub-grade:C5                               4.231702e-04\n",
       "sub-grade:C1                               4.221971e-04\n",
       "addr_state:MD                              4.061301e-04\n",
       "sub-grade:D2                               3.826607e-04\n",
       "sub-grade:B5                               3.785176e-04\n",
       "addr_state:NV                              3.773464e-04\n",
       "addr_state:MI                              3.747926e-04\n",
       "sub-grade:D4                               3.668652e-04\n",
       "addr_state:MA                              3.658862e-04\n",
       "sub-grade:B4                               3.575529e-04\n",
       "sub-grade:B3                               3.547254e-04\n",
       "addr_state:TN                              3.448194e-04\n",
       "addr_state:MN                              3.433367e-04\n",
       "sub-grade:D3                               3.361002e-04\n",
       "addr_state:CO                              3.359661e-04\n",
       "purpose:small_business                     3.318870e-04\n",
       "purpose:major_purchase                     3.285025e-04\n",
       "addr_state:WA                              3.281105e-04\n",
       "sub-grade:B2                               3.165579e-04\n",
       "addr_state:LA                              3.113486e-04\n",
       "sub-grade:D5                               3.098046e-04\n",
       "sub-grade:E2                               2.986088e-04\n",
       "addr_state:IN                              2.973317e-04\n",
       "addr_state:OK                              2.848960e-04\n",
       "addr_state:AL                              2.808600e-04\n",
       "addr_state:MO                              2.740526e-04\n",
       "addr_state:WI                              2.728737e-04\n",
       "addr_state:CT                              2.697772e-04\n",
       "sub-grade:E1                               2.634747e-04\n",
       "sub-grade:E3                               2.423263e-04\n",
       "addr_state:SC                              2.401580e-04\n",
       "purpose:medical                            2.369109e-04\n",
       "grade:G                                    2.341950e-04\n",
       "sub-grade:B1                               2.326675e-04\n",
       "addr_state:OR                              2.318903e-04\n",
       "sub-grade:E4                               2.292582e-04\n",
       "addr_state:AR                              2.243956e-04\n",
       "sub-grade:A5                               2.208198e-04\n",
       "addr_state:UT                              2.164902e-04\n",
       "addr_state:HI                              2.055575e-04\n",
       "addr_state:KY                              1.926672e-04\n",
       "collections_12_mths_ex_med                 1.877113e-04\n",
       "sub-grade:F1                               1.856489e-04\n",
       "purpose:vacation                           1.819975e-04\n",
       "sub-grade:A4                               1.803793e-04\n",
       "purpose:moving                             1.794910e-04\n",
       "sub-grade:E5                               1.734905e-04\n",
       "sub-grade:F3                               1.731979e-04\n",
       "addr_state:NM                              1.661124e-04\n",
       "purpose:car                                1.656081e-04\n",
       "addr_state:WV                              1.635027e-04\n",
       "addr_state:KS                              1.615067e-04\n",
       "addr_state:RI                              1.575293e-04\n",
       "purpose:house                              1.488947e-04\n",
       "acc_now_delinq                             1.483319e-04\n",
       "sub-grade:A1                               1.354098e-04\n",
       "sub-grade:F2                               1.330740e-04\n",
       "sub-grade:A2                               1.310304e-04\n",
       "addr_state:NH                              1.247717e-04\n",
       "addr_state:MT                              1.171560e-04\n",
       "addr_state:DE                              1.111256e-04\n",
       "sub-grade:F4                               1.109792e-04\n",
       "sub-grade:A3                               1.105598e-04\n",
       "addr_state:AK                              1.042474e-04\n",
       "sub-grade:F5                               9.804615e-05\n",
       "addr_state:SD                              9.598074e-05\n",
       "sub-grade:G1                               9.298396e-05\n",
       "purpose:wedding                            7.069351e-05\n",
       "addr_state:WY                              6.861767e-05\n",
       "addr_state:DC                              6.723432e-05\n",
       "sub-grade:G2                               6.075995e-05\n",
       "addr_state:MS                              5.971807e-05\n",
       "addr_state:VT                              5.719479e-05\n",
       "sub-grade:G3                               5.508259e-05\n",
       "sub-grade:G4                               4.418053e-05\n",
       "purpose:educational                        3.421959e-05\n",
       "sub-grade:G5                               2.672538e-05\n",
       "purpose:renewable_energy                   2.639061e-05\n",
       "home_ownership:OTHER                       2.475201e-05\n",
       "addr_state:NE                              2.220066e-05\n",
       "addr_state:ID                              8.857846e-07\n",
       "addr_state:IA                              2.548005e-07\n",
       "home_ownership:NONE                        9.878437e-08\n",
       "addr_state:ME                              0.000000e+00\n",
       "policy_code                                0.000000e+00\n",
       "home_ownership:ANY                         0.000000e+00"
      ]
     },
     "execution_count": 139,
     "metadata": {},
     "output_type": "execute_result"
    }
   ],
   "source": [
    "#Below is the descending orede of the feature importance\n",
    "feat_import.sort_values(by=['Feature importance'],ascending=False)"
   ]
  },
  {
   "cell_type": "code",
   "execution_count": null,
   "id": "ff97949a",
   "metadata": {},
   "outputs": [],
   "source": []
  }
 ],
 "metadata": {
  "kernelspec": {
   "display_name": "Python 3",
   "language": "python",
   "name": "python3"
  },
  "language_info": {
   "codemirror_mode": {
    "name": "ipython",
    "version": 3
   },
   "file_extension": ".py",
   "mimetype": "text/x-python",
   "name": "python",
   "nbconvert_exporter": "python",
   "pygments_lexer": "ipython3",
   "version": "3.8.8"
  }
 },
 "nbformat": 4,
 "nbformat_minor": 5
}
